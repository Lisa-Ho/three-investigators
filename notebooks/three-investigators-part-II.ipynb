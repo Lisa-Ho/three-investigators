{
 "cells": [
  {
   "cell_type": "markdown",
   "metadata": {},
   "source": [
    "# Three investigators - part II\n",
    "\n",
    "A project for scraping and analysing data from a fan site on the audio book called '[The three investigators](https://en.wikipedia.org/wiki/Three_Investigators#Germany)'\n",
    "\n",
    "Part II: Analysis\n",
    "\n",
    "- additional data cleaning and preparing for analysis\n",
    "- using [Genderize API](https://github.com/SteelPangolin/genderize) to predict gender of actors using first names\n",
    "- descriptive analysis of data\n",
    "- prediction of episode ratings"
   ]
  },
  {
   "cell_type": "markdown",
   "metadata": {},
   "source": [
    "# Setup"
   ]
  },
  {
   "cell_type": "code",
   "execution_count": 1,
   "metadata": {},
   "outputs": [
    {
     "name": "stdout",
     "output_type": "stream",
     "text": [
      "3.7.5\n"
     ]
    }
   ],
   "source": [
    "#python version used for this project\n",
    "from platform import python_version\n",
    "print(python_version())"
   ]
  },
  {
   "cell_type": "code",
   "execution_count": 1,
   "metadata": {},
   "outputs": [],
   "source": [
    "# import modules [as specified in requirements.txt]\n",
    "import pandas as pd\n",
    "import numpy as np\n",
    "import re\n",
    "import requests\n",
    "\n",
    "# for file directories\n",
    "import os\n",
    "\n",
    "%matplotlib inline"
   ]
  },
  {
   "cell_type": "code",
   "execution_count": 2,
   "metadata": {},
   "outputs": [],
   "source": [
    "#change directory to root folder\n",
    "os.chdir(\"..\")"
   ]
  },
  {
   "cell_type": "code",
   "execution_count": 3,
   "metadata": {},
   "outputs": [],
   "source": [
    "#load script to work with Genderize API (download [here](https://github.com/SteelPangolin/genderize))\n",
    "#this will require to have requests imported\n",
    "from src.genderize import Genderize"
   ]
  },
  {
   "cell_type": "markdown",
   "metadata": {},
   "source": [
    "# Load data"
   ]
  },
  {
   "cell_type": "code",
   "execution_count": 4,
   "metadata": {},
   "outputs": [],
   "source": [
    "meta = pd.read_csv(\".\\\\data\\\\scraped\\\\meta.csv\")\n",
    "actors = pd.read_csv(\".\\\\data\\\\scraped\\\\actor_all.csv\")\n",
    "content = pd.read_csv(\".\\\\data\\\\scraped\\\\content_all.csv\")\n",
    "rating = pd.read_csv(\".\\\\data\\\\scraped\\\\rating.csv\")"
   ]
  },
  {
   "cell_type": "code",
   "execution_count": 5,
   "metadata": {},
   "outputs": [
    {
     "data": {
      "text/plain": [
       "(205, 44)"
      ]
     },
     "execution_count": 5,
     "metadata": {},
     "output_type": "execute_result"
    }
   ],
   "source": [
    "meta.shape"
   ]
  },
  {
   "cell_type": "markdown",
   "metadata": {},
   "source": [
    "# Data cleaning and prep"
   ]
  },
  {
   "cell_type": "markdown",
   "metadata": {},
   "source": [
    "## Predict actors' gender"
   ]
  },
  {
   "cell_type": "code",
   "execution_count": 6,
   "metadata": {},
   "outputs": [
    {
     "ename": "GenderizeException",
     "evalue": "('Request limit too low to process request', 429, {'Server': 'nginx/1.16.1', 'Date': 'Thu, 24 Sep 2020 19:26:06 GMT', 'Content-Type': 'application/json; charset=utf-8', 'Content-Length': '52', 'Connection': 'keep-alive', 'Access-Control-Allow-Origin': '*', 'Access-Control-Allow-Methods': 'GET', 'Access-Control-Allow-Headers': 'Content-Type, X-Genderize-Source', 'X-Rate-Limit-Limit': '1000', 'X-Rate-Reset': '16433', 'X-Rate-Limit-Remaining': '4', 'ETag': 'W/\"34-6zB0LTM5onKr49ShxR6lCk/zFcE\"'})",
     "output_type": "error",
     "traceback": [
      "\u001b[1;31m---------------------------------------------------------------------------\u001b[0m",
      "\u001b[1;31mGenderizeException\u001b[0m                        Traceback (most recent call last)",
      "\u001b[1;32m<ipython-input-6-3984c4379933>\u001b[0m in \u001b[0;36m<module>\u001b[1;34m\u001b[0m\n\u001b[0;32m      5\u001b[0m \u001b[1;33m\u001b[0m\u001b[0m\n\u001b[0;32m      6\u001b[0m \u001b[1;31m#access genderize.io api using this repository: tps://github.com/SteelPangolin/genderize\u001b[0m\u001b[1;33m\u001b[0m\u001b[1;33m\u001b[0m\u001b[1;33m\u001b[0m\u001b[0m\n\u001b[1;32m----> 7\u001b[1;33m \u001b[0mgender_raw\u001b[0m \u001b[1;33m=\u001b[0m \u001b[0mGenderize\u001b[0m\u001b[1;33m(\u001b[0m\u001b[1;33m)\u001b[0m\u001b[1;33m.\u001b[0m\u001b[0mget\u001b[0m\u001b[1;33m(\u001b[0m\u001b[0mnames_unique\u001b[0m\u001b[1;33m)\u001b[0m\u001b[1;33m\u001b[0m\u001b[1;33m\u001b[0m\u001b[0m\n\u001b[0m\u001b[0;32m      8\u001b[0m \u001b[1;33m\u001b[0m\u001b[0m\n\u001b[0;32m      9\u001b[0m \u001b[1;31m#make dictionary into data frame\u001b[0m\u001b[1;33m\u001b[0m\u001b[1;33m\u001b[0m\u001b[1;33m\u001b[0m\u001b[0m\n",
      "\u001b[1;32m~\\Documents\\Projects\\three-investigators\\src\\genderize.py\u001b[0m in \u001b[0;36mget\u001b[1;34m(self, names, country_id, language_id, retheader)\u001b[0m\n\u001b[0;32m     95\u001b[0m             \u001b[0mself\u001b[0m\u001b[1;33m.\u001b[0m\u001b[0m_get_chunk\u001b[0m\u001b[1;33m(\u001b[0m\u001b[0mname_chunk\u001b[0m\u001b[1;33m,\u001b[0m \u001b[0mcountry_id\u001b[0m\u001b[1;33m,\u001b[0m \u001b[0mlanguage_id\u001b[0m\u001b[1;33m)\u001b[0m\u001b[1;33m\u001b[0m\u001b[1;33m\u001b[0m\u001b[0m\n\u001b[0;32m     96\u001b[0m             \u001b[1;32mfor\u001b[0m \u001b[0mname_chunk\u001b[0m\u001b[1;33m\u001b[0m\u001b[1;33m\u001b[0m\u001b[0m\n\u001b[1;32m---> 97\u001b[1;33m             \u001b[1;32min\u001b[0m \u001b[0m_chunked\u001b[0m\u001b[1;33m(\u001b[0m\u001b[0mnames\u001b[0m\u001b[1;33m,\u001b[0m \u001b[0mGenderize\u001b[0m\u001b[1;33m.\u001b[0m\u001b[0mBATCH_SIZE\u001b[0m\u001b[1;33m)\u001b[0m\u001b[1;33m\u001b[0m\u001b[1;33m\u001b[0m\u001b[0m\n\u001b[0m\u001b[0;32m     98\u001b[0m         ]\n\u001b[0;32m     99\u001b[0m         data = list(chain.from_iterable(\n",
      "\u001b[1;32m~\\Documents\\Projects\\three-investigators\\src\\genderize.py\u001b[0m in \u001b[0;36m<listcomp>\u001b[1;34m(.0)\u001b[0m\n\u001b[0;32m     94\u001b[0m         responses = [\n\u001b[0;32m     95\u001b[0m             \u001b[0mself\u001b[0m\u001b[1;33m.\u001b[0m\u001b[0m_get_chunk\u001b[0m\u001b[1;33m(\u001b[0m\u001b[0mname_chunk\u001b[0m\u001b[1;33m,\u001b[0m \u001b[0mcountry_id\u001b[0m\u001b[1;33m,\u001b[0m \u001b[0mlanguage_id\u001b[0m\u001b[1;33m)\u001b[0m\u001b[1;33m\u001b[0m\u001b[1;33m\u001b[0m\u001b[0m\n\u001b[1;32m---> 96\u001b[1;33m             \u001b[1;32mfor\u001b[0m \u001b[0mname_chunk\u001b[0m\u001b[1;33m\u001b[0m\u001b[1;33m\u001b[0m\u001b[0m\n\u001b[0m\u001b[0;32m     97\u001b[0m             \u001b[1;32min\u001b[0m \u001b[0m_chunked\u001b[0m\u001b[1;33m(\u001b[0m\u001b[0mnames\u001b[0m\u001b[1;33m,\u001b[0m \u001b[0mGenderize\u001b[0m\u001b[1;33m.\u001b[0m\u001b[0mBATCH_SIZE\u001b[0m\u001b[1;33m)\u001b[0m\u001b[1;33m\u001b[0m\u001b[1;33m\u001b[0m\u001b[0m\n\u001b[0;32m     98\u001b[0m         ]\n",
      "\u001b[1;32m~\\Documents\\Projects\\three-investigators\\src\\genderize.py\u001b[0m in \u001b[0;36m_get_chunk\u001b[1;34m(self, name_chunk, country_id, language_id)\u001b[0m\n\u001b[0;32m    147\u001b[0m                 \u001b[0mdecoded\u001b[0m\u001b[1;33m[\u001b[0m\u001b[1;34m'error'\u001b[0m\u001b[1;33m]\u001b[0m\u001b[1;33m,\u001b[0m\u001b[1;33m\u001b[0m\u001b[1;33m\u001b[0m\u001b[0m\n\u001b[0;32m    148\u001b[0m                 \u001b[0mresponse\u001b[0m\u001b[1;33m.\u001b[0m\u001b[0mstatus_code\u001b[0m\u001b[1;33m,\u001b[0m\u001b[1;33m\u001b[0m\u001b[1;33m\u001b[0m\u001b[0m\n\u001b[1;32m--> 149\u001b[1;33m                 response.headers)\n\u001b[0m\u001b[0;32m    150\u001b[0m \u001b[1;33m\u001b[0m\u001b[0m\n\u001b[0;32m    151\u001b[0m     \u001b[1;32mdef\u001b[0m \u001b[0mget1\u001b[0m\u001b[1;33m(\u001b[0m\u001b[0mself\u001b[0m\u001b[1;33m,\u001b[0m \u001b[0mname\u001b[0m\u001b[1;33m,\u001b[0m \u001b[1;33m**\u001b[0m\u001b[0mkwargs\u001b[0m\u001b[1;33m)\u001b[0m\u001b[1;33m:\u001b[0m\u001b[1;33m\u001b[0m\u001b[1;33m\u001b[0m\u001b[0m\n",
      "\u001b[1;31mGenderizeException\u001b[0m: ('Request limit too low to process request', 429, {'Server': 'nginx/1.16.1', 'Date': 'Thu, 24 Sep 2020 19:26:06 GMT', 'Content-Type': 'application/json; charset=utf-8', 'Content-Length': '52', 'Connection': 'keep-alive', 'Access-Control-Allow-Origin': '*', 'Access-Control-Allow-Methods': 'GET', 'Access-Control-Allow-Headers': 'Content-Type, X-Genderize-Source', 'X-Rate-Limit-Limit': '1000', 'X-Rate-Reset': '16433', 'X-Rate-Limit-Remaining': '4', 'ETag': 'W/\"34-6zB0LTM5onKr49ShxR6lCk/zFcE\"'})"
     ]
    }
   ],
   "source": [
    "#get gender for list of firstnames from Genderize.io\n",
    "\n",
    "#get unique list of first actor names\n",
    "names_unique = list (set (actors[\"Firstname\"]))\n",
    "\n",
    "#access genderize.io api using this repository: tps://github.com/SteelPangolin/genderize\n",
    "gender_raw = Genderize().get(names_unique)\n",
    "\n",
    "#make dictionary into data frame\n",
    "gender = []\n",
    "for i in range(len(gender_raw)):\n",
    "    c = pd.DataFrame(gender_raw[i].items())[1]\n",
    "    gender.append(c)\n",
    "\n",
    "#rename columns\n",
    "gender = pd.concat(gender, axis=1).transpose().rename(columns={0:\"Name\", 1:\"Gender\", 2:\"Gender_probability\", 3:\"Gender_count\"})  \n",
    "\n",
    "#display\n",
    "gender.head()"
   ]
  },
  {
   "cell_type": "code",
   "execution_count": 16,
   "metadata": {},
   "outputs": [
    {
     "data": {
      "text/html": [
       "<div>\n",
       "<style scoped>\n",
       "    .dataframe tbody tr th:only-of-type {\n",
       "        vertical-align: middle;\n",
       "    }\n",
       "\n",
       "    .dataframe tbody tr th {\n",
       "        vertical-align: top;\n",
       "    }\n",
       "\n",
       "    .dataframe thead th {\n",
       "        text-align: right;\n",
       "    }\n",
       "</style>\n",
       "<table border=\"1\" class=\"dataframe\">\n",
       "  <thead>\n",
       "    <tr style=\"text-align: right;\">\n",
       "      <th></th>\n",
       "      <th>Role</th>\n",
       "      <th>Actor</th>\n",
       "      <th>ID</th>\n",
       "      <th>Actor_clean</th>\n",
       "      <th>Title</th>\n",
       "      <th>Firstname</th>\n",
       "      <th>Surename</th>\n",
       "      <th>No_names</th>\n",
       "      <th>Main_actor</th>\n",
       "      <th>Narrator</th>\n",
       "      <th>Gender</th>\n",
       "      <th>Gender_probability</th>\n",
       "      <th>Gender_count</th>\n",
       "    </tr>\n",
       "  </thead>\n",
       "  <tbody>\n",
       "    <tr>\n",
       "      <th>0</th>\n",
       "      <td>Hitchcock</td>\n",
       "      <td>Peter Pasetti</td>\n",
       "      <td>1</td>\n",
       "      <td>Peter Pasetti</td>\n",
       "      <td>0</td>\n",
       "      <td>Peter</td>\n",
       "      <td>Pasetti</td>\n",
       "      <td>2</td>\n",
       "      <td>0</td>\n",
       "      <td>1</td>\n",
       "      <td>male</td>\n",
       "      <td>0.99</td>\n",
       "      <td>165452</td>\n",
       "    </tr>\n",
       "    <tr>\n",
       "      <th>1</th>\n",
       "      <td>Justus Jonas</td>\n",
       "      <td>Oliver Rohrbeck</td>\n",
       "      <td>1</td>\n",
       "      <td>Oliver Rohrbeck</td>\n",
       "      <td>0</td>\n",
       "      <td>Oliver</td>\n",
       "      <td>Rohrbeck</td>\n",
       "      <td>2</td>\n",
       "      <td>1</td>\n",
       "      <td>0</td>\n",
       "      <td>male</td>\n",
       "      <td>0.99</td>\n",
       "      <td>32776</td>\n",
       "    </tr>\n",
       "    <tr>\n",
       "      <th>2</th>\n",
       "      <td>Peter Shaw</td>\n",
       "      <td>Jens Wawrczeck</td>\n",
       "      <td>1</td>\n",
       "      <td>Jens Wawrczeck</td>\n",
       "      <td>0</td>\n",
       "      <td>Jens</td>\n",
       "      <td>Wawrczeck</td>\n",
       "      <td>2</td>\n",
       "      <td>1</td>\n",
       "      <td>0</td>\n",
       "      <td>male</td>\n",
       "      <td>0.99</td>\n",
       "      <td>23807</td>\n",
       "    </tr>\n",
       "    <tr>\n",
       "      <th>3</th>\n",
       "      <td>Bob Andrews</td>\n",
       "      <td>Andreas Fröhlich</td>\n",
       "      <td>1</td>\n",
       "      <td>Andreas Fröhlich</td>\n",
       "      <td>0</td>\n",
       "      <td>Andreas</td>\n",
       "      <td>Fröhlich</td>\n",
       "      <td>2</td>\n",
       "      <td>1</td>\n",
       "      <td>0</td>\n",
       "      <td>male</td>\n",
       "      <td>0.99</td>\n",
       "      <td>71365</td>\n",
       "    </tr>\n",
       "    <tr>\n",
       "      <th>4</th>\n",
       "      <td>Mr. Fentriss, Schriftsteller</td>\n",
       "      <td>Richard Lauffen</td>\n",
       "      <td>1</td>\n",
       "      <td>Richard Lauffen</td>\n",
       "      <td>0</td>\n",
       "      <td>Richard</td>\n",
       "      <td>Lauffen</td>\n",
       "      <td>2</td>\n",
       "      <td>0</td>\n",
       "      <td>0</td>\n",
       "      <td>male</td>\n",
       "      <td>0.99</td>\n",
       "      <td>101928</td>\n",
       "    </tr>\n",
       "  </tbody>\n",
       "</table>\n",
       "</div>"
      ],
      "text/plain": [
       "                           Role             Actor  ID       Actor_clean  \\\n",
       "0                     Hitchcock     Peter Pasetti   1     Peter Pasetti   \n",
       "1                  Justus Jonas   Oliver Rohrbeck   1   Oliver Rohrbeck   \n",
       "2                    Peter Shaw    Jens Wawrczeck   1    Jens Wawrczeck   \n",
       "3                   Bob Andrews  Andreas Fröhlich   1  Andreas Fröhlich   \n",
       "4  Mr. Fentriss, Schriftsteller   Richard Lauffen   1   Richard Lauffen   \n",
       "\n",
       "   Title Firstname   Surename  No_names  Main_actor  Narrator Gender  \\\n",
       "0      0     Peter    Pasetti         2           0         1   male   \n",
       "1      0    Oliver   Rohrbeck         2           1         0   male   \n",
       "2      0      Jens  Wawrczeck         2           1         0   male   \n",
       "3      0   Andreas   Fröhlich         2           1         0   male   \n",
       "4      0   Richard    Lauffen         2           0         0   male   \n",
       "\n",
       "  Gender_probability Gender_count  \n",
       "0               0.99       165452  \n",
       "1               0.99        32776  \n",
       "2               0.99        23807  \n",
       "3               0.99        71365  \n",
       "4               0.99       101928  "
      ]
     },
     "execution_count": 16,
     "metadata": {},
     "output_type": "execute_result"
    }
   ],
   "source": [
    "# join tables\n",
    "actors = pd.merge(actors, gender, left_on='Firstname', right_on = \"Name\", how=\"left\")\n",
    "actors = actors.drop(\"Name\", axis=1)\n",
    "actors.head()"
   ]
  },
  {
   "cell_type": "markdown",
   "metadata": {},
   "source": [
    "## Add meta columns"
   ]
  },
  {
   "cell_type": "code",
   "execution_count": 17,
   "metadata": {},
   "outputs": [],
   "source": [
    "## Create year and month column\n",
    "meta[\"Year\"] = pd.DatetimeIndex(meta['Date']).year\n",
    "meta[\"Month\"] = pd.DatetimeIndex(meta[\"Date\"]).month"
   ]
  },
  {
   "cell_type": "markdown",
   "metadata": {},
   "source": [
    "# Analysis"
   ]
  },
  {
   "cell_type": "markdown",
   "metadata": {},
   "source": [
    "## Gender"
   ]
  },
  {
   "cell_type": "code",
   "execution_count": 210,
   "metadata": {},
   "outputs": [
    {
     "data": {
      "text/plain": [
       "Index([u'ID', u'female', u'male', u'total', u'female_ratio'], dtype='object', name=u'Gender')"
      ]
     },
     "execution_count": 210,
     "metadata": {},
     "output_type": "execute_result"
    }
   ],
   "source": [
    "## calculate gender roles by episode\n",
    "\n",
    "no_main = (actor_all[\"Narrator\"] == 0) & (actor_all[\"Main_actor\"] == 0)\n",
    "\n",
    "gender_balance = actor_all.loc[no_main].groupby([\"ID\", \"Gender\"])[\"Role\"].count()\n",
    "gender_balance = pd.DataFrame(gender_balance).unstack().fillna(0).reset_index(\"ID\")\n",
    "gender_balance.columns = gender_balance.columns.droplevel(level=0)\n",
    "gender_balance[\"total\"] = gender_balance[[\"female\", \"male\"]].sum(axis=1)\n",
    "gender_balance[\"female_ratio\"] = gender_balance[\"female\"] / gender_balance[\"total\"]\n",
    "gender_balance = gender_balance.rename(columns={\"\": \"ID\"})\n",
    "gender_balance\n",
    "gender_balance.columns\n",
    "#gender_balance[\"female_ratio\"].describe()"
   ]
  },
  {
   "cell_type": "code",
   "execution_count": 184,
   "metadata": {},
   "outputs": [],
   "source": [
    "gender_balance.index.name = None "
   ]
  },
  {
   "cell_type": "code",
   "execution_count": 207,
   "metadata": {},
   "outputs": [
    {
     "data": {
      "text/plain": [
       "3"
      ]
     },
     "execution_count": 207,
     "metadata": {},
     "output_type": "execute_result"
    }
   ],
   "source": [
    "gender_balance.index[3]"
   ]
  },
  {
   "cell_type": "code",
   "execution_count": null,
   "metadata": {},
   "outputs": [],
   "source": [
    "\n",
    "\n",
    "plt.scatter(x, y, s=area, c=colors, alpha=0.5"
   ]
  },
  {
   "cell_type": "code",
   "execution_count": 133,
   "metadata": {
    "code_folding": []
   },
   "outputs": [
    {
     "data": {
      "text/plain": [
       "['1',\n",
       " '2',\n",
       " '3',\n",
       " '4',\n",
       " '5',\n",
       " '6',\n",
       " '7',\n",
       " '8',\n",
       " '9',\n",
       " '10',\n",
       " '11',\n",
       " '12',\n",
       " '13',\n",
       " '14',\n",
       " '15',\n",
       " '16',\n",
       " '17',\n",
       " '18',\n",
       " '19',\n",
       " '20',\n",
       " '21',\n",
       " '22',\n",
       " '23',\n",
       " '24',\n",
       " '25',\n",
       " '26',\n",
       " '27',\n",
       " '28',\n",
       " '30',\n",
       " '31',\n",
       " '32',\n",
       " '33',\n",
       " '34',\n",
       " '35',\n",
       " '36',\n",
       " '37',\n",
       " '38',\n",
       " '39',\n",
       " '40',\n",
       " '41',\n",
       " '42',\n",
       " '43',\n",
       " '44',\n",
       " '45',\n",
       " '46',\n",
       " '47',\n",
       " '48',\n",
       " '49',\n",
       " '50',\n",
       " '51',\n",
       " '52',\n",
       " '53',\n",
       " '54',\n",
       " '55',\n",
       " '56',\n",
       " '57',\n",
       " '58',\n",
       " '59',\n",
       " '60',\n",
       " '61',\n",
       " '62',\n",
       " '63',\n",
       " '64',\n",
       " '65',\n",
       " '66',\n",
       " '67',\n",
       " '68',\n",
       " '69',\n",
       " '70',\n",
       " '71',\n",
       " '72',\n",
       " '73',\n",
       " '74',\n",
       " '75',\n",
       " '76',\n",
       " '77',\n",
       " '78',\n",
       " '79',\n",
       " '80',\n",
       " '81',\n",
       " '82',\n",
       " '83',\n",
       " '84',\n",
       " '85',\n",
       " '86',\n",
       " '87',\n",
       " '88',\n",
       " '89',\n",
       " '90',\n",
       " '91',\n",
       " '92',\n",
       " '93',\n",
       " '94',\n",
       " '95',\n",
       " '96',\n",
       " '97',\n",
       " '98',\n",
       " '99',\n",
       " '100',\n",
       " '101',\n",
       " '102',\n",
       " '103',\n",
       " '104',\n",
       " '105',\n",
       " '106',\n",
       " '107',\n",
       " '108',\n",
       " '109',\n",
       " '110',\n",
       " '111',\n",
       " '112',\n",
       " '113',\n",
       " '114',\n",
       " '115',\n",
       " '116',\n",
       " '117',\n",
       " '118',\n",
       " '119',\n",
       " '120',\n",
       " '121',\n",
       " '122',\n",
       " '123',\n",
       " '124',\n",
       " '125',\n",
       " '126',\n",
       " '127',\n",
       " '128',\n",
       " '129',\n",
       " '130',\n",
       " '131',\n",
       " '132',\n",
       " '133',\n",
       " '134',\n",
       " '135',\n",
       " '136',\n",
       " '137',\n",
       " '138',\n",
       " '139',\n",
       " '140',\n",
       " '141',\n",
       " '142',\n",
       " '143',\n",
       " '144',\n",
       " '145',\n",
       " '146',\n",
       " '147',\n",
       " '148',\n",
       " '149',\n",
       " '150',\n",
       " '151',\n",
       " '152',\n",
       " '153',\n",
       " '154',\n",
       " '155',\n",
       " '156',\n",
       " '157',\n",
       " '158',\n",
       " '159',\n",
       " '160',\n",
       " '161',\n",
       " '162',\n",
       " '163',\n",
       " '164',\n",
       " '165',\n",
       " '166',\n",
       " '167',\n",
       " '168',\n",
       " '169',\n",
       " '170',\n",
       " '171',\n",
       " '172',\n",
       " '173',\n",
       " '174',\n",
       " '175',\n",
       " '176',\n",
       " '177',\n",
       " '178',\n",
       " '179',\n",
       " '180',\n",
       " '181',\n",
       " '182',\n",
       " '183',\n",
       " '184',\n",
       " '185',\n",
       " '186',\n",
       " '187',\n",
       " '188',\n",
       " '189',\n",
       " '190',\n",
       " '191',\n",
       " '192',\n",
       " '193',\n",
       " '194',\n",
       " '195',\n",
       " '196',\n",
       " '197',\n",
       " '198',\n",
       " '199',\n",
       " '200',\n",
       " '201',\n",
       " '202',\n",
       " '203',\n",
       " '204',\n",
       " '205',\n",
       " '206',\n",
       " '207',\n",
       " '208',\n",
       " '209',\n",
       " '210',\n",
       " '971',\n",
       " '972',\n",
       " '973',\n",
       " '974',\n",
       " '975',\n",
       " '976',\n",
       " '977',\n",
       " '978',\n",
       " '979',\n",
       " '980',\n",
       " '981',\n",
       " '982',\n",
       " '983',\n",
       " '984',\n",
       " '985',\n",
       " '986',\n",
       " '987',\n",
       " '988',\n",
       " '989',\n",
       " '990',\n",
       " '992',\n",
       " '993',\n",
       " '994',\n",
       " '995',\n",
       " '996']"
      ]
     },
     "execution_count": 133,
     "metadata": {},
     "output_type": "execute_result"
    }
   ],
   "source": [
    "#big function\n",
    "rating1[\"Folge\"] = rating1[\"Folge\"].str.encode(\"utf8\")\n",
    "id_list = []\n",
    "for i in range(len(rating1[\"Folge\"])):\n",
    "    pattern = \" \\((.*?)\\)\"\n",
    "    number = re.search(pattern, rating1[\"Folge\"][i]).group(1)\n",
    "    id_list.append(number)\n",
    "id_list"
   ]
  },
  {
   "cell_type": "markdown",
   "metadata": {},
   "source": [
    "### Gender balance"
   ]
  },
  {
   "cell_type": "code",
   "execution_count": 23,
   "metadata": {},
   "outputs": [
    {
     "data": {
      "text/plain": [
       "ID\n",
       "1      2.0\n",
       "2      3.0\n",
       "3      1.0\n",
       "4      NaN\n",
       "5      3.0\n",
       "      ... \n",
       "202    2.0\n",
       "203    3.0\n",
       "204    2.0\n",
       "205    5.0\n",
       "206    3.0\n",
       "Name: female, Length: 206, dtype: float64"
      ]
     },
     "execution_count": 23,
     "metadata": {},
     "output_type": "execute_result"
    }
   ],
   "source": [
    "## calculate gender roles by episode\n",
    "\n",
    "female = actors.groupby([\"ID\", \"Gender\"])[\"Role\"].count().unstack()[\"female\"]\n",
    "female"
   ]
  },
  {
   "cell_type": "markdown",
   "metadata": {},
   "source": [
    "### Over time"
   ]
  },
  {
   "cell_type": "code",
   "execution_count": 515,
   "metadata": {},
   "outputs": [
    {
     "data": {
      "text/html": [
       "<div>\n",
       "<style scoped>\n",
       "    .dataframe tbody tr th:only-of-type {\n",
       "        vertical-align: middle;\n",
       "    }\n",
       "\n",
       "    .dataframe tbody tr th {\n",
       "        vertical-align: top;\n",
       "    }\n",
       "\n",
       "    .dataframe thead th {\n",
       "        text-align: right;\n",
       "    }\n",
       "</style>\n",
       "<table border=\"1\" class=\"dataframe\">\n",
       "  <thead>\n",
       "    <tr style=\"text-align: right;\">\n",
       "      <th></th>\n",
       "      <th>Year</th>\n",
       "    </tr>\n",
       "  </thead>\n",
       "  <tbody>\n",
       "    <tr>\n",
       "      <th>0</th>\n",
       "      <td>1979</td>\n",
       "    </tr>\n",
       "    <tr>\n",
       "      <th>1</th>\n",
       "      <td>1980</td>\n",
       "    </tr>\n",
       "    <tr>\n",
       "      <th>2</th>\n",
       "      <td>1981</td>\n",
       "    </tr>\n",
       "    <tr>\n",
       "      <th>3</th>\n",
       "      <td>1982</td>\n",
       "    </tr>\n",
       "    <tr>\n",
       "      <th>4</th>\n",
       "      <td>1983</td>\n",
       "    </tr>\n",
       "  </tbody>\n",
       "</table>\n",
       "</div>"
      ],
      "text/plain": [
       "   Year\n",
       "0  1979\n",
       "1  1980\n",
       "2  1981\n",
       "3  1982\n",
       "4  1983"
      ]
     },
     "execution_count": 515,
     "metadata": {},
     "output_type": "execute_result"
    }
   ],
   "source": [
    "timeline = pd.DataFrame(range(1979, 2021), columns = [\"Year\"]).astype(str)\n",
    "timeline.head()"
   ]
  },
  {
   "cell_type": "code",
   "execution_count": 8,
   "metadata": {},
   "outputs": [
    {
     "data": {
      "text/html": [
       "<div>\n",
       "<style scoped>\n",
       "    .dataframe tbody tr th:only-of-type {\n",
       "        vertical-align: middle;\n",
       "    }\n",
       "\n",
       "    .dataframe tbody tr th {\n",
       "        vertical-align: top;\n",
       "    }\n",
       "\n",
       "    .dataframe thead th {\n",
       "        text-align: right;\n",
       "    }\n",
       "</style>\n",
       "<table border=\"1\" class=\"dataframe\">\n",
       "  <thead>\n",
       "    <tr style=\"text-align: right;\">\n",
       "      <th></th>\n",
       "      <th>ID</th>\n",
       "      <th>\"Anudhara\" aufgenommen bei Bantree Records, Worms / Produzent</th>\n",
       "      <th>Buch</th>\n",
       "      <th>Buch und Effekte</th>\n",
       "      <th>Buch und Redaktion</th>\n",
       "      <th>Cover-Illustration</th>\n",
       "      <th>Coverillustration</th>\n",
       "      <th>Design</th>\n",
       "      <th>Effekte und Redaktion</th>\n",
       "      <th>Erscheinungsdatum</th>\n",
       "      <th>...</th>\n",
       "      <th>Cover</th>\n",
       "      <th>Music</th>\n",
       "      <th>Director</th>\n",
       "      <th>Editor</th>\n",
       "      <th>Sounds</th>\n",
       "      <th>Date</th>\n",
       "      <th>Minutes</th>\n",
       "      <th>Minutes_mean</th>\n",
       "      <th>Minutes_total</th>\n",
       "      <th>Parts</th>\n",
       "    </tr>\n",
       "  </thead>\n",
       "  <tbody>\n",
       "    <tr>\n",
       "      <th>0</th>\n",
       "      <td>1</td>\n",
       "      <td>NaN</td>\n",
       "      <td>H. G. Francis</td>\n",
       "      <td>NaN</td>\n",
       "      <td>NaN</td>\n",
       "      <td>NaN</td>\n",
       "      <td>NaN</td>\n",
       "      <td>NaN</td>\n",
       "      <td>NaN</td>\n",
       "      <td>12.10.1979</td>\n",
       "      <td>...</td>\n",
       "      <td>NaN</td>\n",
       "      <td>b'B. Brac/B. George'</td>\n",
       "      <td>b'Heikedine K\\xc3\\xb6rting'</td>\n",
       "      <td>NaN</td>\n",
       "      <td>NaN</td>\n",
       "      <td>1979-10-12</td>\n",
       "      <td>[46]</td>\n",
       "      <td>46.0</td>\n",
       "      <td>46</td>\n",
       "      <td>1</td>\n",
       "    </tr>\n",
       "    <tr>\n",
       "      <th>1</th>\n",
       "      <td>2</td>\n",
       "      <td>NaN</td>\n",
       "      <td>H. G. Francis</td>\n",
       "      <td>NaN</td>\n",
       "      <td>NaN</td>\n",
       "      <td>NaN</td>\n",
       "      <td>NaN</td>\n",
       "      <td>NaN</td>\n",
       "      <td>NaN</td>\n",
       "      <td>12.10.1979</td>\n",
       "      <td>...</td>\n",
       "      <td>NaN</td>\n",
       "      <td>b'B. Brac/B. George'</td>\n",
       "      <td>b'Heikedine K\\xc3\\xb6rting'</td>\n",
       "      <td>NaN</td>\n",
       "      <td>NaN</td>\n",
       "      <td>1979-10-12</td>\n",
       "      <td>[46]</td>\n",
       "      <td>46.0</td>\n",
       "      <td>46</td>\n",
       "      <td>1</td>\n",
       "    </tr>\n",
       "    <tr>\n",
       "      <th>2</th>\n",
       "      <td>3</td>\n",
       "      <td>NaN</td>\n",
       "      <td>H. G. Francis</td>\n",
       "      <td>NaN</td>\n",
       "      <td>NaN</td>\n",
       "      <td>NaN</td>\n",
       "      <td>NaN</td>\n",
       "      <td>NaN</td>\n",
       "      <td>NaN</td>\n",
       "      <td>12.10.1979</td>\n",
       "      <td>...</td>\n",
       "      <td>NaN</td>\n",
       "      <td>b'B. Brac/B. George'</td>\n",
       "      <td>b'Heikedine K\\xc3\\xb6rting'</td>\n",
       "      <td>NaN</td>\n",
       "      <td>NaN</td>\n",
       "      <td>1979-10-12</td>\n",
       "      <td>[44]</td>\n",
       "      <td>44.0</td>\n",
       "      <td>44</td>\n",
       "      <td>1</td>\n",
       "    </tr>\n",
       "    <tr>\n",
       "      <th>3</th>\n",
       "      <td>4</td>\n",
       "      <td>NaN</td>\n",
       "      <td>H. G. Francis</td>\n",
       "      <td>NaN</td>\n",
       "      <td>NaN</td>\n",
       "      <td>NaN</td>\n",
       "      <td>NaN</td>\n",
       "      <td>NaN</td>\n",
       "      <td>NaN</td>\n",
       "      <td>12.10.1979</td>\n",
       "      <td>...</td>\n",
       "      <td>NaN</td>\n",
       "      <td>b'B. Brac/B. George'</td>\n",
       "      <td>b'Heikedine K\\xc3\\xb6rting'</td>\n",
       "      <td>NaN</td>\n",
       "      <td>NaN</td>\n",
       "      <td>1979-10-12</td>\n",
       "      <td>[43]</td>\n",
       "      <td>43.0</td>\n",
       "      <td>43</td>\n",
       "      <td>1</td>\n",
       "    </tr>\n",
       "    <tr>\n",
       "      <th>4</th>\n",
       "      <td>5</td>\n",
       "      <td>NaN</td>\n",
       "      <td>H. G. Francis</td>\n",
       "      <td>NaN</td>\n",
       "      <td>NaN</td>\n",
       "      <td>NaN</td>\n",
       "      <td>NaN</td>\n",
       "      <td>NaN</td>\n",
       "      <td>NaN</td>\n",
       "      <td>12.10.1979</td>\n",
       "      <td>...</td>\n",
       "      <td>NaN</td>\n",
       "      <td>b'B. Brac/B. George'</td>\n",
       "      <td>b'Heikedine K\\xc3\\xb6rting'</td>\n",
       "      <td>NaN</td>\n",
       "      <td>NaN</td>\n",
       "      <td>1979-10-12</td>\n",
       "      <td>[47]</td>\n",
       "      <td>47.0</td>\n",
       "      <td>47</td>\n",
       "      <td>1</td>\n",
       "    </tr>\n",
       "    <tr>\n",
       "      <th>...</th>\n",
       "      <td>...</td>\n",
       "      <td>...</td>\n",
       "      <td>...</td>\n",
       "      <td>...</td>\n",
       "      <td>...</td>\n",
       "      <td>...</td>\n",
       "      <td>...</td>\n",
       "      <td>...</td>\n",
       "      <td>...</td>\n",
       "      <td>...</td>\n",
       "      <td>...</td>\n",
       "      <td>...</td>\n",
       "      <td>...</td>\n",
       "      <td>...</td>\n",
       "      <td>...</td>\n",
       "      <td>...</td>\n",
       "      <td>...</td>\n",
       "      <td>...</td>\n",
       "      <td>...</td>\n",
       "      <td>...</td>\n",
       "      <td>...</td>\n",
       "    </tr>\n",
       "    <tr>\n",
       "      <th>200</th>\n",
       "      <td>202</td>\n",
       "      <td>NaN</td>\n",
       "      <td>NaN</td>\n",
       "      <td>André Minninger</td>\n",
       "      <td>NaN</td>\n",
       "      <td>NaN</td>\n",
       "      <td>Silvia Christoph</td>\n",
       "      <td>Atelier Schoedsack Based on characters created...</td>\n",
       "      <td>NaN</td>\n",
       "      <td>29.11.2019</td>\n",
       "      <td>...</td>\n",
       "      <td>b'Silvia Christoph'</td>\n",
       "      <td>b'Jan-Friedrich Conrad, Jens-Peter Morgenstern...</td>\n",
       "      <td>b'Heikedine K\\xc3\\xb6rting'</td>\n",
       "      <td>b'Wanda Osten'</td>\n",
       "      <td>NaN</td>\n",
       "      <td>2019-11-29</td>\n",
       "      <td>[76]</td>\n",
       "      <td>76.0</td>\n",
       "      <td>76</td>\n",
       "      <td>1</td>\n",
       "    </tr>\n",
       "    <tr>\n",
       "      <th>201</th>\n",
       "      <td>203</td>\n",
       "      <td>NaN</td>\n",
       "      <td>NaN</td>\n",
       "      <td>André Minninger</td>\n",
       "      <td>NaN</td>\n",
       "      <td>NaN</td>\n",
       "      <td>Silvia Christoph</td>\n",
       "      <td>Atelier Schoedsack Based on characters created...</td>\n",
       "      <td>NaN</td>\n",
       "      <td>31.01.2020</td>\n",
       "      <td>...</td>\n",
       "      <td>b'Silvia Christoph'</td>\n",
       "      <td>b'Jan-Friedrich Conrad, Jens-Peter Morgenstern...</td>\n",
       "      <td>b'Heikedine K\\xc3\\xb6rting'</td>\n",
       "      <td>b'Wanda Osten'</td>\n",
       "      <td>NaN</td>\n",
       "      <td>2020-01-31</td>\n",
       "      <td>[76]</td>\n",
       "      <td>76.0</td>\n",
       "      <td>76</td>\n",
       "      <td>1</td>\n",
       "    </tr>\n",
       "    <tr>\n",
       "      <th>202</th>\n",
       "      <td>204</td>\n",
       "      <td>NaN</td>\n",
       "      <td>NaN</td>\n",
       "      <td>André Minninger</td>\n",
       "      <td>NaN</td>\n",
       "      <td>NaN</td>\n",
       "      <td>Silvia Christoph</td>\n",
       "      <td>Atelier Schoedsack Based on characters created...</td>\n",
       "      <td>NaN</td>\n",
       "      <td>13.03.2020</td>\n",
       "      <td>...</td>\n",
       "      <td>b'Silvia Christoph'</td>\n",
       "      <td>b'Jan-Friedrich Conrad, Jens-Peter Morgenstern...</td>\n",
       "      <td>b'Heikedine K\\xc3\\xb6rting'</td>\n",
       "      <td>b'Wanda Osten'</td>\n",
       "      <td>NaN</td>\n",
       "      <td>2020-03-13</td>\n",
       "      <td>[69]</td>\n",
       "      <td>69.0</td>\n",
       "      <td>69</td>\n",
       "      <td>1</td>\n",
       "    </tr>\n",
       "    <tr>\n",
       "      <th>203</th>\n",
       "      <td>205</td>\n",
       "      <td>NaN</td>\n",
       "      <td>NaN</td>\n",
       "      <td>André Minninger</td>\n",
       "      <td>NaN</td>\n",
       "      <td>NaN</td>\n",
       "      <td>Silvia Christoph</td>\n",
       "      <td>Atelier Schoedsack Based on characters created...</td>\n",
       "      <td>NaN</td>\n",
       "      <td>15.05.2020</td>\n",
       "      <td>...</td>\n",
       "      <td>b'Silvia Christoph'</td>\n",
       "      <td>b'Jan-Friedrich Conrad, Jens-Peter Morgenstern...</td>\n",
       "      <td>b'Heikedine K\\xc3\\xb6rting'</td>\n",
       "      <td>b'Wanda Osten'</td>\n",
       "      <td>NaN</td>\n",
       "      <td>2020-05-15</td>\n",
       "      <td>[73]</td>\n",
       "      <td>73.0</td>\n",
       "      <td>73</td>\n",
       "      <td>1</td>\n",
       "    </tr>\n",
       "    <tr>\n",
       "      <th>204</th>\n",
       "      <td>206</td>\n",
       "      <td>NaN</td>\n",
       "      <td>NaN</td>\n",
       "      <td>André Minninger</td>\n",
       "      <td>NaN</td>\n",
       "      <td>NaN</td>\n",
       "      <td>Silvia Christoph</td>\n",
       "      <td>Atelier Schoedsack Based on characters created...</td>\n",
       "      <td>NaN</td>\n",
       "      <td>17.07.2020</td>\n",
       "      <td>...</td>\n",
       "      <td>b'Silvia Christoph'</td>\n",
       "      <td>b'Jan-Friedrich Conrad, Jens-Peter Morgenstern...</td>\n",
       "      <td>b'Heikedine K\\xc3\\xb6rting'</td>\n",
       "      <td>b'Wanda Osten'</td>\n",
       "      <td>NaN</td>\n",
       "      <td>2020-07-17</td>\n",
       "      <td>[63]</td>\n",
       "      <td>63.0</td>\n",
       "      <td>63</td>\n",
       "      <td>1</td>\n",
       "    </tr>\n",
       "  </tbody>\n",
       "</table>\n",
       "<p>205 rows × 44 columns</p>\n",
       "</div>"
      ],
      "text/plain": [
       "      ID \"Anudhara\" aufgenommen bei Bantree Records, Worms / Produzent  \\\n",
       "0      1                                                NaN              \n",
       "1      2                                                NaN              \n",
       "2      3                                                NaN              \n",
       "3      4                                                NaN              \n",
       "4      5                                                NaN              \n",
       "..   ...                                                ...              \n",
       "200  202                                                NaN              \n",
       "201  203                                                NaN              \n",
       "202  204                                                NaN              \n",
       "203  205                                                NaN              \n",
       "204  206                                                NaN              \n",
       "\n",
       "              Buch Buch und Effekte Buch und Redaktion Cover-Illustration  \\\n",
       "0    H. G. Francis              NaN                NaN                NaN   \n",
       "1    H. G. Francis              NaN                NaN                NaN   \n",
       "2    H. G. Francis              NaN                NaN                NaN   \n",
       "3    H. G. Francis              NaN                NaN                NaN   \n",
       "4    H. G. Francis              NaN                NaN                NaN   \n",
       "..             ...              ...                ...                ...   \n",
       "200            NaN  André Minninger                NaN                NaN   \n",
       "201            NaN  André Minninger                NaN                NaN   \n",
       "202            NaN  André Minninger                NaN                NaN   \n",
       "203            NaN  André Minninger                NaN                NaN   \n",
       "204            NaN  André Minninger                NaN                NaN   \n",
       "\n",
       "    Coverillustration                                             Design  \\\n",
       "0                 NaN                                                NaN   \n",
       "1                 NaN                                                NaN   \n",
       "2                 NaN                                                NaN   \n",
       "3                 NaN                                                NaN   \n",
       "4                 NaN                                                NaN   \n",
       "..                ...                                                ...   \n",
       "200  Silvia Christoph  Atelier Schoedsack Based on characters created...   \n",
       "201  Silvia Christoph  Atelier Schoedsack Based on characters created...   \n",
       "202  Silvia Christoph  Atelier Schoedsack Based on characters created...   \n",
       "203  Silvia Christoph  Atelier Schoedsack Based on characters created...   \n",
       "204  Silvia Christoph  Atelier Schoedsack Based on characters created...   \n",
       "\n",
       "    Effekte und Redaktion Erscheinungsdatum  ...                Cover  \\\n",
       "0                     NaN        12.10.1979  ...                  NaN   \n",
       "1                     NaN        12.10.1979  ...                  NaN   \n",
       "2                     NaN        12.10.1979  ...                  NaN   \n",
       "3                     NaN        12.10.1979  ...                  NaN   \n",
       "4                     NaN        12.10.1979  ...                  NaN   \n",
       "..                    ...               ...  ...                  ...   \n",
       "200                   NaN        29.11.2019  ...  b'Silvia Christoph'   \n",
       "201                   NaN        31.01.2020  ...  b'Silvia Christoph'   \n",
       "202                   NaN        13.03.2020  ...  b'Silvia Christoph'   \n",
       "203                   NaN        15.05.2020  ...  b'Silvia Christoph'   \n",
       "204                   NaN        17.07.2020  ...  b'Silvia Christoph'   \n",
       "\n",
       "                                                 Music  \\\n",
       "0                                 b'B. Brac/B. George'   \n",
       "1                                 b'B. Brac/B. George'   \n",
       "2                                 b'B. Brac/B. George'   \n",
       "3                                 b'B. Brac/B. George'   \n",
       "4                                 b'B. Brac/B. George'   \n",
       "..                                                 ...   \n",
       "200  b'Jan-Friedrich Conrad, Jens-Peter Morgenstern...   \n",
       "201  b'Jan-Friedrich Conrad, Jens-Peter Morgenstern...   \n",
       "202  b'Jan-Friedrich Conrad, Jens-Peter Morgenstern...   \n",
       "203  b'Jan-Friedrich Conrad, Jens-Peter Morgenstern...   \n",
       "204  b'Jan-Friedrich Conrad, Jens-Peter Morgenstern...   \n",
       "\n",
       "                        Director          Editor  Sounds        Date Minutes  \\\n",
       "0    b'Heikedine K\\xc3\\xb6rting'             NaN     NaN  1979-10-12    [46]   \n",
       "1    b'Heikedine K\\xc3\\xb6rting'             NaN     NaN  1979-10-12    [46]   \n",
       "2    b'Heikedine K\\xc3\\xb6rting'             NaN     NaN  1979-10-12    [44]   \n",
       "3    b'Heikedine K\\xc3\\xb6rting'             NaN     NaN  1979-10-12    [43]   \n",
       "4    b'Heikedine K\\xc3\\xb6rting'             NaN     NaN  1979-10-12    [47]   \n",
       "..                           ...             ...     ...         ...     ...   \n",
       "200  b'Heikedine K\\xc3\\xb6rting'  b'Wanda Osten'     NaN  2019-11-29    [76]   \n",
       "201  b'Heikedine K\\xc3\\xb6rting'  b'Wanda Osten'     NaN  2020-01-31    [76]   \n",
       "202  b'Heikedine K\\xc3\\xb6rting'  b'Wanda Osten'     NaN  2020-03-13    [69]   \n",
       "203  b'Heikedine K\\xc3\\xb6rting'  b'Wanda Osten'     NaN  2020-05-15    [73]   \n",
       "204  b'Heikedine K\\xc3\\xb6rting'  b'Wanda Osten'     NaN  2020-07-17    [63]   \n",
       "\n",
       "    Minutes_mean  Minutes_total Parts  \n",
       "0           46.0             46     1  \n",
       "1           46.0             46     1  \n",
       "2           44.0             44     1  \n",
       "3           43.0             43     1  \n",
       "4           47.0             47     1  \n",
       "..           ...            ...   ...  \n",
       "200         76.0             76     1  \n",
       "201         76.0             76     1  \n",
       "202         69.0             69     1  \n",
       "203         73.0             73     1  \n",
       "204         63.0             63     1  \n",
       "\n",
       "[205 rows x 44 columns]"
      ]
     },
     "execution_count": 8,
     "metadata": {},
     "output_type": "execute_result"
    }
   ],
   "source": [
    "meta"
   ]
  },
  {
   "cell_type": "markdown",
   "metadata": {},
   "source": [
    "## Chronology"
   ]
  },
  {
   "cell_type": "code",
   "execution_count": 15,
   "metadata": {},
   "outputs": [
    {
     "data": {
      "text/html": [
       "<div>\n",
       "<style scoped>\n",
       "    .dataframe tbody tr th:only-of-type {\n",
       "        vertical-align: middle;\n",
       "    }\n",
       "\n",
       "    .dataframe tbody tr th {\n",
       "        vertical-align: top;\n",
       "    }\n",
       "\n",
       "    .dataframe thead th {\n",
       "        text-align: right;\n",
       "    }\n",
       "</style>\n",
       "<table border=\"1\" class=\"dataframe\">\n",
       "  <thead>\n",
       "    <tr style=\"text-align: right;\">\n",
       "      <th></th>\n",
       "      <th>Year</th>\n",
       "      <th>Parts_sum</th>\n",
       "      <th>Minutes_mean</th>\n",
       "      <th>Minutes_min</th>\n",
       "      <th>Minutes_max</th>\n",
       "      <th>ID_count</th>\n",
       "      <th>ID_first</th>\n",
       "      <th>ID_last</th>\n",
       "    </tr>\n",
       "  </thead>\n",
       "  <tbody>\n",
       "    <tr>\n",
       "      <th>0</th>\n",
       "      <td>1979</td>\n",
       "      <td>9</td>\n",
       "      <td>45.555556</td>\n",
       "      <td>43.0</td>\n",
       "      <td>50.0</td>\n",
       "      <td>9</td>\n",
       "      <td>1</td>\n",
       "      <td>9</td>\n",
       "    </tr>\n",
       "    <tr>\n",
       "      <th>1</th>\n",
       "      <td>1980</td>\n",
       "      <td>12</td>\n",
       "      <td>42.416667</td>\n",
       "      <td>38.0</td>\n",
       "      <td>49.0</td>\n",
       "      <td>12</td>\n",
       "      <td>10</td>\n",
       "      <td>21</td>\n",
       "    </tr>\n",
       "    <tr>\n",
       "      <th>2</th>\n",
       "      <td>1981</td>\n",
       "      <td>6</td>\n",
       "      <td>43.666667</td>\n",
       "      <td>41.0</td>\n",
       "      <td>49.0</td>\n",
       "      <td>6</td>\n",
       "      <td>22</td>\n",
       "      <td>27</td>\n",
       "    </tr>\n",
       "    <tr>\n",
       "      <th>3</th>\n",
       "      <td>1982</td>\n",
       "      <td>2</td>\n",
       "      <td>42.000000</td>\n",
       "      <td>40.0</td>\n",
       "      <td>44.0</td>\n",
       "      <td>2</td>\n",
       "      <td>28</td>\n",
       "      <td>30</td>\n",
       "    </tr>\n",
       "    <tr>\n",
       "      <th>4</th>\n",
       "      <td>1983</td>\n",
       "      <td>3</td>\n",
       "      <td>43.666667</td>\n",
       "      <td>40.0</td>\n",
       "      <td>49.0</td>\n",
       "      <td>3</td>\n",
       "      <td>31</td>\n",
       "      <td>33</td>\n",
       "    </tr>\n",
       "  </tbody>\n",
       "</table>\n",
       "</div>"
      ],
      "text/plain": [
       "   Year  Parts_sum  Minutes_mean  Minutes_min  Minutes_max  ID_count  \\\n",
       "0  1979          9     45.555556         43.0         50.0         9   \n",
       "1  1980         12     42.416667         38.0         49.0        12   \n",
       "2  1981          6     43.666667         41.0         49.0         6   \n",
       "3  1982          2     42.000000         40.0         44.0         2   \n",
       "4  1983          3     43.666667         40.0         49.0         3   \n",
       "\n",
       "   ID_first  ID_last  \n",
       "0         1        9  \n",
       "1        10       21  \n",
       "2        22       27  \n",
       "3        28       30  \n",
       "4        31       33  "
      ]
     },
     "execution_count": 15,
     "metadata": {},
     "output_type": "execute_result"
    }
   ],
   "source": [
    "years = meta.groupby(\"Year\")[[\"Parts\", \"Minutes_mean\", \"ID\"]].agg({\n",
    "    \"Parts\": [\"sum\"], \"Minutes_mean\" : [\"mean\", \"min\", \"max\"], \"ID\": [\"count\",\"first\", \"last\"]})\n",
    "years.columns = [\"_\".join(x) for x in years.columns.ravel()]\n",
    "years = years.reset_index().rename(columns={\"Minutes_mean_mean\": \"Minutes_mean\",\n",
    "                              \"Minutes_mean_min\": \"Minutes_min\", \"Minutes_mean_max\":\"Minutes_max\"}) \n",
    "years.head()"
   ]
  },
  {
   "cell_type": "code",
   "execution_count": 25,
   "metadata": {},
   "outputs": [
    {
     "data": {
      "text/plain": [
       "<matplotlib.axes._subplots.AxesSubplot at 0x23e65d36e48>"
      ]
     },
     "execution_count": 25,
     "metadata": {},
     "output_type": "execute_result"
    },
    {
     "data": {
      "image/png": "[encoded data removed]",
      "text/plain": [
       "<Figure size 432x288 with 1 Axes>"
      ]
     },
     "metadata": {
      "needs_background": "light"
     },
     "output_type": "display_data"
    }
   ],
   "source": [
    "#Average length over time\n",
    "years.set_index(\"Year\")[\"Minutes_mean\"].plot(kind='bar')"
   ]
  },
  {
   "cell_type": "code",
   "execution_count": 29,
   "metadata": {},
   "outputs": [
    {
     "data": {
      "text/plain": [
       "<matplotlib.axes._subplots.AxesSubplot at 0x23e68923248>"
      ]
     },
     "execution_count": 29,
     "metadata": {},
     "output_type": "execute_result"
    },
    {
     "data": {
      "image/png": "[encoded data removed]",
      "text/plain": [
       "<Figure size 432x288 with 1 Axes>"
      ]
     },
     "metadata": {
      "needs_background": "light"
     },
     "output_type": "display_data"
    }
   ],
   "source": [
    "#Average length over time\n",
    "years.set_index(\"Year\")[\"Minutes_min\"].plot(kind='bar')"
   ]
  },
  {
   "cell_type": "code",
   "execution_count": 26,
   "metadata": {},
   "outputs": [
    {
     "data": {
      "text/plain": [
       "<matplotlib.axes._subplots.AxesSubplot at 0x23e675e6988>"
      ]
     },
     "execution_count": 26,
     "metadata": {},
     "output_type": "execute_result"
    },
    {
     "data": {
      "image/png": "[encoded data removed]",
      "text/plain": [
       "<Figure size 432x288 with 1 Axes>"
      ]
     },
     "metadata": {
      "needs_background": "light"
     },
     "output_type": "display_data"
    }
   ],
   "source": [
    "#number of episodes over time\n",
    "years.set_index(\"Year\")[\"ID_count\"].plot(kind='bar')"
   ]
  },
  {
   "cell_type": "code",
   "execution_count": 36,
   "metadata": {},
   "outputs": [
    {
     "data": {
      "text/plain": [
       "<matplotlib.axes._subplots.AxesSubplot at 0x23e6902bc08>"
      ]
     },
     "execution_count": 36,
     "metadata": {},
     "output_type": "execute_result"
    },
    {
     "data": {
      "image/png": "[encoded data removed]",
      "text/plain": [
       "<Figure size 432x288 with 1 Axes>"
      ]
     },
     "metadata": {
      "needs_background": "light"
     },
     "output_type": "display_data"
    }
   ],
   "source": [
    "#number of episodes over time\n",
    "years.set_index(\"Year\")[\"Parts_sum\"].plot(kind='bar')"
   ]
  },
  {
   "cell_type": "code",
   "execution_count": 37,
   "metadata": {},
   "outputs": [
    {
     "data": {
      "text/plain": [
       "<matplotlib.axes._subplots.AxesSubplot at 0x23e69125fc8>"
      ]
     },
     "execution_count": 37,
     "metadata": {},
     "output_type": "execute_result"
    },
    {
     "data": {
      "image/png": "[encoded data removed]",
      "text/plain": [
       "<Figure size 432x288 with 1 Axes>"
      ]
     },
     "metadata": {
      "needs_background": "light"
     },
     "output_type": "display_data"
    }
   ],
   "source": [
    "#number of episodes over time\n",
    "years.set_index(\"Year\")[\"ID_last\"].plot(kind='barh')"
   ]
  },
  {
   "cell_type": "code",
   "execution_count": null,
   "metadata": {},
   "outputs": [],
   "source": []
  },
  {
   "cell_type": "markdown",
   "metadata": {},
   "source": [
    "# rubbish code"
   ]
  }
 ],
 "metadata": {
  "kernelspec": {
   "display_name": "py3_dreif",
   "language": "python",
   "name": "py3_dreif"
  },
  "language_info": {
   "codemirror_mode": {
    "name": "ipython",
    "version": 3
   },
   "file_extension": ".py",
   "mimetype": "text/x-python",
   "name": "python",
   "nbconvert_exporter": "python",
   "pygments_lexer": "ipython3",
   "version": "3.7.5"
  },
  "toc": {
   "base_numbering": 1,
   "nav_menu": {},
   "number_sections": true,
   "sideBar": true,
   "skip_h1_title": false,
   "title_cell": "Table of Contents",
   "title_sidebar": "Contents",
   "toc_cell": false,
   "toc_position": {
    "height": "calc(100% - 180px)",
    "left": "10px",
    "top": "150px",
    "width": "303.4px"
   },
   "toc_section_display": true,
   "toc_window_display": true
  }
 },
 "nbformat": 4,
 "nbformat_minor": 2
}
