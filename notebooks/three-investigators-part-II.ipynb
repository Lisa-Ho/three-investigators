{
 "cells": [
  {
   "cell_type": "markdown",
   "metadata": {},
   "source": [
    "# Three investigators - part II\n",
    "\n",
    "A project for scraping and analysing data from a fan site on the audio book called '[The three investigators](https://en.wikipedia.org/wiki/Three_Investigators#Germany)'\n",
    "\n",
    "Part II: Data preparation and explorative analysis\n",
    "\n",
    "- additional data cleaning and preparing for analysis\n",
    "- explorative analysis of data\n",
    "- prediction of episode ratings"
   ]
  },
  {
   "cell_type": "markdown",
   "metadata": {},
   "source": [
    "# Setup"
   ]
  },
  {
   "cell_type": "code",
   "execution_count": 1,
   "metadata": {},
   "outputs": [
    {
     "name": "stdout",
     "output_type": "stream",
     "text": [
      "3.7.5\n"
     ]
    }
   ],
   "source": [
    "#python version used for this project\n",
    "from platform import python_version\n",
    "print(python_version())"
   ]
  },
  {
   "cell_type": "code",
   "execution_count": 1,
   "metadata": {},
   "outputs": [],
   "source": [
    "# import modules [as specified in requirements.txt]\n",
    "import pandas as pd\n",
    "import numpy as np\n",
    "import re\n",
    "import requests\n",
    "from datetime import date\n",
    "import matplotlib.pyplot as plt\n",
    "\n",
    "# for file directories\n",
    "import os\n",
    "\n",
    "%matplotlib inline"
   ]
  },
  {
   "cell_type": "code",
   "execution_count": 2,
   "metadata": {},
   "outputs": [],
   "source": [
    "#change directory to root folder\n",
    "os.chdir(\"..\")"
   ]
  },
  {
   "cell_type": "markdown",
   "metadata": {},
   "source": [
    "# Load data"
   ]
  },
  {
   "cell_type": "code",
   "execution_count": 3,
   "metadata": {},
   "outputs": [],
   "source": [
    "#load scraped datafiles\n",
    "meta = pd.read_csv(\".\\\\data\\\\scraped\\\\meta.csv\")\n",
    "actors = pd.read_csv(\".\\\\data\\\\scraped\\\\actor_all.csv\")\n",
    "content = pd.read_csv(\".\\\\data\\\\scraped\\\\content_all.csv\")\n",
    "rating = pd.read_csv(\".\\\\data\\\\scraped\\\\rating.csv\")\n",
    "\n",
    "#load actor gender prediction\n",
    "gender = pd.read_csv(\".\\\\data\\\\processed\\\\actor_gender_prediction_2020-09-26.csv\")"
   ]
  },
  {
   "cell_type": "code",
   "execution_count": 4,
   "metadata": {},
   "outputs": [
    {
     "data": {
      "text/plain": [
       "(205, 44)"
      ]
     },
     "execution_count": 4,
     "metadata": {},
     "output_type": "execute_result"
    }
   ],
   "source": [
    "meta.shape"
   ]
  },
  {
   "cell_type": "markdown",
   "metadata": {},
   "source": [
    "# Data cleaning and prep"
   ]
  },
  {
   "cell_type": "markdown",
   "metadata": {},
   "source": [
    "## Consistent column labels"
   ]
  },
  {
   "cell_type": "code",
   "execution_count": 5,
   "metadata": {},
   "outputs": [],
   "source": [
    "# make all column names lower case\n",
    "df_list = [meta, actors, content, rating]\n",
    "\n",
    "for df in df_list:\n",
    "    df.columns = df.columns.str.lower()"
   ]
  },
  {
   "cell_type": "markdown",
   "metadata": {},
   "source": [
    "## add/remove episode 29 from tables"
   ]
  },
  {
   "cell_type": "code",
   "execution_count": 6,
   "metadata": {},
   "outputs": [],
   "source": [
    "### add episode 29 details to meta table (https://www.rocky-beach.com/hoerspiel/folgen/029.html)\n",
    "meta = meta.append({'id' : 29, 'music': 'B. Brac/B. George', 'date':'1982-03-21', \n",
    "                     'minutes': '34', 'minutes_mean':34, 'minutes_total':34, 'parts':1} , ignore_index=True)\n",
    "\n",
    "## remove 29 from actors table\n",
    "actors = actors.loc[actors[\"id\"] != 29]"
   ]
  },
  {
   "cell_type": "markdown",
   "metadata": {},
   "source": [
    "## Gender predictions"
   ]
  },
  {
   "cell_type": "code",
   "execution_count": 7,
   "metadata": {},
   "outputs": [
    {
     "data": {
      "text/html": [
       "<div>\n",
       "<style scoped>\n",
       "    .dataframe tbody tr th:only-of-type {\n",
       "        vertical-align: middle;\n",
       "    }\n",
       "\n",
       "    .dataframe tbody tr th {\n",
       "        vertical-align: top;\n",
       "    }\n",
       "\n",
       "    .dataframe thead th {\n",
       "        text-align: right;\n",
       "    }\n",
       "</style>\n",
       "<table border=\"1\" class=\"dataframe\">\n",
       "  <thead>\n",
       "    <tr style=\"text-align: right;\">\n",
       "      <th></th>\n",
       "      <th>role</th>\n",
       "      <th>actor</th>\n",
       "      <th>id</th>\n",
       "      <th>actor_clean</th>\n",
       "      <th>title</th>\n",
       "      <th>firstname</th>\n",
       "      <th>surename</th>\n",
       "      <th>no_names</th>\n",
       "      <th>main_actor</th>\n",
       "      <th>narrator</th>\n",
       "      <th>Unnamed: 0</th>\n",
       "      <th>gender</th>\n",
       "      <th>gender_probability</th>\n",
       "      <th>gender_count</th>\n",
       "    </tr>\n",
       "  </thead>\n",
       "  <tbody>\n",
       "    <tr>\n",
       "      <th>0</th>\n",
       "      <td>Hitchcock</td>\n",
       "      <td>Peter Pasetti</td>\n",
       "      <td>1</td>\n",
       "      <td>Peter Pasetti</td>\n",
       "      <td>0</td>\n",
       "      <td>Peter</td>\n",
       "      <td>Pasetti</td>\n",
       "      <td>2</td>\n",
       "      <td>0</td>\n",
       "      <td>1</td>\n",
       "      <td>1</td>\n",
       "      <td>male</td>\n",
       "      <td>0.99</td>\n",
       "      <td>165452</td>\n",
       "    </tr>\n",
       "    <tr>\n",
       "      <th>1</th>\n",
       "      <td>Justus Jonas</td>\n",
       "      <td>Oliver Rohrbeck</td>\n",
       "      <td>1</td>\n",
       "      <td>Oliver Rohrbeck</td>\n",
       "      <td>0</td>\n",
       "      <td>Oliver</td>\n",
       "      <td>Rohrbeck</td>\n",
       "      <td>2</td>\n",
       "      <td>1</td>\n",
       "      <td>0</td>\n",
       "      <td>1</td>\n",
       "      <td>male</td>\n",
       "      <td>0.99</td>\n",
       "      <td>32776</td>\n",
       "    </tr>\n",
       "    <tr>\n",
       "      <th>2</th>\n",
       "      <td>Peter Shaw</td>\n",
       "      <td>Jens Wawrczeck</td>\n",
       "      <td>1</td>\n",
       "      <td>Jens Wawrczeck</td>\n",
       "      <td>0</td>\n",
       "      <td>Jens</td>\n",
       "      <td>Wawrczeck</td>\n",
       "      <td>2</td>\n",
       "      <td>1</td>\n",
       "      <td>0</td>\n",
       "      <td>1</td>\n",
       "      <td>male</td>\n",
       "      <td>0.99</td>\n",
       "      <td>23807</td>\n",
       "    </tr>\n",
       "    <tr>\n",
       "      <th>3</th>\n",
       "      <td>Bob Andrews</td>\n",
       "      <td>Andreas Fröhlich</td>\n",
       "      <td>1</td>\n",
       "      <td>Andreas Fröhlich</td>\n",
       "      <td>0</td>\n",
       "      <td>Andreas</td>\n",
       "      <td>Fröhlich</td>\n",
       "      <td>2</td>\n",
       "      <td>1</td>\n",
       "      <td>0</td>\n",
       "      <td>1</td>\n",
       "      <td>male</td>\n",
       "      <td>0.99</td>\n",
       "      <td>71365</td>\n",
       "    </tr>\n",
       "    <tr>\n",
       "      <th>4</th>\n",
       "      <td>Mr. Fentriss, Schriftsteller</td>\n",
       "      <td>Richard Lauffen</td>\n",
       "      <td>1</td>\n",
       "      <td>Richard Lauffen</td>\n",
       "      <td>0</td>\n",
       "      <td>Richard</td>\n",
       "      <td>Lauffen</td>\n",
       "      <td>2</td>\n",
       "      <td>0</td>\n",
       "      <td>0</td>\n",
       "      <td>1</td>\n",
       "      <td>male</td>\n",
       "      <td>0.99</td>\n",
       "      <td>101928</td>\n",
       "    </tr>\n",
       "  </tbody>\n",
       "</table>\n",
       "</div>"
      ],
      "text/plain": [
       "                           role             actor  id       actor_clean  \\\n",
       "0                     Hitchcock     Peter Pasetti   1     Peter Pasetti   \n",
       "1                  Justus Jonas   Oliver Rohrbeck   1   Oliver Rohrbeck   \n",
       "2                    Peter Shaw    Jens Wawrczeck   1    Jens Wawrczeck   \n",
       "3                   Bob Andrews  Andreas Fröhlich   1  Andreas Fröhlich   \n",
       "4  Mr. Fentriss, Schriftsteller   Richard Lauffen   1   Richard Lauffen   \n",
       "\n",
       "   title firstname   surename  no_names  main_actor  narrator  Unnamed: 0  \\\n",
       "0      0     Peter    Pasetti         2           0         1           1   \n",
       "1      0    Oliver   Rohrbeck         2           1         0           1   \n",
       "2      0      Jens  Wawrczeck         2           1         0           1   \n",
       "3      0   Andreas   Fröhlich         2           1         0           1   \n",
       "4      0   Richard    Lauffen         2           0         0           1   \n",
       "\n",
       "  gender  gender_probability  gender_count  \n",
       "0   male                0.99        165452  \n",
       "1   male                0.99         32776  \n",
       "2   male                0.99         23807  \n",
       "3   male                0.99         71365  \n",
       "4   male                0.99        101928  "
      ]
     },
     "execution_count": 7,
     "metadata": {},
     "output_type": "execute_result"
    }
   ],
   "source": [
    "# join tables\n",
    "actors = pd.merge(actors, gender, left_on='firstname', right_on = \"name\", how=\"left\")\n",
    "actors = actors.drop(\"name\", axis=1)\n",
    "actors.head()"
   ]
  },
  {
   "cell_type": "code",
   "execution_count": 8,
   "metadata": {},
   "outputs": [
    {
     "data": {
      "text/plain": [
       "array(['Heikedine', 'Reinhilt', 'J.S.', 'H.', 'Schiffmeister', '...',\n",
       "       'Rosakutty', 'Gustav-Adolph', 'Rhesi', 'é', 'Jörgpeter'],\n",
       "      dtype=object)"
      ]
     },
     "execution_count": 8,
     "metadata": {},
     "output_type": "execute_result"
    }
   ],
   "source": [
    "# get list of names that have not been classified with a gender\n",
    "actors.loc[actors[\"gender\"].isna()][\"firstname\"].unique()"
   ]
  },
  {
   "cell_type": "code",
   "execution_count": 9,
   "metadata": {},
   "outputs": [],
   "source": [
    "## classify gender of missing ones (if known)\n",
    "actors.loc[actors[\"firstname\"] == 'Heikedine', \"gender\"] = \"female\"\n",
    "actors.loc[actors[\"firstname\"] == 'Reinhilt', \"gender\"] = \"female\"\n",
    "actors.loc[actors[\"firstname\"] == 'Gustav-Adolph', \"gender\"] = \"male\"\n",
    "actors.loc[actors[\"firstname\"] == 'Jörgpeter', \"gender\"] = \"male\"\n",
    "actors.loc[actors[\"firstname\"] == 'Rhesi', \"gender\"] = \"female\"\n",
    "actors.loc[actors[\"firstname\"] == 'é', \"gender\"] = \"male\""
   ]
  },
  {
   "cell_type": "markdown",
   "metadata": {},
   "source": [
    "## Add to meta data"
   ]
  },
  {
   "cell_type": "code",
   "execution_count": 10,
   "metadata": {},
   "outputs": [],
   "source": [
    "## Create year and month column\n",
    "meta[\"year\"] = pd.DatetimeIndex(meta[\"date\"]).year\n",
    "meta[\"month\"] = pd.DatetimeIndex(meta[\"date\"]).month"
   ]
  },
  {
   "cell_type": "markdown",
   "metadata": {},
   "source": [
    "### Number of actors, main and side"
   ]
  },
  {
   "cell_type": "code",
   "execution_count": 11,
   "metadata": {},
   "outputs": [],
   "source": [
    "actors_agg = pd.DataFrame(actors.groupby(\"id\")[[\"actor\", \"main_actor\", \"narrator\"]].agg(\n",
    "    {\"actor\": \"count\", \"main_actor\":\"sum\", \"narrator\": \"max\"})).reset_index()\n",
    "actors_agg = actors_agg.rename(columns={\"actor\":\"no_actors_total\", \"main_actor\":\"no_main_actors\"})\n",
    "actors_agg[\"no_side_actors\"] = actors_agg[\"no_actors_total\"] - actors_agg[\"no_main_actors\"] - actors_agg[\"narrator\"] #also remove narrator\n",
    "\n",
    "#join with meta\n",
    "meta = pd.merge(meta, actors_agg, left_on=\"id\" ,right_on=\"id\", how='left')"
   ]
  },
  {
   "cell_type": "markdown",
   "metadata": {},
   "source": [
    "### Gender balance all actors"
   ]
  },
  {
   "cell_type": "code",
   "execution_count": 12,
   "metadata": {},
   "outputs": [],
   "source": [
    "actors_gender = actors.groupby([\"id\", \"gender\"])[\"role\"].count()\n",
    "actors_gender = pd.DataFrame(actors_gender).unstack().fillna(0).reset_index(\"id\")\n",
    "actors_gender.columns = actors_gender.columns.droplevel(level=0)\n",
    "actors_gender = actors_gender.rename(columns={\"\": \"id\", \"female\": \"no_female_actors\", \"male\": \"no_male_actors\"})\n",
    "\n",
    "#join with meta\n",
    "meta = pd.merge(meta, actors_gender, left_on=\"id\" ,right_on=\"id\", how='left')\n",
    "\n",
    "#gender missing\n",
    "meta[\"no_actor_gender_missing\"] = meta[\"no_actors_total\"] - meta[[\"no_female_actors\", \"no_male_actors\"]].sum(axis=1)\n",
    "\n",
    "#gender balance for all actors\n",
    "meta[\"female_actors_ratio\"] = meta[\"no_female_actors\"] / meta[[\"no_female_actors\", \"no_male_actors\"]].sum(axis=1) *100"
   ]
  },
  {
   "cell_type": "markdown",
   "metadata": {},
   "source": [
    "### Gender balance side actors"
   ]
  },
  {
   "cell_type": "code",
   "execution_count": 13,
   "metadata": {},
   "outputs": [],
   "source": [
    "filter_side_actors = (actors[\"narrator\"] == 0) & (actors[\"main_actor\"] == 0)\n",
    "side_actors_gender = actors.loc[filter_side_actors].groupby([\"id\", \"gender\"])[\"role\"].count()\n",
    "side_actors_gender = pd.DataFrame(side_actors_gender).unstack().fillna(0).reset_index(\"id\")\n",
    "side_actors_gender.columns = side_actors_gender.columns.droplevel(level=0)\n",
    "side_actors_gender = side_actors_gender.rename(columns={\"\": \"id\", \"female\": \"no_female_side_actors\", \"male\": \"no_male_side_actors\"})\n",
    "\n",
    "#join with meta\n",
    "meta = pd.merge(meta, side_actors_gender, left_on=\"id\" ,right_on=\"id\", how='left')\n",
    "\n",
    "#gender balance for side actors\n",
    "meta[\"female_side_actors_ratio\"] = meta[\"no_female_side_actors\"] / meta[[\"no_female_side_actors\", \"no_male_side_actors\"]].sum(axis=1) *100"
   ]
  },
  {
   "cell_type": "markdown",
   "metadata": {},
   "source": [
    "### Narrator"
   ]
  },
  {
   "cell_type": "code",
   "execution_count": 14,
   "metadata": {},
   "outputs": [],
   "source": [
    "narrator = actors.loc[actors[\"narrator\"]==1][[\"id\",\"actor_clean\"]]\n",
    "narrator = narrator.rename(columns={\"actor_clean\": \"narrator_name\"})\n",
    "\n",
    "#join with meta\n",
    "meta = pd.merge(meta, narrator, left_on=\"id\" ,right_on=\"id\", how='left')"
   ]
  },
  {
   "cell_type": "markdown",
   "metadata": {},
   "source": [
    "### Author"
   ]
  },
  {
   "cell_type": "code",
   "execution_count": 15,
   "metadata": {},
   "outputs": [],
   "source": [
    "#replace 'Erzählt von Kari Erlhoff' with 'Kari Erlhoff'\n",
    "meta[\"erzählt von\"] = meta[\"erzählt von\"].str.replace('Erzählt von Kari Erlhoff', 'Kari Erlhoff')"
   ]
  },
  {
   "cell_type": "code",
   "execution_count": 16,
   "metadata": {},
   "outputs": [
    {
     "data": {
      "text/plain": [
       "André Marx                           33\n",
       "Marco Sonnleitner                    32\n",
       "Ben Nevis                            21\n",
       "Other                                18\n",
       "Brigitte Johanna Henkel-Waidhofer    16\n",
       "M.V. Carey                           15\n",
       "William Arden                        14\n",
       "Kari Erlhoff                         13\n",
       "André Minninger                      12\n",
       "Robert Arthur                        10\n",
       "Astrid Vollenbruch                    9\n",
       "Christoph Dittert                     7\n",
       "Hendrik Buchna                        6\n",
       "Name: author_grouped, dtype: int64"
      ]
     },
     "execution_count": 16,
     "metadata": {},
     "output_type": "execute_result"
    }
   ],
   "source": [
    "# group authors\n",
    "meta[\"author_grouped\"] = meta[\"erzählt von\"]\n",
    "\n",
    "# group those authors with fewer than 5 episodes under 'other'\n",
    "other_storytellers = pd.DataFrame(meta[\"erzählt von\"].value_counts()).reset_index()\n",
    "other_storytellers = other_storytellers.loc[other_storytellers[\"erzählt von\"] < 5][\"index\"].tolist()\n",
    "meta.loc[meta[\"erzählt von\"].isin(other_storytellers), \"author_grouped\"] = \"Other\"\n",
    "\n",
    "#display values\n",
    "meta[\"author_grouped\"].value_counts()"
   ]
  },
  {
   "cell_type": "code",
   "execution_count": 17,
   "metadata": {},
   "outputs": [],
   "source": [
    "# create gender variable\n",
    "author_gender_map = {'Robert Arthur': \"male\", 'William Arden': \"male\", 'M.V. Carey':\"female\",\n",
    "                     'Nick West':\"male\", 'Marc Brandel':\"male\", 'Rose Estes':\"female\", \n",
    "                     'Megan Stine / H. William Stine': np.nan,\n",
    "                   'G.H. Stone':\"female\", 'William McCay' : \"male\", 'Peter Lerangis' : \"male\",\n",
    "                   'Brigitte Johanna Henkel-Waidhofer' : \"female\", 'André Marx' : \"male\",\n",
    "                    'André Minninger' : \"male\", 'Ben Nevis': \"male\", 'Katharina Fischer': \"female\",\n",
    "                   'Marco Sonnleitner' :\"male\", 'Astrid Vollenbruch': \"female\", 'Kari Erlhoff' : \"female\",\n",
    "                  'Hendrik Buchna': \"male\", 'Christoph Dittert':\"male\"}\n",
    "\n",
    "meta[\"author_gender\"] = meta[\"erzählt von\"].map(author_gender_map)"
   ]
  },
  {
   "cell_type": "markdown",
   "metadata": {},
   "source": [
    "### merge rating"
   ]
  },
  {
   "cell_type": "code",
   "execution_count": 19,
   "metadata": {},
   "outputs": [],
   "source": [
    "#rename columns in rating table\n",
    "rating = rating.rename(columns={\"bewertung.1\" : \"rating\", \"rang\": \"rating_rank\", \"ranking\": \"no_votes\"})\n",
    "\n",
    "#join with meta table\n",
    "meta = pd.merge(meta, rating, left_on=\"id\" ,right_on=\"id\", how='left')"
   ]
  },
  {
   "cell_type": "markdown",
   "metadata": {},
   "source": [
    "### content"
   ]
  },
  {
   "cell_type": "code",
   "execution_count": 23,
   "metadata": {},
   "outputs": [
    {
     "data": {
      "text/plain": [
       "array(['Der Super-Papagei (Hörspiel)', 'Der Phantomsee (Hörspiel)',\n",
       "       'Der Karpatenhund (Hörspiel)', 'Die schwarze Katze (Hörspiel)',\n",
       "       'Der Fluch des Rubins (Hörspiel)',\n",
       "       'Der sprechende Totenkopf (Hörspiel)',\n",
       "       'Der unheimliche Drache (Hörspiel)', 'Der grüne Geist (Hörspiel)',\n",
       "       'Die rätselhaften Bilder (Hörspiel)',\n",
       "       'Die flüsternde Mumie (Hörspiel)',\n",
       "       'Das Gespensterschloß (Hörspiel)',\n",
       "       'Der seltsame Wecker (Hörspiel)',\n",
       "       'Der lachende Schatten (Hörspiel)', 'Das Bergmonster (Hörspiel)',\n",
       "       'Der rasende Löwe (Hörspiel)', 'Der Zauberspiegel (Hörspiel)',\n",
       "       'Die gefährliche Erbschaft (Hörspiel)',\n",
       "       'Die Geisterinsel (Hörspiel)', 'Der Teufelsberg (Hörspiel)',\n",
       "       'Die flammende Spur (Hörspiel)', 'Der tanzende Teufel (Hörspiel)',\n",
       "       'Der verschwundene Schatz (Hörspiel)',\n",
       "       'Das Aztekenschwert (Hörspiel)', 'Die silberne Spinne (Hörspiel)',\n",
       "       'Die singende Schlange (Hörspiel)', 'Die Silbermine (Hörspiel)',\n",
       "       'Der magische Kreis (Hörspiel)', 'Der Doppelgänger (Hörspiel)',\n",
       "       'Das Riff der Haie (Hörspiel)', 'Das Narbengesicht (Hörspiel)',\n",
       "       'Der Ameisenmensch (Hörspiel)', 'Die bedrohte Ranch (Hörspiel)',\n",
       "       'Der rote Pirat (Hörspiel)', 'Der Höhlenmensch (Hörspiel)',\n",
       "       'Der Super-Wal (Hörspiel)', 'Der heimliche Hehler (Hörspiel)',\n",
       "       'Der unsichtbare Gegner (Hörspiel)', 'Die Perlenvögel (Hörspiel)',\n",
       "       'Der Automarder (Hörspiel)', 'Das Volk der Winde (Hörspiel)',\n",
       "       'Der weinende Sarg (Hörspiel)', 'Der höllische Werwolf (Hörspiel)',\n",
       "       'Der gestohlene Preis (Hörspiel)',\n",
       "       'Das Gold der Wikinger (Hörspiel)',\n",
       "       'Der schrullige Millionär (Hörspiel)',\n",
       "       'Der giftige Gockel (Hörspiel)',\n",
       "       'Die gefährlichen Fässer (Hörspiel)', 'Die Comic-Diebe (Hörspiel)',\n",
       "       'Der verschwundene Filmstar (Hörspiel)',\n",
       "       'Der riskante Ritt (Hörspiel)', 'Die Musikpiraten (Hörspiel)',\n",
       "       'Die Automafia (Hörspiel)', 'Gefahr im Verzug (Hörspiel)',\n",
       "       'Gekaufte Spieler (Hörspiel)',\n",
       "       'Angriff der Computer-Viren (Hörspiel)',\n",
       "       'Tatort Zirkus (Hörspiel)', 'Der verrückte Maler (Hörspiel)',\n",
       "       'Giftiges Wasser (Hörspiel)', 'Dopingmixer (Hörspiel)',\n",
       "       'Die Rache des Tigers (Hörspiel)', 'Spuk im Hotel (Hörspiel)',\n",
       "       'Fußball-Gangster (Hörspiel)', 'Geisterstadt (Hörspiel)',\n",
       "       'Diamantenschmuggel (Hörspiel)', 'Die Schattenmänner (Hörspiel)',\n",
       "       'Das Geheimnis der Särge (Hörspiel)',\n",
       "       'Der Schatz im Bergsee (Hörspiel)', 'Späte Rache (Hörspiel)',\n",
       "       'Schüsse aus dem Dunkel (Hörspiel)',\n",
       "       'Die verschwundene Seglerin (Hörspiel)',\n",
       "       'Dreckiger Deal (Hörspiel)', 'Poltergeist (Hörspiel)',\n",
       "       'Das brennende Schwert (Hörspiel)',\n",
       "       'Die Spur des Raben (Hörspiel)',\n",
       "       'Stimmen aus dem Nichts (Hörspiel)', 'Pistenteufel (Hörspiel)',\n",
       "       'Das leere Grab (Hörspiel)', 'Im Bann des Voodoo (Hörspiel)',\n",
       "       'Geheimakte Ufo (Hörspiel)', 'Verdeckte Fouls (Hörspiel)',\n",
       "       'Die Karten des Bösen (Hörspiel)',\n",
       "       'Meuterei auf hoher See (Hörspiel)',\n",
       "       'Musik des Teufels (Hörspiel)', 'Feuerturm (Hörspiel)',\n",
       "       'Nacht in Angst (Hörspiel)', 'Wolfsgesicht (Hörspiel)',\n",
       "       'Vampir im Internet (Hörspiel)', 'Tödliche Spur (Hörspiel)',\n",
       "       'Der Feuerteufel (Hörspiel)', 'Labyrinth der Götter (Hörspiel)',\n",
       "       'Todesflug (Hörspiel)', 'Das Geisterschiff (Hörspiel)',\n",
       "       'Das schwarze Monster (Hörspiel)',\n",
       "       'Botschaft von Geisterhand (Hörspiel)',\n",
       "       'Der rote Rächer (Hörspiel)', 'Insektenstachel (Hörspiel)',\n",
       "       'Tal des Schreckens (Hörspiel)', 'Rufmord (Hörspiel)',\n",
       "       'Toteninsel (Hörspiel)', 'Das Hexen-Handy (Hörspiel)',\n",
       "       'Doppelte Täuschung (Hörspiel)',\n",
       "       'Das Erbe des Meisterdiebs (Hörspiel)',\n",
       "       'Gift per E-Mail (Hörspiel)', 'Der Nebelberg (Hörspiel)',\n",
       "       'Der Mann ohne Kopf (Hörspiel)',\n",
       "       'Der Schatz der Mönche (Hörspiel)', 'Die sieben Tore (Hörspiel)',\n",
       "       'Gefährliches Quiz (Hörspiel)', 'Panik im Park (Hörspiel)',\n",
       "       'Die Höhle des Grauens (Hörspiel)',\n",
       "       'Schlucht der Dämonen (Hörspiel)',\n",
       "       'Das Auge des Drachen (Hörspiel)',\n",
       "       'Die Villa der Toten (Hörspiel)', 'Auf tödlichem Kurs (Hörspiel)',\n",
       "       'Codename: Cobra (Hörspiel)', 'Der finstere Rivale (Hörspiel)',\n",
       "       'Das düstere Vermächtnis (Hörspiel)',\n",
       "       'Der geheime Schlüssel (Hörspiel)',\n",
       "       'Der schwarze Skorpion (Hörspiel)', 'Spur ins Nichts (Hörspiel)',\n",
       "       '... und der Geisterzug (Hörspiel)', 'Fußballfieber (Hörspiel)',\n",
       "       'Geister-Canyon (Hörspiel)', 'Feuermond (Hörspiel)',\n",
       "       'Schrecken aus dem Moor (Hörspiel)', 'Schwarze Madonna (Hörspiel)',\n",
       "       'Schatten über Hollywood (Hörspiel)',\n",
       "       'SMS aus dem Grab (Hörspiel)', 'Der Fluch des Drachen (Hörspiel)',\n",
       "       'Haus des Schreckens (Hörspiel)', 'Spuk im Netz (Hörspiel)',\n",
       "       'Fels der Dämonen (Hörspiel)', 'Der tote Mönch (Hörspiel)',\n",
       "       'Fluch des Piraten (Hörspiel)', 'Das versunkene Dorf (Hörspiel)',\n",
       "       'Pfad der Angst (Hörspiel)', 'Die geheime Treppe (Hörspiel)',\n",
       "       'Das Geheimnis der Diva (Hörspiel)',\n",
       "       'Stadt der Vampire (Hörspiel)',\n",
       "       '... und die Fußball-Falle (Hörspiel)', 'Tödliches Eis (Hörspiel)',\n",
       "       '...und die Poker Hölle (Hörspiel)',\n",
       "       'Zwillinge der Finsternis (Hörspiel)',\n",
       "       'Die Rache der Samurai (Hörspiel)',\n",
       "       'Der Biss der Bestie (Hörspiel)',\n",
       "       'Grusel auf Campbell Castle (Hörspiel)',\n",
       "       '...und die feurige Flut (Hörspiel)',\n",
       "       'Der namenlose Gegner (Hörspiel)', 'Geisterbucht (Hörspiel)',\n",
       "       'Schwarze Sonne (Hörspiel)', 'Skateboardfieber (Hörspiel)',\n",
       "       '...und das Fußballphantom (Hörspiel)',\n",
       "       'Botschaft aus der Unterwelt (Hörspiel)',\n",
       "       '...und der Meister des Todes (Hörspiel)',\n",
       "       'Im Netz des Drachen (Hörspiel)',\n",
       "       'Im Zeichen der Schlangen (Hörspiel)',\n",
       "       '...und der Feuergeist (Hörspiel)', 'Nacht der Tiger (Hörspiel)',\n",
       "       'Geheimnisvolle Botschaften (Hörspiel)',\n",
       "       'Die blutenden Bilder (Hörspiel)',\n",
       "       '...und der schreiende Nebel (Hörspiel)',\n",
       "       'und der verschollene Pilot (Hörspiel)',\n",
       "       '- Fußball-Teufel (Hörspiel)',\n",
       "       'Im Schatten des Giganten (Hörspiel)',\n",
       "       'und die brennende Stadt (Hörspiel)',\n",
       "       'und das blaue Biest (Hörspiel)', 'GPS - Gangster (Hörspiel)',\n",
       "       'Die Spur des Spielers (Hörspiel)',\n",
       "       'Straße des Grauens (Hörspiel)',\n",
       "       'und das Phantom aus dem Meer (Hörspiel)',\n",
       "       '...und der Eisenmann (Hörspiel)', 'Dämon der Rache (Hörspiel)',\n",
       "       '...und das Tuch der Toten (Hörspiel)', 'Schattenwelt (Hörspiel)',\n",
       "       '...und der gestohlene Sieg (Hörspiel)',\n",
       "       'Der Geist des Goldgräbers (Hörspiel)',\n",
       "       'Der gefiederte Schrecken (Hörspiel)',\n",
       "       'Die Rache des Untoten (Hörspiel)',\n",
       "       '...und die flüsternden Puppen (Hörspiel)',\n",
       "       'Das Kabinett des Zauberers (Hörspiel)',\n",
       "       'Im Haus des Henkers (Hörspiel)',\n",
       "       '... und der letzte Song (Hörspiel)',\n",
       "       '... und der Hexengarten (Hörspiel)',\n",
       "       '... und der Mann ohne Augen (Hörspiel)',\n",
       "       'Insel des Vergessens (Hörspiel)',\n",
       "       '...und das silberne Amulett (Hörspiel)',\n",
       "       'Signale aus dem Jenseits (Hörspiel)',\n",
       "       'Der unsichtbare Passagier (Hörspiel)',\n",
       "       '... und die Kammer der Rätsel (Hörspiel)',\n",
       "       'Verbrechen im Nichts (Hörspiel)',\n",
       "       'Im Bann des Drachen (Hörspiel)',\n",
       "       'Schrecken aus der Tiefe (Hörspiel)',\n",
       "       '...und die Zeitreisende (Hörspiel)',\n",
       "       'Im Reich der Ungeheuer (Hörspiel)',\n",
       "       'Geheimnis des Bauchredners (Hörspiel)',\n",
       "       'Im Auge des Sturms (Hörspiel)',\n",
       "       'Die Legende der Gaukler (Hörspiel)',\n",
       "       'Der grüne Kobold (Hörspiel)', 'Feuriges Auge (Hörspiel)',\n",
       "       'Höhenangst (Hörspiel)', 'Das weiße Grab (Hörspiel)',\n",
       "       'Tauchgang ins Ungewisse (Hörspiel)',\n",
       "       'Der dunkle Wächter (Hörspiel)', 'Das rätselhafte Erbe (Hörspiel)',\n",
       "       '...und der Mottenmann (Hörspiel)', nan], dtype=object)"
      ]
     },
     "execution_count": 23,
     "metadata": {},
     "output_type": "execute_result"
    }
   ],
   "source": [
    "meta[\"titel\"].unique()"
   ]
  },
  {
   "cell_type": "code",
   "execution_count": null,
   "metadata": {},
   "outputs": [],
   "source": []
  },
  {
   "cell_type": "code",
   "execution_count": null,
   "metadata": {},
   "outputs": [],
   "source": [
    "df.loc[:, \"recipientOrgType\"] = None\n",
    "\n",
    "tests = [\n",
    "         [r'\\b(ltd|limited)$', 'Company/Mutual Society: Company - Limited by Guarantee'],\n",
    "         [r'(primary|secondary|junior|high|community|comprehensive|infants?|girls|boys|middle|grammar|c of e|village|first) (school|academy)|community college|(6th|sixth) form|school academy', 'School: State School'],\n",
    "         [r'\\b(friends of.*school|p ?t ?f? ?a|parent teacher|out of school club|after school)\\b', 'School support'],\n",
    "         [r'^(the )?[a-z]+ (school|academy)$', 'School: State School'],\n",
    "         [r'(pre ?|nursery )school|day nursery', 'Charity: Preschool'],\n",
    "         [r'play ?group', 'Charity: Playgroup'],\n",
    "         [r'\\b(guide (association|unit)|guides|scouts|scout (group|unit)|rainbows|brownies|cubs|(boys|girls) brigade|air training corps|cadets?|c ?c ?f)\\b', 'Charity: Uniform'],\n",
    "         [r'(county|borough|district|city) council', 'Public Sector: Local Authority'],\n",
    "         [r'^[a-z]+ council$', 'Public Sector: Local Authority'],\n",
    "         [r'combined authority$', 'Public Sector: Local Authority'],\n",
    "         [r'^(lb|london borough of) ', \"Public Sector: Local Authority\"],\n",
    "         [r'(\\byouth offending team\\b|\\by ?o ?t$) ', \"Public Sector: Local Authority\"],\n",
    "         [r'(town|parish|community) council', 'Public Sector: Parish Council'],\n",
    "         [r'\\bchurch$', 'Other: Church-based faith organisation'],\n",
    "         [r'\\b(parochial church council|p ?c ?c)\\b', 'Other: Parochial Church Council'],\n",
    "         [r'(village|parish|memorial|church) hall', 'Charity: Village Hall'],\n",
    "         [r'(football|rugby( league| union)?|volleyball|rowing|canoe|yacht|kayak(ing)?|croquet|angling|fishing|swimming|sports|basketball|athletics?|pistol|gymnastics?|golf|cricket|netball|tennis|sailing|bowling|bowls|boxing|badminton|hockey) club', 'Sports club'],\n",
    "         [r'\\b(ru?)?fc\\b|sports council', 'Sports club'],\n",
    "         [r'university(?!.*third age)', 'University'],\n",
    "         [r'(imperial|kings) college|school of.*tropical medicine', 'University'],\n",
    "         [r\"\\b(co-?operative)\\b\", 'Company/Mutual Society: Co-operative Society'],\n",
    "         [r\"\\b(cic|c i c|community interest company)\\b\", 'Company/Mutual Society: CIC'],\n",
    "         [r'this is a programme for individual veterans as opposed to organisaitons|individual recipient|no organisation', 'Other: Individual'],\n",
    "         [r'residents (association|action committee)', 'Charity: Residents association'],\n",
    "         [r'\\b(british legion|forces association)\\b', 'Charity: Forces association'],\n",
    "         [r'\\byouth club\\b', 'Charity: Youth Club'],\n",
    "         [r'\\bcredit union\\b', 'Company/Mutual Society: Credit Union'],\n",
    "         [r'\\bfriendly society\\b', 'Company/Mutual Society: Friendly Society'],\n",
    "         [r'\\bn ?h ?s ?\\b', 'Public Sector: NHS'],\n",
    "         [r'(\\bparochial church council\\b|\\bp ?c ?c ?$)', 'Other: Parochial Church Council'],\n",
    "         [r'\\b(community (group|association|centre))', 'Charity: Community Group'],\n",
    "         [r'u3a|university.*third age|citizens advice|\\bage (uk|concern)\\b|voluntary action|womens institute|groundwork|y ?(m|w) ?c ?a|homestart|dial a ride|carers trust|law centre|council for voluntary service', 'Charity: Registered Charity'],\n",
    "]\n",
    "\n",
    "for r, t in tests:\n",
    "  df.loc[df.recipientName.str.contains(r), \"recipientOrgType\"] = t\n",
    "\n",
    "df.loc[\n",
    "    df.recipientIDPrefix.isin(['GB-CHC','GB-SC','GB-NIC']) &\n",
    "    df['recipientOrgType'].isnull(),\n",
    "    \"recipientOrgType\"\n",
    "] = 'Charity: Registered Charity'\n",
    "df.loc[:, 'recipientOrgType'] = df['recipientOrgType'].fillna(df['recipientOrganization.0.organisationType'])\n",
    "\n",
    "df.loc[df.index.str.startswith('360G-SE-'), 'recipientOrgType'] = 'Sports club'\n",
    "\n",
    "pd.crosstab(\n",
    "    df['recipientOrgType'].fillna(\"[missing]\"),\n",
    "    [\n",
    "        (df['fundingOrganization.0.id']=='GB-GOR-PB188').rename('is_nlcf').apply(lambda x: 'NLCF' if x else 'Other funder'), \n",
    "        (df['recipientIDPrefix']=='360G').rename('missing_orgid')\n",
    "    ],\n",
    "    margins=True\n",
    ").drop('All').sort_values(\"All\", ascending=False)\n",
    "\n",
    "\n",
    "\n"
   ]
  },
  {
   "cell_type": "markdown",
   "metadata": {},
   "source": [
    "# Explorative Analysis"
   ]
  },
  {
   "cell_type": "markdown",
   "metadata": {},
   "source": [
    "## Chronology"
   ]
  },
  {
   "cell_type": "code",
   "execution_count": 16,
   "metadata": {},
   "outputs": [
    {
     "data": {
      "text/html": [
       "<div>\n",
       "<style scoped>\n",
       "    .dataframe tbody tr th:only-of-type {\n",
       "        vertical-align: middle;\n",
       "    }\n",
       "\n",
       "    .dataframe tbody tr th {\n",
       "        vertical-align: top;\n",
       "    }\n",
       "\n",
       "    .dataframe thead th {\n",
       "        text-align: right;\n",
       "    }\n",
       "</style>\n",
       "<table border=\"1\" class=\"dataframe\">\n",
       "  <thead>\n",
       "    <tr style=\"text-align: right;\">\n",
       "      <th></th>\n",
       "      <th>year</th>\n",
       "      <th>parts_sum</th>\n",
       "      <th>minutes_mean</th>\n",
       "      <th>minutes_min</th>\n",
       "      <th>minutes_max</th>\n",
       "      <th>id_count</th>\n",
       "      <th>id_min</th>\n",
       "      <th>id_max</th>\n",
       "    </tr>\n",
       "  </thead>\n",
       "  <tbody>\n",
       "    <tr>\n",
       "      <th>0</th>\n",
       "      <td>1979</td>\n",
       "      <td>9</td>\n",
       "      <td>45.555556</td>\n",
       "      <td>43.0</td>\n",
       "      <td>50.0</td>\n",
       "      <td>9</td>\n",
       "      <td>1</td>\n",
       "      <td>9</td>\n",
       "    </tr>\n",
       "    <tr>\n",
       "      <th>1</th>\n",
       "      <td>1980</td>\n",
       "      <td>12</td>\n",
       "      <td>42.416667</td>\n",
       "      <td>38.0</td>\n",
       "      <td>49.0</td>\n",
       "      <td>12</td>\n",
       "      <td>10</td>\n",
       "      <td>21</td>\n",
       "    </tr>\n",
       "    <tr>\n",
       "      <th>2</th>\n",
       "      <td>1981</td>\n",
       "      <td>6</td>\n",
       "      <td>43.666667</td>\n",
       "      <td>41.0</td>\n",
       "      <td>49.0</td>\n",
       "      <td>6</td>\n",
       "      <td>22</td>\n",
       "      <td>27</td>\n",
       "    </tr>\n",
       "    <tr>\n",
       "      <th>3</th>\n",
       "      <td>1982</td>\n",
       "      <td>3</td>\n",
       "      <td>39.333333</td>\n",
       "      <td>34.0</td>\n",
       "      <td>44.0</td>\n",
       "      <td>3</td>\n",
       "      <td>28</td>\n",
       "      <td>30</td>\n",
       "    </tr>\n",
       "    <tr>\n",
       "      <th>4</th>\n",
       "      <td>1983</td>\n",
       "      <td>3</td>\n",
       "      <td>43.666667</td>\n",
       "      <td>40.0</td>\n",
       "      <td>49.0</td>\n",
       "      <td>3</td>\n",
       "      <td>31</td>\n",
       "      <td>33</td>\n",
       "    </tr>\n",
       "  </tbody>\n",
       "</table>\n",
       "</div>"
      ],
      "text/plain": [
       "   year  parts_sum  minutes_mean  minutes_min  minutes_max  id_count  id_min  \\\n",
       "0  1979          9     45.555556         43.0         50.0         9       1   \n",
       "1  1980         12     42.416667         38.0         49.0        12      10   \n",
       "2  1981          6     43.666667         41.0         49.0         6      22   \n",
       "3  1982          3     39.333333         34.0         44.0         3      28   \n",
       "4  1983          3     43.666667         40.0         49.0         3      31   \n",
       "\n",
       "   id_max  \n",
       "0       9  \n",
       "1      21  \n",
       "2      27  \n",
       "3      30  \n",
       "4      33  "
      ]
     },
     "execution_count": 16,
     "metadata": {},
     "output_type": "execute_result"
    }
   ],
   "source": [
    "years = meta.groupby(\"year\")[[\"parts\", \"minutes_mean\", \"id\"]].agg({\n",
    "    \"parts\": [\"sum\"], \"minutes_mean\" : [\"mean\", \"min\", \"max\"], \"id\": [\"count\",\"min\", \"max\"]})\n",
    "years.columns = [\"_\".join(x) for x in years.columns.ravel()]\n",
    "years = years.reset_index().rename(columns={\"minutes_mean_mean\": \"minutes_mean\",\n",
    "                              \"minutes_mean_min\": \"minutes_min\", \"minutes_mean_max\":\"minutes_max\"}) \n",
    "years.head()"
   ]
  },
  {
   "cell_type": "code",
   "execution_count": 28,
   "metadata": {},
   "outputs": [
    {
     "data": {
      "text/plain": [
       "<matplotlib.axes._subplots.AxesSubplot at 0x1e83b7f7248>"
      ]
     },
     "execution_count": 28,
     "metadata": {},
     "output_type": "execute_result"
    },
    {
     "data": {
      "image/png": "[encoded data removed]",
      "text/plain": [
       "<Figure size 432x288 with 1 Axes>"
      ]
     },
     "metadata": {
      "needs_background": "light"
     },
     "output_type": "display_data"
    }
   ],
   "source": [
    "#number of episodes over time\n",
    "years.set_index(\"year\")[\"id_count\"].plot(kind='bar')"
   ]
  },
  {
   "cell_type": "code",
   "execution_count": 29,
   "metadata": {},
   "outputs": [
    {
     "data": {
      "text/plain": [
       "<matplotlib.axes._subplots.AxesSubplot at 0x1e83ceb1808>"
      ]
     },
     "execution_count": 29,
     "metadata": {},
     "output_type": "execute_result"
    },
    {
     "data": {
      "image/png": "[encoded data removed]",
      "text/plain": [
       "<Figure size 432x288 with 1 Axes>"
      ]
     },
     "metadata": {
      "needs_background": "light"
     },
     "output_type": "display_data"
    }
   ],
   "source": [
    "#number of episodes over time\n",
    "years.set_index(\"year\")[\"parts_sum\"].plot(kind='bar')"
   ]
  },
  {
   "cell_type": "code",
   "execution_count": 30,
   "metadata": {},
   "outputs": [
    {
     "data": {
      "text/plain": [
       "<matplotlib.axes._subplots.AxesSubplot at 0x1e83cfe5788>"
      ]
     },
     "execution_count": 30,
     "metadata": {},
     "output_type": "execute_result"
    },
    {
     "data": {
      "image/png": "[encoded data removed]",
      "text/plain": [
       "<Figure size 432x288 with 1 Axes>"
      ]
     },
     "metadata": {
      "needs_background": "light"
     },
     "output_type": "display_data"
    }
   ],
   "source": [
    "#Average length over time\n",
    "years.set_index(\"year\")[\"minutes_mean\"].plot(kind='bar')"
   ]
  },
  {
   "cell_type": "code",
   "execution_count": 29,
   "metadata": {},
   "outputs": [
    {
     "data": {
      "text/plain": [
       "<matplotlib.axes._subplots.AxesSubplot at 0x23e68923248>"
      ]
     },
     "execution_count": 29,
     "metadata": {},
     "output_type": "execute_result"
    },
    {
     "data": {
      "image/png": "[encoded data removed]",
      "text/plain": [
       "<Figure size 432x288 with 1 Axes>"
      ]
     },
     "metadata": {
      "needs_background": "light"
     },
     "output_type": "display_data"
    }
   ],
   "source": [
    "#Average length over time\n",
    "years.set_index(\"year\")[\"minutes_min\"].plot(kind='bar')"
   ]
  },
  {
   "cell_type": "code",
   "execution_count": 37,
   "metadata": {},
   "outputs": [
    {
     "data": {
      "text/plain": [
       "<matplotlib.axes._subplots.AxesSubplot at 0x23e69125fc8>"
      ]
     },
     "execution_count": 37,
     "metadata": {},
     "output_type": "execute_result"
    },
    {
     "data": {
      "image/png": "[encoded data removed]",
      "text/plain": [
       "<Figure size 432x288 with 1 Axes>"
      ]
     },
     "metadata": {
      "needs_background": "light"
     },
     "output_type": "display_data"
    }
   ],
   "source": [
    "#number of episodes over time\n",
    "years.set_index(\"year\")[\"id_max\"].plot(kind='barh')"
   ]
  },
  {
   "cell_type": "markdown",
   "metadata": {},
   "source": [
    "## Author"
   ]
  },
  {
   "cell_type": "code",
   "execution_count": 24,
   "metadata": {},
   "outputs": [
    {
     "data": {
      "text/plain": [
       "dtype('float64')"
      ]
     },
     "execution_count": 24,
     "metadata": {},
     "output_type": "execute_result"
    }
   ],
   "source": [
    "meta[\"minutes_mean\"].dtype"
   ]
  },
  {
   "cell_type": "code",
   "execution_count": 85,
   "metadata": {},
   "outputs": [
    {
     "data": {
      "text/plain": [
       "<matplotlib.axes._subplots.AxesSubplot at 0x1ffa22dba88>"
      ]
     },
     "execution_count": 85,
     "metadata": {},
     "output_type": "execute_result"
    },
    {
     "data": {
      "image/png": "[encoded data removed]",
      "text/plain": [
       "<Figure size 432x288 with 1 Axes>"
      ]
     },
     "metadata": {
      "needs_background": "light"
     },
     "output_type": "display_data"
    }
   ],
   "source": [
    "meta.groupby(\"author_gender\")[\"parts\"].mean().plot(kind='barh')"
   ]
  },
  {
   "cell_type": "markdown",
   "metadata": {},
   "source": [
    "## Gender"
   ]
  },
  {
   "cell_type": "code",
   "execution_count": 34,
   "metadata": {},
   "outputs": [
    {
     "data": {
      "text/plain": [
       "<matplotlib.axes._subplots.AxesSubplot at 0x1e83d3ce788>"
      ]
     },
     "execution_count": 34,
     "metadata": {},
     "output_type": "execute_result"
    },
    {
     "data": {
      "image/png": "[encoded data removed]",
      "text/plain": [
       "<Figure size 432x288 with 1 Axes>"
      ]
     },
     "metadata": {
      "needs_background": "light"
     },
     "output_type": "display_data"
    }
   ],
   "source": [
    "#number of episodes over time\n",
    "meta.set_index(\"id\")[\"female_actors_ratio\"].plot(kind='bar')"
   ]
  },
  {
   "cell_type": "code",
   "execution_count": 41,
   "metadata": {},
   "outputs": [
    {
     "data": {
      "text/plain": [
       "<matplotlib.collections.PathCollection at 0x1e83e848308>"
      ]
     },
     "execution_count": 41,
     "metadata": {},
     "output_type": "execute_result"
    },
    {
     "data": {
      "image/png": "[encoded data removed]",
      "text/plain": [
       "<Figure size 432x288 with 1 Axes>"
      ]
     },
     "metadata": {
      "needs_background": "light"
     },
     "output_type": "display_data"
    }
   ],
   "source": [
    "x = meta[\"year\"]\n",
    "y = meta[\"female_side_actors_ratio\"]\n",
    "\n",
    "plt.scatter(x, y)"
   ]
  },
  {
   "cell_type": "code",
   "execution_count": 46,
   "metadata": {},
   "outputs": [
    {
     "data": {
      "text/plain": [
       "<matplotlib.axes._subplots.AxesSubplot at 0x1e83ec4c0c8>"
      ]
     },
     "execution_count": 46,
     "metadata": {},
     "output_type": "execute_result"
    },
    {
     "data": {
      "image/png": "[encoded data removed]",
      "text/plain": [
       "<Figure size 432x288 with 1 Axes>"
      ]
     },
     "metadata": {
      "needs_background": "light"
     },
     "output_type": "display_data"
    }
   ],
   "source": [
    "meta.groupby(\"year\")[\"female_side_actors_ratio\"].max().plot(kind='bar')"
   ]
  },
  {
   "cell_type": "code",
   "execution_count": 74,
   "metadata": {},
   "outputs": [
    {
     "data": {
      "text/plain": [
       "<matplotlib.axes._subplots.AxesSubplot at 0x1ffa0e02a88>"
      ]
     },
     "execution_count": 74,
     "metadata": {},
     "output_type": "execute_result"
    },
    {
     "data": {
      "image/png": "[encoded data removed]",
      "text/plain": [
       "<Figure size 432x288 with 1 Axes>"
      ]
     },
     "metadata": {
      "needs_background": "light"
     },
     "output_type": "display_data"
    }
   ],
   "source": [
    "meta.groupby(\"author_gender\")[\"female_side_actors_ratio\"].mean().plot(kind='bar')"
   ]
  },
  {
   "cell_type": "code",
   "execution_count": 80,
   "metadata": {},
   "outputs": [
    {
     "data": {
      "text/plain": [
       "<matplotlib.axes._subplots.AxesSubplot at 0x1ffa10de908>"
      ]
     },
     "execution_count": 80,
     "metadata": {},
     "output_type": "execute_result"
    },
    {
     "data": {
      "image/png": "[encoded data removed]",
      "text/plain": [
       "<Figure size 432x288 with 1 Axes>"
      ]
     },
     "metadata": {
      "needs_background": "light"
     },
     "output_type": "display_data"
    }
   ],
   "source": [
    "meta.groupby(\"author_grouped\")[\"female_side_actors_ratio\"].min().sort_values(ascending=False).plot(kind='bar')"
   ]
  },
  {
   "cell_type": "markdown",
   "metadata": {},
   "source": [
    "## Rating"
   ]
  },
  {
   "cell_type": "code",
   "execution_count": 49,
   "metadata": {},
   "outputs": [
    {
     "data": {
      "text/plain": [
       "Index(['episode', 'bewertung.1', 'rang', 'ranking', 'id', 'source'], dtype='object')"
      ]
     },
     "execution_count": 49,
     "metadata": {},
     "output_type": "execute_result"
    }
   ],
   "source": [
    "rating.columns"
   ]
  },
  {
   "cell_type": "code",
   "execution_count": 58,
   "metadata": {},
   "outputs": [
    {
     "data": {
      "text/plain": [
       "<matplotlib.axes._subplots.AxesSubplot at 0x1e83f46a6c8>"
      ]
     },
     "execution_count": 58,
     "metadata": {},
     "output_type": "execute_result"
    },
    {
     "data": {
      "image/png": "[encoded data removed]",
      "text/plain": [
       "<Figure size 432x288 with 1 Axes>"
      ]
     },
     "metadata": {
      "needs_background": "light"
     },
     "output_type": "display_data"
    }
   ],
   "source": [
    "#number of episodes over time\n",
    "meta.set_index(\"id\")[\"rating\"].plot(kind='bar')"
   ]
  },
  {
   "cell_type": "code",
   "execution_count": 59,
   "metadata": {},
   "outputs": [
    {
     "data": {
      "text/plain": [
       "<matplotlib.collections.PathCollection at 0x1e83f935708>"
      ]
     },
     "execution_count": 59,
     "metadata": {},
     "output_type": "execute_result"
    },
    {
     "data": {
      "image/png": "[encoded data removed]",
      "text/plain": [
       "<Figure size 432x288 with 1 Axes>"
      ]
     },
     "metadata": {
      "needs_background": "light"
     },
     "output_type": "display_data"
    }
   ],
   "source": [
    "x = meta[\"year\"]\n",
    "y = meta[\"rating\"]\n",
    "\n",
    "plt.scatter(x, y)"
   ]
  },
  {
   "cell_type": "code",
   "execution_count": 104,
   "metadata": {},
   "outputs": [
    {
     "ename": "ValueError",
     "evalue": "too many values to unpack (expected 2)",
     "output_type": "error",
     "traceback": [
      "\u001b[1;31m---------------------------------------------------------------------------\u001b[0m",
      "\u001b[1;31mValueError\u001b[0m                                Traceback (most recent call last)",
      "\u001b[1;32m<ipython-input-104-856d1c253346>\u001b[0m in \u001b[0;36m<module>\u001b[1;34m\u001b[0m\n\u001b[0;32m     13\u001b[0m \u001b[1;33m\u001b[0m\u001b[0m\n\u001b[0;32m     14\u001b[0m \u001b[1;32mfor\u001b[0m \u001b[0mdata\u001b[0m\u001b[1;33m,\u001b[0m \u001b[0mcolor\u001b[0m\u001b[1;33m,\u001b[0m \u001b[0mgroup\u001b[0m \u001b[1;32min\u001b[0m \u001b[0mzip\u001b[0m\u001b[1;33m(\u001b[0m\u001b[0mdata\u001b[0m\u001b[1;33m,\u001b[0m \u001b[0mcolors\u001b[0m\u001b[1;33m,\u001b[0m \u001b[0mgroups\u001b[0m\u001b[1;33m)\u001b[0m\u001b[1;33m:\u001b[0m\u001b[1;33m\u001b[0m\u001b[1;33m\u001b[0m\u001b[0m\n\u001b[1;32m---> 15\u001b[1;33m     \u001b[0mx\u001b[0m\u001b[1;33m,\u001b[0m \u001b[0my\u001b[0m \u001b[1;33m=\u001b[0m \u001b[0mdata\u001b[0m\u001b[1;33m\u001b[0m\u001b[1;33m\u001b[0m\u001b[0m\n\u001b[0m\u001b[0;32m     16\u001b[0m     \u001b[0max\u001b[0m\u001b[1;33m.\u001b[0m\u001b[0mscatter\u001b[0m\u001b[1;33m(\u001b[0m\u001b[0mx\u001b[0m\u001b[1;33m,\u001b[0m \u001b[0my\u001b[0m\u001b[1;33m,\u001b[0m \u001b[0malpha\u001b[0m\u001b[1;33m=\u001b[0m\u001b[1;36m0.8\u001b[0m\u001b[1;33m,\u001b[0m \u001b[0mc\u001b[0m\u001b[1;33m=\u001b[0m\u001b[0mcolor\u001b[0m\u001b[1;33m,\u001b[0m \u001b[0medgecolors\u001b[0m\u001b[1;33m=\u001b[0m\u001b[1;34m'none'\u001b[0m\u001b[1;33m,\u001b[0m \u001b[0ms\u001b[0m\u001b[1;33m=\u001b[0m\u001b[1;36m30\u001b[0m\u001b[1;33m,\u001b[0m \u001b[0mlabel\u001b[0m\u001b[1;33m=\u001b[0m\u001b[0mgroup\u001b[0m\u001b[1;33m)\u001b[0m\u001b[1;33m\u001b[0m\u001b[1;33m\u001b[0m\u001b[0m\n\u001b[0;32m     17\u001b[0m \u001b[1;33m\u001b[0m\u001b[0m\n",
      "\u001b[1;31mValueError\u001b[0m: too many values to unpack (expected 2)"
     ]
    },
    {
     "data": {
      "image/png": "[encoded data removed]",
      "text/plain": [
       "<Figure size 432x288 with 1 Axes>"
      ]
     },
     "metadata": {
      "needs_background": "light"
     },
     "output_type": "display_data"
    }
   ],
   "source": [
    "x = meta[\"year\"]\n",
    "y = meta[\"rating\"]\n",
    "z= meta[\"narrator_name\"]\n",
    "\n",
    "data = (x, y, z)\n",
    "colors = (\"red\", \"green\", \"blue\", \"black\")\n",
    "groups = (\"coffee\", \"tea\", \"water\", \"mouse\")\n",
    "\n",
    "\n",
    "# Create plot\n",
    "fig = plt.figure()\n",
    "ax = fig.add_subplot(1, 1, 1)\n",
    "\n",
    "for data, color, group in zip(data, colors, groups):\n",
    "    x, y = data\n",
    "    ax.scatter(x, y, alpha=0.8, c=color, edgecolors='none', s=30, label=group)\n",
    "\n",
    "plt.title('Matplot scatter plot')\n",
    "plt.legend(loc=2)\n",
    "plt.show()"
   ]
  },
  {
   "cell_type": "code",
   "execution_count": 102,
   "metadata": {},
   "outputs": [
    {
     "data": {
      "text/plain": [
       "(208, 63)"
      ]
     },
     "execution_count": 102,
     "metadata": {},
     "output_type": "execute_result"
    }
   ],
   "source": [
    "meta.shape"
   ]
  },
  {
   "cell_type": "code",
   "execution_count": 82,
   "metadata": {},
   "outputs": [
    {
     "data": {
      "text/plain": [
       "<matplotlib.collections.PathCollection at 0x1e83f945588>"
      ]
     },
     "execution_count": 82,
     "metadata": {},
     "output_type": "execute_result"
    },
    {
     "data": {
      "image/png": "[encoded data removed]",
      "text/plain": [
       "<Figure size 432x288 with 1 Axes>"
      ]
     },
     "metadata": {
      "needs_background": "light"
     },
     "output_type": "display_data"
    }
   ],
   "source": [
    "x = meta[\"minutes\"]\n",
    "y = meta[\"rating\"]\n",
    "\n",
    "plt.scatter(x, y)"
   ]
  },
  {
   "cell_type": "code",
   "execution_count": 108,
   "metadata": {},
   "outputs": [
    {
     "data": {
      "text/plain": [
       "Index(['id', '\"anudhara\" aufgenommen bei bantree records, worms / produzent',\n",
       "       'buch', 'buch und effekte', 'buch und redaktion', 'cover-illustration',\n",
       "       'coverillustration', 'design', 'effekte und redaktion',\n",
       "       'erscheinungsdatum', 'erzählt von', 'geräusche', 'ger�usche',\n",
       "       'hörspielbearbeitung', 'klang-recycling', 'laufzeit', 'musik',\n",
       "       'musik und effekte',\n",
       "       'nessie der seltsame wecker matthias green recyclings aus 3 fragezeichen rap',\n",
       "       'produktion und regie', 'projektleitung und produktmanagement',\n",
       "       'redaktion', 'redaktion und geräusche', 'regie', 'regie und produktion',\n",
       "       'song', 'teil a erzählt von', 'teil b erzählt von',\n",
       "       'teil c erzählt von', 'titel', 'titelmusik', 'html',\n",
       "       'zur vorherigen folge | zur nächsten folge', 'book', 'cover', 'music',\n",
       "       'director', 'editor', 'sounds', 'date', 'minutes', 'minutes_mean',\n",
       "       'minutes_total', 'parts', 'year', 'month', 'no_actors_total',\n",
       "       'no_main_actors', 'narrator', 'no_side_actors', 'no_female_actors',\n",
       "       'no_male_actors', 'no_actor_gender_missing', 'female_actors_ratio',\n",
       "       'no_female_side_actors', 'no_male_side_actors',\n",
       "       'female_side_actors_ratio', 'episode', 'rating', 'rating_rank',\n",
       "       'no_votes', 'source', 'narrator_name'],\n",
       "      dtype='object')"
      ]
     },
     "execution_count": 108,
     "metadata": {},
     "output_type": "execute_result"
    }
   ],
   "source": [
    "meta.columns"
   ]
  },
  {
   "cell_type": "code",
   "execution_count": 72,
   "metadata": {},
   "outputs": [
    {
     "data": {
      "text/plain": [
       "<matplotlib.axes._subplots.AxesSubplot at 0x1ffa0d84ac8>"
      ]
     },
     "execution_count": 72,
     "metadata": {},
     "output_type": "execute_result"
    },
    {
     "data": {
      "image/png": "[encoded data removed]",
      "text/plain": [
       "<Figure size 432x288 with 1 Axes>"
      ]
     },
     "metadata": {
      "needs_background": "light"
     },
     "output_type": "display_data"
    }
   ],
   "source": [
    "\n",
    "meta.groupby(\"author_gender\")[\"rating\"].mean().plot(kind='bar')"
   ]
  },
  {
   "cell_type": "code",
   "execution_count": 112,
   "metadata": {},
   "outputs": [
    {
     "data": {
      "text/plain": [
       "<matplotlib.axes._subplots.AxesSubplot at 0x1e845ec8708>"
      ]
     },
     "execution_count": 112,
     "metadata": {},
     "output_type": "execute_result"
    },
    {
     "data": {
      "image/png": "[encoded data removed]",
      "text/plain": [
       "<Figure size 432x288 with 1 Axes>"
      ]
     },
     "metadata": {
      "needs_background": "light"
     },
     "output_type": "display_data"
    }
   ],
   "source": [
    "meta.groupby(\"editor\")[\"rating\"].count().plot(kind='bar')"
   ]
  },
  {
   "cell_type": "code",
   "execution_count": 43,
   "metadata": {},
   "outputs": [
    {
     "data": {
      "text/plain": [
       "<matplotlib.axes._subplots.AxesSubplot at 0x1ffa099d688>"
      ]
     },
     "execution_count": 43,
     "metadata": {},
     "output_type": "execute_result"
    },
    {
     "data": {
      "image/png": "[encoded data removed]",
      "text/plain": [
       "<Figure size 432x288 with 1 Axes>"
      ]
     },
     "metadata": {
      "needs_background": "light"
     },
     "output_type": "display_data"
    }
   ],
   "source": [
    "meta.groupby(\"storyteller_grouped\")[\"rating\"].mean().plot(kind='bar')"
   ]
  },
  {
   "cell_type": "code",
   "execution_count": 60,
   "metadata": {},
   "outputs": [
    {
     "data": {
      "text/plain": [
       "<matplotlib.axes._subplots.AxesSubplot at 0x1ffa0cccec8>"
      ]
     },
     "execution_count": 60,
     "metadata": {},
     "output_type": "execute_result"
    },
    {
     "data": {
      "image/png": "[encoded data removed]",
      "text/plain": [
       "<Figure size 432x288 with 1 Axes>"
      ]
     },
     "metadata": {
      "needs_background": "light"
     },
     "output_type": "display_data"
    }
   ],
   "source": [
    "meta.groupby(\"storyteller_grouped\")[\"rating\"].mean().sort_values().plot(kind='bar')"
   ]
  },
  {
   "cell_type": "code",
   "execution_count": 121,
   "metadata": {},
   "outputs": [
    {
     "data": {
      "text/plain": [
       "<matplotlib.axes._subplots.AxesSubplot at 0x1e8462c2188>"
      ]
     },
     "execution_count": 121,
     "metadata": {},
     "output_type": "execute_result"
    },
    {
     "data": {
      "image/png": "[encoded data removed]",
      "text/plain": [
       "<Figure size 432x288 with 1 Axes>"
      ]
     },
     "metadata": {
      "needs_background": "light"
     },
     "output_type": "display_data"
    }
   ],
   "source": [
    "meta.groupby(\"erzählt von\")[\"rating\"].count().sort_values().plot(kind='bar')"
   ]
  },
  {
   "cell_type": "code",
   "execution_count": 125,
   "metadata": {},
   "outputs": [
    {
     "data": {
      "text/plain": [
       "<matplotlib.collections.PathCollection at 0x1e846482e48>"
      ]
     },
     "execution_count": 125,
     "metadata": {},
     "output_type": "execute_result"
    },
    {
     "data": {
      "image/png": "[encoded data removed]",
      "text/plain": [
       "<Figure size 432x288 with 1 Axes>"
      ]
     },
     "metadata": {
      "needs_background": "light"
     },
     "output_type": "display_data"
    }
   ],
   "source": [
    "x = meta[\"female_side_actors_ratio\"]\n",
    "y = meta[\"rating\"]\n",
    "\n",
    "plt.scatter(x, y)"
   ]
  },
  {
   "cell_type": "code",
   "execution_count": 103,
   "metadata": {},
   "outputs": [
    {
     "data": {
      "text/plain": [
       "0      1.0\n",
       "1      1.0\n",
       "2      1.0\n",
       "3      1.0\n",
       "4      1.0\n",
       "      ... \n",
       "203    1.0\n",
       "204    1.0\n",
       "205    1.0\n",
       "206    1.0\n",
       "207    NaN\n",
       "Name: narrator, Length: 208, dtype: float64"
      ]
     },
     "execution_count": 103,
     "metadata": {},
     "output_type": "execute_result"
    }
   ],
   "source": [
    "meta[\"narrator\"]"
   ]
  }
 ],
 "metadata": {
  "kernelspec": {
   "display_name": "py3_dreif",
   "language": "python",
   "name": "py3_dreif"
  },
  "language_info": {
   "codemirror_mode": {
    "name": "ipython",
    "version": 3
   },
   "file_extension": ".py",
   "mimetype": "text/x-python",
   "name": "python",
   "nbconvert_exporter": "python",
   "pygments_lexer": "ipython3",
   "version": "3.7.5"
  },
  "toc": {
   "base_numbering": 1,
   "nav_menu": {},
   "number_sections": true,
   "sideBar": true,
   "skip_h1_title": false,
   "title_cell": "Table of Contents",
   "title_sidebar": "Contents",
   "toc_cell": false,
   "toc_position": {
    "height": "calc(100% - 180px)",
    "left": "10px",
    "top": "150px",
    "width": "303.4px"
   },
   "toc_section_display": true,
   "toc_window_display": true
  }
 },
 "nbformat": 4,
 "nbformat_minor": 2
}
