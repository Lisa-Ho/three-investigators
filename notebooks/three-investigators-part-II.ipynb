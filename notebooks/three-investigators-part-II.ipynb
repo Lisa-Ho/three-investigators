{
 "cells": [
  {
   "cell_type": "markdown",
   "metadata": {},
   "source": [
    "# Three investigators - part II\n",
    "\n",
    "A project for scraping and analysing data from a fan site on the audio book called '[The three investigators](https://en.wikipedia.org/wiki/Three_Investigators#Germany)'\n",
    "\n",
    "Part II: Data preparation and explorative analysis\n",
    "\n",
    "- additional data cleaning and preparing for analysis\n",
    "- using [Genderize API](https://github.com/SteelPangolin/genderize) to predict gender of actors using first names\n",
    "- explorative analysis of data\n",
    "- prediction of episode ratings"
   ]
  },
  {
   "cell_type": "markdown",
   "metadata": {},
   "source": [
    "# Setup"
   ]
  },
  {
   "cell_type": "code",
   "execution_count": 1,
   "metadata": {},
   "outputs": [
    {
     "name": "stdout",
     "output_type": "stream",
     "text": [
      "3.7.5\n"
     ]
    }
   ],
   "source": [
    "#python version used for this project\n",
    "from platform import python_version\n",
    "print(python_version())"
   ]
  },
  {
   "cell_type": "code",
   "execution_count": 2,
   "metadata": {},
   "outputs": [],
   "source": [
    "# import modules [as specified in requirements.txt]\n",
    "import pandas as pd\n",
    "import numpy as np\n",
    "import re\n",
    "import requests\n",
    "from datetime import date\n",
    "\n",
    "# for file directories\n",
    "import os\n",
    "\n",
    "#change directory to root folder\n",
    "os.chdir(\"..\")\n",
    "\n",
    "#load script to work with Genderize API (download [here](https://github.com/SteelPangolin/genderize))\n",
    "#this will require to have requests imported\n",
    "from src.genderize import Genderize\n",
    "\n",
    "%matplotlib inline"
   ]
  },
  {
   "cell_type": "markdown",
   "metadata": {},
   "source": [
    "# Load data"
   ]
  },
  {
   "cell_type": "code",
   "execution_count": 9,
   "metadata": {},
   "outputs": [],
   "source": [
    "meta = pd.read_csv(\".\\\\data\\\\scraped\\\\meta.csv\")\n",
    "actors = pd.read_csv(\".\\\\data\\\\scraped\\\\actor_all.csv\")\n",
    "content = pd.read_csv(\".\\\\data\\\\scraped\\\\content_all.csv\")\n",
    "rating = pd.read_csv(\".\\\\data\\\\scraped\\\\rating.csv\")\n",
    "gender = pd.read_csv(\".\\\\data\\\\processed\\\\actor_gender_prediction_2020-09-26.csv\")"
   ]
  },
  {
   "cell_type": "code",
   "execution_count": 10,
   "metadata": {},
   "outputs": [
    {
     "data": {
      "text/plain": [
       "(205, 44)"
      ]
     },
     "execution_count": 10,
     "metadata": {},
     "output_type": "execute_result"
    }
   ],
   "source": [
    "meta.shape"
   ]
  },
  {
   "cell_type": "markdown",
   "metadata": {},
   "source": [
    "# Data cleaning and prep"
   ]
  },
  {
   "cell_type": "markdown",
   "metadata": {},
   "source": [
    "## Consistent column labels"
   ]
  },
  {
   "cell_type": "code",
   "execution_count": 11,
   "metadata": {},
   "outputs": [],
   "source": [
    "# make all column names lower case\n",
    "df_list = [meta, actors, content, rating]\n",
    "\n",
    "for df in df_list:\n",
    "    df.columns = df.columns.str.lower()"
   ]
  },
  {
   "cell_type": "markdown",
   "metadata": {},
   "source": [
    "## add/remove episode 29 from tables"
   ]
  },
  {
   "cell_type": "code",
   "execution_count": 12,
   "metadata": {},
   "outputs": [],
   "source": [
    "### add episode 29 details to meta table (https://www.rocky-beach.com/hoerspiel/folgen/029.html)\n",
    "meta = meta.append({'id' : 29, 'music': 'B. Brac/B. George', 'date':'1982-03-21', \n",
    "                     'minutes': 34, 'minutes_mean':34, 'minutes_total':34, 'parts':1} , ignore_index=True)\n",
    "\n",
    "## remove 29 from actors table\n",
    "actors = actors.loc[actors[\"id\"] != 29]"
   ]
  },
  {
   "cell_type": "code",
   "execution_count": 13,
   "metadata": {},
   "outputs": [
    {
     "data": {
      "text/html": [
       "<div>\n",
       "<style scoped>\n",
       "    .dataframe tbody tr th:only-of-type {\n",
       "        vertical-align: middle;\n",
       "    }\n",
       "\n",
       "    .dataframe tbody tr th {\n",
       "        vertical-align: top;\n",
       "    }\n",
       "\n",
       "    .dataframe thead th {\n",
       "        text-align: right;\n",
       "    }\n",
       "</style>\n",
       "<table border=\"1\" class=\"dataframe\">\n",
       "  <thead>\n",
       "    <tr style=\"text-align: right;\">\n",
       "      <th></th>\n",
       "      <th>id</th>\n",
       "      <th>\"anudhara\" aufgenommen bei bantree records, worms / produzent</th>\n",
       "      <th>buch</th>\n",
       "      <th>buch und effekte</th>\n",
       "      <th>buch und redaktion</th>\n",
       "      <th>cover-illustration</th>\n",
       "      <th>coverillustration</th>\n",
       "      <th>design</th>\n",
       "      <th>effekte und redaktion</th>\n",
       "      <th>erscheinungsdatum</th>\n",
       "      <th>...</th>\n",
       "      <th>cover</th>\n",
       "      <th>music</th>\n",
       "      <th>director</th>\n",
       "      <th>editor</th>\n",
       "      <th>sounds</th>\n",
       "      <th>date</th>\n",
       "      <th>minutes</th>\n",
       "      <th>minutes_mean</th>\n",
       "      <th>minutes_total</th>\n",
       "      <th>parts</th>\n",
       "    </tr>\n",
       "  </thead>\n",
       "  <tbody>\n",
       "    <tr>\n",
       "      <th>205</th>\n",
       "      <td>29</td>\n",
       "      <td>NaN</td>\n",
       "      <td>NaN</td>\n",
       "      <td>NaN</td>\n",
       "      <td>NaN</td>\n",
       "      <td>NaN</td>\n",
       "      <td>NaN</td>\n",
       "      <td>NaN</td>\n",
       "      <td>NaN</td>\n",
       "      <td>NaN</td>\n",
       "      <td>...</td>\n",
       "      <td>NaN</td>\n",
       "      <td>B. Brac/B. George</td>\n",
       "      <td>NaN</td>\n",
       "      <td>NaN</td>\n",
       "      <td>NaN</td>\n",
       "      <td>1982-03-21</td>\n",
       "      <td>34</td>\n",
       "      <td>34.0</td>\n",
       "      <td>34</td>\n",
       "      <td>1</td>\n",
       "    </tr>\n",
       "  </tbody>\n",
       "</table>\n",
       "<p>1 rows × 44 columns</p>\n",
       "</div>"
      ],
      "text/plain": [
       "     id \"anudhara\" aufgenommen bei bantree records, worms / produzent buch  \\\n",
       "205  29                                                NaN             NaN   \n",
       "\n",
       "    buch und effekte buch und redaktion cover-illustration coverillustration  \\\n",
       "205              NaN                NaN                NaN               NaN   \n",
       "\n",
       "    design effekte und redaktion erscheinungsdatum  ... cover  \\\n",
       "205    NaN                   NaN               NaN  ...   NaN   \n",
       "\n",
       "                 music director editor  sounds        date minutes  \\\n",
       "205  B. Brac/B. George      NaN    NaN     NaN  1982-03-21      34   \n",
       "\n",
       "    minutes_mean  minutes_total parts  \n",
       "205         34.0             34     1  \n",
       "\n",
       "[1 rows x 44 columns]"
      ]
     },
     "execution_count": 13,
     "metadata": {},
     "output_type": "execute_result"
    }
   ],
   "source": [
    "meta.loc[meta[\"id\"] == 29]"
   ]
  },
  {
   "cell_type": "markdown",
   "metadata": {},
   "source": [
    "## Predict actors' gender"
   ]
  },
  {
   "cell_type": "code",
   "execution_count": null,
   "metadata": {},
   "outputs": [],
   "source": [
    "##get gender for list of firstnames from Genderize.io\n",
    "#\n",
    "##get unique list of first actor names\n",
    "#names_unique = list (set (actors[\"firstname\"]))\n",
    "#\n",
    "##access genderize.io api using this repository: tps://github.com/SteelPangolin/genderize\n",
    "#gender_raw = Genderize().get(names_unique)\n",
    "#\n",
    "##make dictionary into data frame\n",
    "#gender = []\n",
    "#for i in range(len(gender_raw)):\n",
    "#    c = pd.DataFrame(gender_raw[i].items())[1]\n",
    "#    gender.append(c)\n",
    "#\n",
    "##rename columns\n",
    "#gender = pd.concat(gender, axis=1).transpose().rename(columns={0:\"name\", 1:\"gender\", 2:\"gender_probability\", 3:\"gender_count\"})  \n",
    "#\n",
    "##save output as backup to access later\n",
    "#gender.to_csv(\".\\\\data\\\\processed\\\\actor_gender_prediction_\" + \"%s\" %(str(date.today())) + \".csv\") \n",
    "#\n",
    "##display\n",
    "#gender.head()"
   ]
  },
  {
   "cell_type": "code",
   "execution_count": 14,
   "metadata": {},
   "outputs": [
    {
     "data": {
      "text/html": [
       "<div>\n",
       "<style scoped>\n",
       "    .dataframe tbody tr th:only-of-type {\n",
       "        vertical-align: middle;\n",
       "    }\n",
       "\n",
       "    .dataframe tbody tr th {\n",
       "        vertical-align: top;\n",
       "    }\n",
       "\n",
       "    .dataframe thead th {\n",
       "        text-align: right;\n",
       "    }\n",
       "</style>\n",
       "<table border=\"1\" class=\"dataframe\">\n",
       "  <thead>\n",
       "    <tr style=\"text-align: right;\">\n",
       "      <th></th>\n",
       "      <th>role</th>\n",
       "      <th>actor</th>\n",
       "      <th>id</th>\n",
       "      <th>actor_clean</th>\n",
       "      <th>title</th>\n",
       "      <th>firstname</th>\n",
       "      <th>surename</th>\n",
       "      <th>no_names</th>\n",
       "      <th>main_actor</th>\n",
       "      <th>narrator</th>\n",
       "      <th>Unnamed: 0</th>\n",
       "      <th>gender</th>\n",
       "      <th>gender_probability</th>\n",
       "      <th>gender_count</th>\n",
       "    </tr>\n",
       "  </thead>\n",
       "  <tbody>\n",
       "    <tr>\n",
       "      <th>0</th>\n",
       "      <td>Hitchcock</td>\n",
       "      <td>Peter Pasetti</td>\n",
       "      <td>1</td>\n",
       "      <td>Peter Pasetti</td>\n",
       "      <td>0</td>\n",
       "      <td>Peter</td>\n",
       "      <td>Pasetti</td>\n",
       "      <td>2</td>\n",
       "      <td>0</td>\n",
       "      <td>1</td>\n",
       "      <td>1</td>\n",
       "      <td>male</td>\n",
       "      <td>0.99</td>\n",
       "      <td>165452</td>\n",
       "    </tr>\n",
       "    <tr>\n",
       "      <th>1</th>\n",
       "      <td>Justus Jonas</td>\n",
       "      <td>Oliver Rohrbeck</td>\n",
       "      <td>1</td>\n",
       "      <td>Oliver Rohrbeck</td>\n",
       "      <td>0</td>\n",
       "      <td>Oliver</td>\n",
       "      <td>Rohrbeck</td>\n",
       "      <td>2</td>\n",
       "      <td>1</td>\n",
       "      <td>0</td>\n",
       "      <td>1</td>\n",
       "      <td>male</td>\n",
       "      <td>0.99</td>\n",
       "      <td>32776</td>\n",
       "    </tr>\n",
       "    <tr>\n",
       "      <th>2</th>\n",
       "      <td>Peter Shaw</td>\n",
       "      <td>Jens Wawrczeck</td>\n",
       "      <td>1</td>\n",
       "      <td>Jens Wawrczeck</td>\n",
       "      <td>0</td>\n",
       "      <td>Jens</td>\n",
       "      <td>Wawrczeck</td>\n",
       "      <td>2</td>\n",
       "      <td>1</td>\n",
       "      <td>0</td>\n",
       "      <td>1</td>\n",
       "      <td>male</td>\n",
       "      <td>0.99</td>\n",
       "      <td>23807</td>\n",
       "    </tr>\n",
       "    <tr>\n",
       "      <th>3</th>\n",
       "      <td>Bob Andrews</td>\n",
       "      <td>Andreas Fröhlich</td>\n",
       "      <td>1</td>\n",
       "      <td>Andreas Fröhlich</td>\n",
       "      <td>0</td>\n",
       "      <td>Andreas</td>\n",
       "      <td>Fröhlich</td>\n",
       "      <td>2</td>\n",
       "      <td>1</td>\n",
       "      <td>0</td>\n",
       "      <td>1</td>\n",
       "      <td>male</td>\n",
       "      <td>0.99</td>\n",
       "      <td>71365</td>\n",
       "    </tr>\n",
       "    <tr>\n",
       "      <th>4</th>\n",
       "      <td>Mr. Fentriss, Schriftsteller</td>\n",
       "      <td>Richard Lauffen</td>\n",
       "      <td>1</td>\n",
       "      <td>Richard Lauffen</td>\n",
       "      <td>0</td>\n",
       "      <td>Richard</td>\n",
       "      <td>Lauffen</td>\n",
       "      <td>2</td>\n",
       "      <td>0</td>\n",
       "      <td>0</td>\n",
       "      <td>1</td>\n",
       "      <td>male</td>\n",
       "      <td>0.99</td>\n",
       "      <td>101928</td>\n",
       "    </tr>\n",
       "  </tbody>\n",
       "</table>\n",
       "</div>"
      ],
      "text/plain": [
       "                           role             actor  id       actor_clean  \\\n",
       "0                     Hitchcock     Peter Pasetti   1     Peter Pasetti   \n",
       "1                  Justus Jonas   Oliver Rohrbeck   1   Oliver Rohrbeck   \n",
       "2                    Peter Shaw    Jens Wawrczeck   1    Jens Wawrczeck   \n",
       "3                   Bob Andrews  Andreas Fröhlich   1  Andreas Fröhlich   \n",
       "4  Mr. Fentriss, Schriftsteller   Richard Lauffen   1   Richard Lauffen   \n",
       "\n",
       "   title firstname   surename  no_names  main_actor  narrator  Unnamed: 0  \\\n",
       "0      0     Peter    Pasetti         2           0         1           1   \n",
       "1      0    Oliver   Rohrbeck         2           1         0           1   \n",
       "2      0      Jens  Wawrczeck         2           1         0           1   \n",
       "3      0   Andreas   Fröhlich         2           1         0           1   \n",
       "4      0   Richard    Lauffen         2           0         0           1   \n",
       "\n",
       "  gender  gender_probability  gender_count  \n",
       "0   male                0.99        165452  \n",
       "1   male                0.99         32776  \n",
       "2   male                0.99         23807  \n",
       "3   male                0.99         71365  \n",
       "4   male                0.99        101928  "
      ]
     },
     "execution_count": 14,
     "metadata": {},
     "output_type": "execute_result"
    }
   ],
   "source": [
    "# join tables\n",
    "actors = pd.merge(actors, gender, left_on='firstname', right_on = \"name\", how=\"left\")\n",
    "actors = actors.drop(\"name\", axis=1)\n",
    "actors.head()"
   ]
  },
  {
   "cell_type": "code",
   "execution_count": 15,
   "metadata": {},
   "outputs": [
    {
     "data": {
      "text/plain": [
       "array(['Heikedine', 'Reinhilt', 'J.S.', 'H.', 'Schiffmeister', '...',\n",
       "       'Rosakutty', 'Gustav-Adolph', 'Rhesi', 'é', 'Jörgpeter'],\n",
       "      dtype=object)"
      ]
     },
     "execution_count": 15,
     "metadata": {},
     "output_type": "execute_result"
    }
   ],
   "source": [
    "# get list of names that have not been classified with a gender\n",
    "actors.loc[actors[\"gender\"].isna()][\"firstname\"].unique()"
   ]
  },
  {
   "cell_type": "code",
   "execution_count": 16,
   "metadata": {},
   "outputs": [],
   "source": [
    "## classify gender of missing ones (if known)\n",
    "actors.loc[actors[\"firstname\"] == 'Heikedine', \"gender\"] = \"female\"\n",
    "actors.loc[actors[\"firstname\"] == 'Reinhilt', \"gender\"] = \"female\"\n",
    "actors.loc[actors[\"firstname\"] == 'Gustav-Adolph', \"gender\"] = \"male\"\n",
    "actors.loc[actors[\"firstname\"] == 'Jörgpeter', \"gender\"] = \"male\"\n",
    "actors.loc[actors[\"firstname\"] == 'Rhesi', \"gender\"] = \"female\"\n",
    "actors.loc[actors[\"firstname\"] == 'é', \"gender\"] = \"male\""
   ]
  },
  {
   "cell_type": "markdown",
   "metadata": {},
   "source": [
    "## Add to meta data"
   ]
  },
  {
   "cell_type": "code",
   "execution_count": 17,
   "metadata": {},
   "outputs": [],
   "source": [
    "## Create year and month column\n",
    "meta[\"year\"] = pd.DatetimeIndex(meta[\"date\"]).year\n",
    "meta[\"month\"] = pd.DatetimeIndex(meta[\"date\"]).month"
   ]
  },
  {
   "cell_type": "markdown",
   "metadata": {},
   "source": [
    "### Number of actors, main and side"
   ]
  },
  {
   "cell_type": "code",
   "execution_count": 19,
   "metadata": {},
   "outputs": [],
   "source": [
    "actors_agg = pd.DataFrame(actors.groupby(\"id\")[[\"actor\", \"main_actor\", \"narrator\"]].agg(\n",
    "    {\"actor\": \"count\", \"main_actor\":\"sum\", \"narrator\": \"max\"})).reset_index()\n",
    "actors_agg = actors_agg.rename(columns={\"actor\":\"no_actors_total\", \"main_actor\":\"no_main_actors\"})\n",
    "actors_agg[\"no_side_actors\"] = actors_agg[\"no_actors_total\"] - actors_agg[\"no_main_actors\"] - actors_agg[\"narrator\"] #also remove narrator\n",
    "\n",
    "#join with meta\n",
    "meta = pd.merge(meta, actors_agg, left_on=\"id\" ,right_on=\"id\", how='left')"
   ]
  },
  {
   "cell_type": "markdown",
   "metadata": {},
   "source": [
    "### Gender balance all actors"
   ]
  },
  {
   "cell_type": "code",
   "execution_count": 21,
   "metadata": {},
   "outputs": [],
   "source": [
    "actors_gender = actors.groupby([\"id\", \"gender\"])[\"role\"].count()\n",
    "actors_gender = pd.DataFrame(actors_gender).unstack().fillna(0).reset_index(\"id\")\n",
    "actors_gender.columns = actors_gender.columns.droplevel(level=0)\n",
    "actors_gender = actors_gender.rename(columns={\"\": \"id\", \"female\": \"no_female_actors\", \"male\": \"no_male_actors\"})\n",
    "\n",
    "#join with meta\n",
    "meta = pd.merge(meta, actors_gender, left_on=\"id\" ,right_on=\"id\", how='left')\n",
    "\n",
    "#gender missing\n",
    "meta[\"no_actor_gender_missing\"] = meta[\"no_actors_total\"] - meta[[\"no_female_actors\", \"no_male_actors\"]].sum(axis=1)\n",
    "\n",
    "#gender balance for all actors\n",
    "meta[\"female_actors_ratio\"] = meta[\"no_female_actors\"] / meta[[\"no_female_actors\", \"no_male_actors\"]].sum(axis=1) *100"
   ]
  },
  {
   "cell_type": "markdown",
   "metadata": {},
   "source": [
    "### Gender balance side actors"
   ]
  },
  {
   "cell_type": "code",
   "execution_count": 23,
   "metadata": {},
   "outputs": [],
   "source": [
    "filter_side_actors = (actors[\"narrator\"] == 0) & (actors[\"main_actor\"] == 0)\n",
    "side_actors_gender = actors.loc[filter_side_actors].groupby([\"id\", \"gender\"])[\"role\"].count()\n",
    "side_actors_gender = pd.DataFrame(side_actors_gender).unstack().fillna(0).reset_index(\"id\")\n",
    "side_actors_gender.columns = side_actors_gender.columns.droplevel(level=0)\n",
    "side_actors_gender = side_actors_gender.rename(columns={\"\": \"id\", \"female\": \"no_female_side_actors\", \"male\": \"no_male_side_actors\"})\n",
    "\n",
    "#join with meta\n",
    "meta = pd.merge(meta, side_actors_gender, left_on=\"id\" ,right_on=\"id\", how='left')\n",
    "\n",
    "#gender balance for side actors\n",
    "meta[\"female_side_actors_ratio\"] = meta[\"no_female_side_actors\"] / meta[[\"no_female_side_actors\", \"no_male_side_actors\"]].sum(axis=1) *100"
   ]
  },
  {
   "cell_type": "markdown",
   "metadata": {},
   "source": [
    "# Explorative Analysis"
   ]
  },
  {
   "cell_type": "markdown",
   "metadata": {},
   "source": [
    "## Chronology"
   ]
  },
  {
   "cell_type": "code",
   "execution_count": 27,
   "metadata": {},
   "outputs": [
    {
     "data": {
      "text/html": [
       "<div>\n",
       "<style scoped>\n",
       "    .dataframe tbody tr th:only-of-type {\n",
       "        vertical-align: middle;\n",
       "    }\n",
       "\n",
       "    .dataframe tbody tr th {\n",
       "        vertical-align: top;\n",
       "    }\n",
       "\n",
       "    .dataframe thead th {\n",
       "        text-align: right;\n",
       "    }\n",
       "</style>\n",
       "<table border=\"1\" class=\"dataframe\">\n",
       "  <thead>\n",
       "    <tr style=\"text-align: right;\">\n",
       "      <th></th>\n",
       "      <th>year</th>\n",
       "      <th>parts_sum</th>\n",
       "      <th>minutes_mean</th>\n",
       "      <th>minutes_min</th>\n",
       "      <th>minutes_max</th>\n",
       "      <th>id_count</th>\n",
       "      <th>id_min</th>\n",
       "      <th>id_max</th>\n",
       "    </tr>\n",
       "  </thead>\n",
       "  <tbody>\n",
       "    <tr>\n",
       "      <th>0</th>\n",
       "      <td>1979</td>\n",
       "      <td>9</td>\n",
       "      <td>45.555556</td>\n",
       "      <td>43.0</td>\n",
       "      <td>50.0</td>\n",
       "      <td>9</td>\n",
       "      <td>1</td>\n",
       "      <td>9</td>\n",
       "    </tr>\n",
       "    <tr>\n",
       "      <th>1</th>\n",
       "      <td>1980</td>\n",
       "      <td>12</td>\n",
       "      <td>42.416667</td>\n",
       "      <td>38.0</td>\n",
       "      <td>49.0</td>\n",
       "      <td>12</td>\n",
       "      <td>10</td>\n",
       "      <td>21</td>\n",
       "    </tr>\n",
       "    <tr>\n",
       "      <th>2</th>\n",
       "      <td>1981</td>\n",
       "      <td>6</td>\n",
       "      <td>43.666667</td>\n",
       "      <td>41.0</td>\n",
       "      <td>49.0</td>\n",
       "      <td>6</td>\n",
       "      <td>22</td>\n",
       "      <td>27</td>\n",
       "    </tr>\n",
       "    <tr>\n",
       "      <th>3</th>\n",
       "      <td>1982</td>\n",
       "      <td>3</td>\n",
       "      <td>39.333333</td>\n",
       "      <td>34.0</td>\n",
       "      <td>44.0</td>\n",
       "      <td>3</td>\n",
       "      <td>28</td>\n",
       "      <td>30</td>\n",
       "    </tr>\n",
       "    <tr>\n",
       "      <th>4</th>\n",
       "      <td>1983</td>\n",
       "      <td>3</td>\n",
       "      <td>43.666667</td>\n",
       "      <td>40.0</td>\n",
       "      <td>49.0</td>\n",
       "      <td>3</td>\n",
       "      <td>31</td>\n",
       "      <td>33</td>\n",
       "    </tr>\n",
       "  </tbody>\n",
       "</table>\n",
       "</div>"
      ],
      "text/plain": [
       "   year  parts_sum  minutes_mean  minutes_min  minutes_max  id_count  id_min  \\\n",
       "0  1979          9     45.555556         43.0         50.0         9       1   \n",
       "1  1980         12     42.416667         38.0         49.0        12      10   \n",
       "2  1981          6     43.666667         41.0         49.0         6      22   \n",
       "3  1982          3     39.333333         34.0         44.0         3      28   \n",
       "4  1983          3     43.666667         40.0         49.0         3      31   \n",
       "\n",
       "   id_max  \n",
       "0       9  \n",
       "1      21  \n",
       "2      27  \n",
       "3      30  \n",
       "4      33  "
      ]
     },
     "execution_count": 27,
     "metadata": {},
     "output_type": "execute_result"
    }
   ],
   "source": [
    "years = meta.groupby(\"year\")[[\"parts\", \"minutes_mean\", \"id\"]].agg({\n",
    "    \"parts\": [\"sum\"], \"minutes_mean\" : [\"mean\", \"min\", \"max\"], \"id\": [\"count\",\"min\", \"max\"]})\n",
    "years.columns = [\"_\".join(x) for x in years.columns.ravel()]\n",
    "years = years.reset_index().rename(columns={\"minutes_mean_mean\": \"minutes_mean\",\n",
    "                              \"minutes_mean_min\": \"minutes_min\", \"minutes_mean_max\":\"minutes_max\"}) \n",
    "years.head()"
   ]
  },
  {
   "cell_type": "code",
   "execution_count": 28,
   "metadata": {},
   "outputs": [
    {
     "data": {
      "text/plain": [
       "<matplotlib.axes._subplots.AxesSubplot at 0x1e83b7f7248>"
      ]
     },
     "execution_count": 28,
     "metadata": {},
     "output_type": "execute_result"
    },
    {
     "data": {
      "image/png": "[encoded data removed]",
      "text/plain": [
       "<Figure size 432x288 with 1 Axes>"
      ]
     },
     "metadata": {
      "needs_background": "light"
     },
     "output_type": "display_data"
    }
   ],
   "source": [
    "#number of episodes over time\n",
    "years.set_index(\"year\")[\"id_count\"].plot(kind='bar')"
   ]
  },
  {
   "cell_type": "code",
   "execution_count": 29,
   "metadata": {},
   "outputs": [
    {
     "data": {
      "text/plain": [
       "<matplotlib.axes._subplots.AxesSubplot at 0x1e83ceb1808>"
      ]
     },
     "execution_count": 29,
     "metadata": {},
     "output_type": "execute_result"
    },
    {
     "data": {
      "image/png": "[encoded data removed]",
      "text/plain": [
       "<Figure size 432x288 with 1 Axes>"
      ]
     },
     "metadata": {
      "needs_background": "light"
     },
     "output_type": "display_data"
    }
   ],
   "source": [
    "#number of episodes over time\n",
    "years.set_index(\"year\")[\"parts_sum\"].plot(kind='bar')"
   ]
  },
  {
   "cell_type": "code",
   "execution_count": 30,
   "metadata": {},
   "outputs": [
    {
     "data": {
      "text/plain": [
       "<matplotlib.axes._subplots.AxesSubplot at 0x1e83cfe5788>"
      ]
     },
     "execution_count": 30,
     "metadata": {},
     "output_type": "execute_result"
    },
    {
     "data": {
      "image/png": "[encoded data removed]",
      "text/plain": [
       "<Figure size 432x288 with 1 Axes>"
      ]
     },
     "metadata": {
      "needs_background": "light"
     },
     "output_type": "display_data"
    }
   ],
   "source": [
    "#Average length over time\n",
    "years.set_index(\"year\")[\"minutes_mean\"].plot(kind='bar')"
   ]
  },
  {
   "cell_type": "code",
   "execution_count": 29,
   "metadata": {},
   "outputs": [
    {
     "data": {
      "text/plain": [
       "<matplotlib.axes._subplots.AxesSubplot at 0x23e68923248>"
      ]
     },
     "execution_count": 29,
     "metadata": {},
     "output_type": "execute_result"
    },
    {
     "data": {
      "image/png": "[encoded data removed]",
      "text/plain": [
       "<Figure size 432x288 with 1 Axes>"
      ]
     },
     "metadata": {
      "needs_background": "light"
     },
     "output_type": "display_data"
    }
   ],
   "source": [
    "#Average length over time\n",
    "years.set_index(\"year\")[\"minutes_min\"].plot(kind='bar')"
   ]
  },
  {
   "cell_type": "code",
   "execution_count": 37,
   "metadata": {},
   "outputs": [
    {
     "data": {
      "text/plain": [
       "<matplotlib.axes._subplots.AxesSubplot at 0x23e69125fc8>"
      ]
     },
     "execution_count": 37,
     "metadata": {},
     "output_type": "execute_result"
    },
    {
     "data": {
      "image/png": "[encoded data removed]",
      "text/plain": [
       "<Figure size 432x288 with 1 Axes>"
      ]
     },
     "metadata": {
      "needs_background": "light"
     },
     "output_type": "display_data"
    }
   ],
   "source": [
    "#number of episodes over time\n",
    "years.set_index(\"year\")[\"id_max\"].plot(kind='barh')"
   ]
  },
  {
   "cell_type": "markdown",
   "metadata": {},
   "source": [
    "## Gender"
   ]
  },
  {
   "cell_type": "code",
   "execution_count": 41,
   "metadata": {},
   "outputs": [
    {
     "data": {
      "text/html": [
       "<div>\n",
       "<style scoped>\n",
       "    .dataframe tbody tr th:only-of-type {\n",
       "        vertical-align: middle;\n",
       "    }\n",
       "\n",
       "    .dataframe tbody tr th {\n",
       "        vertical-align: top;\n",
       "    }\n",
       "\n",
       "    .dataframe thead th {\n",
       "        text-align: right;\n",
       "    }\n",
       "</style>\n",
       "<table border=\"1\" class=\"dataframe\">\n",
       "  <thead>\n",
       "    <tr style=\"text-align: right;\">\n",
       "      <th>Gender</th>\n",
       "      <th>ID</th>\n",
       "      <th>female</th>\n",
       "      <th>male</th>\n",
       "      <th>total</th>\n",
       "      <th>female_ratio</th>\n",
       "    </tr>\n",
       "  </thead>\n",
       "  <tbody>\n",
       "    <tr>\n",
       "      <th>0</th>\n",
       "      <td>1</td>\n",
       "      <td>2.0</td>\n",
       "      <td>6.0</td>\n",
       "      <td>8.0</td>\n",
       "      <td>25.0</td>\n",
       "    </tr>\n",
       "    <tr>\n",
       "      <th>1</th>\n",
       "      <td>2</td>\n",
       "      <td>3.0</td>\n",
       "      <td>7.0</td>\n",
       "      <td>10.0</td>\n",
       "      <td>30.0</td>\n",
       "    </tr>\n",
       "    <tr>\n",
       "      <th>2</th>\n",
       "      <td>3</td>\n",
       "      <td>1.0</td>\n",
       "      <td>7.0</td>\n",
       "      <td>8.0</td>\n",
       "      <td>12.5</td>\n",
       "    </tr>\n",
       "    <tr>\n",
       "      <th>3</th>\n",
       "      <td>4</td>\n",
       "      <td>0.0</td>\n",
       "      <td>11.0</td>\n",
       "      <td>11.0</td>\n",
       "      <td>0.0</td>\n",
       "    </tr>\n",
       "    <tr>\n",
       "      <th>4</th>\n",
       "      <td>5</td>\n",
       "      <td>3.0</td>\n",
       "      <td>6.0</td>\n",
       "      <td>9.0</td>\n",
       "      <td>33.3</td>\n",
       "    </tr>\n",
       "    <tr>\n",
       "      <th>...</th>\n",
       "      <td>...</td>\n",
       "      <td>...</td>\n",
       "      <td>...</td>\n",
       "      <td>...</td>\n",
       "      <td>...</td>\n",
       "    </tr>\n",
       "    <tr>\n",
       "      <th>201</th>\n",
       "      <td>202</td>\n",
       "      <td>2.0</td>\n",
       "      <td>4.0</td>\n",
       "      <td>6.0</td>\n",
       "      <td>33.3</td>\n",
       "    </tr>\n",
       "    <tr>\n",
       "      <th>202</th>\n",
       "      <td>203</td>\n",
       "      <td>3.0</td>\n",
       "      <td>3.0</td>\n",
       "      <td>6.0</td>\n",
       "      <td>50.0</td>\n",
       "    </tr>\n",
       "    <tr>\n",
       "      <th>203</th>\n",
       "      <td>204</td>\n",
       "      <td>2.0</td>\n",
       "      <td>5.0</td>\n",
       "      <td>7.0</td>\n",
       "      <td>28.6</td>\n",
       "    </tr>\n",
       "    <tr>\n",
       "      <th>204</th>\n",
       "      <td>205</td>\n",
       "      <td>5.0</td>\n",
       "      <td>8.0</td>\n",
       "      <td>13.0</td>\n",
       "      <td>38.5</td>\n",
       "    </tr>\n",
       "    <tr>\n",
       "      <th>205</th>\n",
       "      <td>206</td>\n",
       "      <td>3.0</td>\n",
       "      <td>4.0</td>\n",
       "      <td>7.0</td>\n",
       "      <td>42.9</td>\n",
       "    </tr>\n",
       "  </tbody>\n",
       "</table>\n",
       "<p>206 rows × 5 columns</p>\n",
       "</div>"
      ],
      "text/plain": [
       "Gender   ID  female  male  total  female_ratio\n",
       "0         1     2.0   6.0    8.0          25.0\n",
       "1         2     3.0   7.0   10.0          30.0\n",
       "2         3     1.0   7.0    8.0          12.5\n",
       "3         4     0.0  11.0   11.0           0.0\n",
       "4         5     3.0   6.0    9.0          33.3\n",
       "..      ...     ...   ...    ...           ...\n",
       "201     202     2.0   4.0    6.0          33.3\n",
       "202     203     3.0   3.0    6.0          50.0\n",
       "203     204     2.0   5.0    7.0          28.6\n",
       "204     205     5.0   8.0   13.0          38.5\n",
       "205     206     3.0   4.0    7.0          42.9\n",
       "\n",
       "[206 rows x 5 columns]"
      ]
     },
     "execution_count": 41,
     "metadata": {},
     "output_type": "execute_result"
    }
   ],
   "source": [
    "## calculate gender roles by episode\n",
    "no_main = (actors[\"Narrator\"] == 0) & (actors[\"Main_actor\"] == 0)\n",
    "gender_balance = actors.loc[no_main].groupby([\"ID\", \"Gender\"])[\"Role\"].count()\n",
    "gender_balance = pd.DataFrame(gender_balance).unstack().fillna(0).reset_index(\"ID\")\n",
    "gender_balance.columns = gender_balance.columns.droplevel(level=0)\n",
    "gender_balance[\"total\"] = gender_balance[[\"female\", \"male\"]].sum(axis=1)\n",
    "gender_balance[\"female_ratio\"] = round(gender_balance[\"female\"] / gender_balance[\"total\"] * 100, 1)\n",
    "gender_balance = gender_balance.rename(columns={\"\": \"ID\"})\n",
    "gender_balance"
   ]
  },
  {
   "cell_type": "code",
   "execution_count": 42,
   "metadata": {},
   "outputs": [
    {
     "data": {
      "text/plain": [
       "<matplotlib.axes._subplots.AxesSubplot at 0x2516cc10548>"
      ]
     },
     "execution_count": 42,
     "metadata": {},
     "output_type": "execute_result"
    },
    {
     "data": {
      "image/png": "[encoded data removed]",
      "text/plain": [
       "<Figure size 432x288 with 1 Axes>"
      ]
     },
     "metadata": {
      "needs_background": "light"
     },
     "output_type": "display_data"
    }
   ],
   "source": [
    "#number of episodes over time\n",
    "gender_balance.set_index(\"ID\")[\"female_ratio\"].plot(kind='bar')"
   ]
  }
 ],
 "metadata": {
  "kernelspec": {
   "display_name": "py3_dreif",
   "language": "python",
   "name": "py3_dreif"
  },
  "language_info": {
   "codemirror_mode": {
    "name": "ipython",
    "version": 3
   },
   "file_extension": ".py",
   "mimetype": "text/x-python",
   "name": "python",
   "nbconvert_exporter": "python",
   "pygments_lexer": "ipython3",
   "version": "3.7.5"
  },
  "toc": {
   "base_numbering": 1,
   "nav_menu": {},
   "number_sections": true,
   "sideBar": true,
   "skip_h1_title": false,
   "title_cell": "Table of Contents",
   "title_sidebar": "Contents",
   "toc_cell": false,
   "toc_position": {
    "height": "calc(100% - 180px)",
    "left": "10px",
    "top": "150px",
    "width": "303.4px"
   },
   "toc_section_display": true,
   "toc_window_display": true
  }
 },
 "nbformat": 4,
 "nbformat_minor": 2
}
