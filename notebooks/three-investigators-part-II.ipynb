{
 "cells": [
  {
   "cell_type": "markdown",
   "metadata": {},
   "source": [
    "# Three investigators - part II\n",
    "\n",
    "A project for scraping and analysing data from a fan site on the audio book called '[The three investigators](https://en.wikipedia.org/wiki/Three_Investigators#Germany)'\n",
    "\n",
    "Part II: Data preparation and explorative analysis\n",
    "\n",
    "- additional data cleaning and preparing for analysis\n",
    "- explorative analysis of data\n",
    "- prediction of episode ratings"
   ]
  },
  {
   "cell_type": "markdown",
   "metadata": {},
   "source": [
    "# Setup"
   ]
  },
  {
   "cell_type": "code",
   "execution_count": 1,
   "metadata": {},
   "outputs": [],
   "source": [
    "#python version used for this project\n",
    "from platform import python_version\n",
    "print(python_version())"
   ]
  },
  {
   "cell_type": "code",
   "execution_count": 2,
   "metadata": {},
   "outputs": [],
   "source": [
    "# import modules [as specified in requirements.txt]\n",
    "import pandas as pd\n",
    "import numpy as np\n",
    "import re\n",
    "import requests\n",
    "from datetime import date\n",
    "import matplotlib.pyplot as plt\n",
    "\n",
    "# for file directories\n",
    "import os\n",
    "\n",
    "%matplotlib inline"
   ]
  },
  {
   "cell_type": "code",
   "execution_count": 3,
   "metadata": {},
   "outputs": [],
   "source": [
    "#change directory to root folder\n",
    "os.chdir(\"..\")"
   ]
  },
  {
   "cell_type": "markdown",
   "metadata": {},
   "source": [
    "# Load data"
   ]
  },
  {
   "cell_type": "code",
   "execution_count": 4,
   "metadata": {},
   "outputs": [],
   "source": [
    "#load scraped datafiles\n",
    "meta = pd.read_csv(\".\\\\data\\\\scraped\\\\meta.csv\")\n",
    "actors = pd.read_csv(\".\\\\data\\\\scraped\\\\actor_all.csv\")\n",
    "content = pd.read_csv(\".\\\\data\\\\scraped\\\\content_all.csv\")\n",
    "rating = pd.read_csv(\".\\\\data\\\\scraped\\\\rating.csv\")\n",
    "\n",
    "#load title analysis\n",
    "title_counts = pd.read_csv(\".\\\\data\\\\processed\\\\title_word_count.csv\")\n",
    "title_cat = pd.read_csv(\".\\\\data\\\\processed\\\\title_categories.csv\")\n",
    "\n",
    "#load actor gender prediction\n",
    "gender = pd.read_csv(\".\\\\data\\\\processed\\\\actor_gender_prediction_2020-09-28.csv\")"
   ]
  },
  {
   "cell_type": "code",
   "execution_count": 5,
   "metadata": {},
   "outputs": [
    {
     "data": {
      "text/plain": [
       "(206, 44)"
      ]
     },
     "execution_count": 5,
     "metadata": {},
     "output_type": "execute_result"
    }
   ],
   "source": [
    "meta.shape"
   ]
  },
  {
   "cell_type": "markdown",
   "metadata": {},
   "source": [
    "# Data cleaning and prep"
   ]
  },
  {
   "cell_type": "markdown",
   "metadata": {},
   "source": [
    "## add/remove episodes from tables"
   ]
  },
  {
   "cell_type": "code",
   "execution_count": 6,
   "metadata": {},
   "outputs": [],
   "source": [
    "### add episode 29 details to meta table (https://www.rocky-beach.com/hoerspiel/folgen/029.html)\n",
    "meta = meta.append({'id' : 29, 'music': 'B. Brac/B. George', 'date':'1982-03-21', \n",
    "                     'minutes': '34', 'minutes_mean':34, 'minutes_total':34, 'parts':1} , ignore_index=True)\n",
    "\n",
    "## remove 29 from actors table\n",
    "actors = actors.loc[actors[\"id\"] != 29]\n",
    "\n",
    "### Remove duplicates from actor_all table\n",
    "actors = actors.drop_duplicates()"
   ]
  },
  {
   "cell_type": "markdown",
   "metadata": {},
   "source": [
    "## Gender predictions"
   ]
  },
  {
   "cell_type": "code",
   "execution_count": 7,
   "metadata": {},
   "outputs": [
    {
     "data": {
      "text/html": [
       "<div>\n",
       "<style scoped>\n",
       "    .dataframe tbody tr th:only-of-type {\n",
       "        vertical-align: middle;\n",
       "    }\n",
       "\n",
       "    .dataframe tbody tr th {\n",
       "        vertical-align: top;\n",
       "    }\n",
       "\n",
       "    .dataframe thead th {\n",
       "        text-align: right;\n",
       "    }\n",
       "</style>\n",
       "<table border=\"1\" class=\"dataframe\">\n",
       "  <thead>\n",
       "    <tr style=\"text-align: right;\">\n",
       "      <th></th>\n",
       "      <th>role</th>\n",
       "      <th>actor</th>\n",
       "      <th>id</th>\n",
       "      <th>actor_clean</th>\n",
       "      <th>title</th>\n",
       "      <th>firstname</th>\n",
       "      <th>surename</th>\n",
       "      <th>no_names</th>\n",
       "      <th>main_actor</th>\n",
       "      <th>narrator</th>\n",
       "    </tr>\n",
       "  </thead>\n",
       "  <tbody>\n",
       "    <tr>\n",
       "      <th>0</th>\n",
       "      <td>Hitchcock</td>\n",
       "      <td>Peter Pasetti</td>\n",
       "      <td>1</td>\n",
       "      <td>Peter Pasetti</td>\n",
       "      <td>0</td>\n",
       "      <td>Peter</td>\n",
       "      <td>Pasetti</td>\n",
       "      <td>2</td>\n",
       "      <td>0</td>\n",
       "      <td>1</td>\n",
       "    </tr>\n",
       "    <tr>\n",
       "      <th>1</th>\n",
       "      <td>Justus Jonas</td>\n",
       "      <td>Oliver Rohrbeck</td>\n",
       "      <td>1</td>\n",
       "      <td>Oliver Rohrbeck</td>\n",
       "      <td>0</td>\n",
       "      <td>Oliver</td>\n",
       "      <td>Rohrbeck</td>\n",
       "      <td>2</td>\n",
       "      <td>1</td>\n",
       "      <td>0</td>\n",
       "    </tr>\n",
       "    <tr>\n",
       "      <th>2</th>\n",
       "      <td>Peter Shaw</td>\n",
       "      <td>Jens Wawrczeck</td>\n",
       "      <td>1</td>\n",
       "      <td>Jens Wawrczeck</td>\n",
       "      <td>0</td>\n",
       "      <td>Jens</td>\n",
       "      <td>Wawrczeck</td>\n",
       "      <td>2</td>\n",
       "      <td>1</td>\n",
       "      <td>0</td>\n",
       "    </tr>\n",
       "    <tr>\n",
       "      <th>3</th>\n",
       "      <td>Bob Andrews</td>\n",
       "      <td>Andreas Fröhlich</td>\n",
       "      <td>1</td>\n",
       "      <td>Andreas Fröhlich</td>\n",
       "      <td>0</td>\n",
       "      <td>Andreas</td>\n",
       "      <td>Fröhlich</td>\n",
       "      <td>2</td>\n",
       "      <td>1</td>\n",
       "      <td>0</td>\n",
       "    </tr>\n",
       "    <tr>\n",
       "      <th>4</th>\n",
       "      <td>Mr. Fentriss, Schriftsteller</td>\n",
       "      <td>Richard Lauffen</td>\n",
       "      <td>1</td>\n",
       "      <td>Richard Lauffen</td>\n",
       "      <td>0</td>\n",
       "      <td>Richard</td>\n",
       "      <td>Lauffen</td>\n",
       "      <td>2</td>\n",
       "      <td>0</td>\n",
       "      <td>0</td>\n",
       "    </tr>\n",
       "    <tr>\n",
       "      <th>...</th>\n",
       "      <td>...</td>\n",
       "      <td>...</td>\n",
       "      <td>...</td>\n",
       "      <td>...</td>\n",
       "      <td>...</td>\n",
       "      <td>...</td>\n",
       "      <td>...</td>\n",
       "      <td>...</td>\n",
       "      <td>...</td>\n",
       "      <td>...</td>\n",
       "    </tr>\n",
       "    <tr>\n",
       "      <th>2868</th>\n",
       "      <td>Ron Baxter</td>\n",
       "      <td>Robin Brosch</td>\n",
       "      <td>207</td>\n",
       "      <td>Robin Brosch</td>\n",
       "      <td>0</td>\n",
       "      <td>Robin</td>\n",
       "      <td>Brosch</td>\n",
       "      <td>2</td>\n",
       "      <td>0</td>\n",
       "      <td>0</td>\n",
       "    </tr>\n",
       "    <tr>\n",
       "      <th>2869</th>\n",
       "      <td>Oma</td>\n",
       "      <td>Apollonia Jepsen</td>\n",
       "      <td>207</td>\n",
       "      <td>Apollonia Jepsen</td>\n",
       "      <td>0</td>\n",
       "      <td>Apollonia</td>\n",
       "      <td>Jepsen</td>\n",
       "      <td>2</td>\n",
       "      <td>0</td>\n",
       "      <td>0</td>\n",
       "    </tr>\n",
       "    <tr>\n",
       "      <th>2870</th>\n",
       "      <td>Mrs. Willard</td>\n",
       "      <td>Daniela Ziegler</td>\n",
       "      <td>207</td>\n",
       "      <td>Daniela Ziegler</td>\n",
       "      <td>0</td>\n",
       "      <td>Daniela</td>\n",
       "      <td>Ziegler</td>\n",
       "      <td>2</td>\n",
       "      <td>0</td>\n",
       "      <td>0</td>\n",
       "    </tr>\n",
       "    <tr>\n",
       "      <th>2871</th>\n",
       "      <td>Li</td>\n",
       "      <td>Traudel Sperber</td>\n",
       "      <td>207</td>\n",
       "      <td>Traudel Sperber</td>\n",
       "      <td>0</td>\n",
       "      <td>Traudel</td>\n",
       "      <td>Sperber</td>\n",
       "      <td>2</td>\n",
       "      <td>0</td>\n",
       "      <td>0</td>\n",
       "    </tr>\n",
       "    <tr>\n",
       "      <th>2872</th>\n",
       "      <td>Tilan</td>\n",
       "      <td>Caroline Kiesewetter</td>\n",
       "      <td>207</td>\n",
       "      <td>Caroline Kiesewetter</td>\n",
       "      <td>0</td>\n",
       "      <td>Caroline</td>\n",
       "      <td>Kiesewetter</td>\n",
       "      <td>2</td>\n",
       "      <td>0</td>\n",
       "      <td>0</td>\n",
       "    </tr>\n",
       "  </tbody>\n",
       "</table>\n",
       "<p>2836 rows × 10 columns</p>\n",
       "</div>"
      ],
      "text/plain": [
       "                              role                 actor   id  \\\n",
       "0                        Hitchcock         Peter Pasetti    1   \n",
       "1                     Justus Jonas       Oliver Rohrbeck    1   \n",
       "2                       Peter Shaw        Jens Wawrczeck    1   \n",
       "3                      Bob Andrews      Andreas Fröhlich    1   \n",
       "4     Mr. Fentriss, Schriftsteller       Richard Lauffen    1   \n",
       "...                            ...                   ...  ...   \n",
       "2868                    Ron Baxter          Robin Brosch  207   \n",
       "2869                           Oma      Apollonia Jepsen  207   \n",
       "2870                  Mrs. Willard       Daniela Ziegler  207   \n",
       "2871                            Li       Traudel Sperber  207   \n",
       "2872                         Tilan  Caroline Kiesewetter  207   \n",
       "\n",
       "               actor_clean  title  firstname     surename  no_names  \\\n",
       "0            Peter Pasetti      0      Peter      Pasetti         2   \n",
       "1          Oliver Rohrbeck      0     Oliver     Rohrbeck         2   \n",
       "2           Jens Wawrczeck      0       Jens    Wawrczeck         2   \n",
       "3         Andreas Fröhlich      0    Andreas     Fröhlich         2   \n",
       "4          Richard Lauffen      0    Richard      Lauffen         2   \n",
       "...                    ...    ...        ...          ...       ...   \n",
       "2868          Robin Brosch      0      Robin       Brosch         2   \n",
       "2869      Apollonia Jepsen      0  Apollonia       Jepsen         2   \n",
       "2870       Daniela Ziegler      0    Daniela      Ziegler         2   \n",
       "2871       Traudel Sperber      0    Traudel      Sperber         2   \n",
       "2872  Caroline Kiesewetter      0   Caroline  Kiesewetter         2   \n",
       "\n",
       "      main_actor  narrator  \n",
       "0              0         1  \n",
       "1              1         0  \n",
       "2              1         0  \n",
       "3              1         0  \n",
       "4              0         0  \n",
       "...          ...       ...  \n",
       "2868           0         0  \n",
       "2869           0         0  \n",
       "2870           0         0  \n",
       "2871           0         0  \n",
       "2872           0         0  \n",
       "\n",
       "[2836 rows x 10 columns]"
      ]
     },
     "execution_count": 7,
     "metadata": {},
     "output_type": "execute_result"
    }
   ],
   "source": [
    "actors"
   ]
  },
  {
   "cell_type": "code",
   "execution_count": 8,
   "metadata": {},
   "outputs": [
    {
     "data": {
      "text/html": [
       "<div>\n",
       "<style scoped>\n",
       "    .dataframe tbody tr th:only-of-type {\n",
       "        vertical-align: middle;\n",
       "    }\n",
       "\n",
       "    .dataframe tbody tr th {\n",
       "        vertical-align: top;\n",
       "    }\n",
       "\n",
       "    .dataframe thead th {\n",
       "        text-align: right;\n",
       "    }\n",
       "</style>\n",
       "<table border=\"1\" class=\"dataframe\">\n",
       "  <thead>\n",
       "    <tr style=\"text-align: right;\">\n",
       "      <th></th>\n",
       "      <th>role</th>\n",
       "      <th>actor</th>\n",
       "      <th>id</th>\n",
       "      <th>actor_clean</th>\n",
       "      <th>title</th>\n",
       "      <th>firstname</th>\n",
       "      <th>surename</th>\n",
       "      <th>no_names</th>\n",
       "      <th>main_actor</th>\n",
       "      <th>narrator</th>\n",
       "      <th>Unnamed: 0</th>\n",
       "      <th>gender</th>\n",
       "      <th>gender_probability</th>\n",
       "      <th>gender_count</th>\n",
       "    </tr>\n",
       "  </thead>\n",
       "  <tbody>\n",
       "    <tr>\n",
       "      <th>0</th>\n",
       "      <td>Hitchcock</td>\n",
       "      <td>Peter Pasetti</td>\n",
       "      <td>1</td>\n",
       "      <td>Peter Pasetti</td>\n",
       "      <td>0</td>\n",
       "      <td>Peter</td>\n",
       "      <td>Pasetti</td>\n",
       "      <td>2</td>\n",
       "      <td>0</td>\n",
       "      <td>1</td>\n",
       "      <td>1.0</td>\n",
       "      <td>male</td>\n",
       "      <td>0.99</td>\n",
       "      <td>165452.0</td>\n",
       "    </tr>\n",
       "    <tr>\n",
       "      <th>1</th>\n",
       "      <td>Justus Jonas</td>\n",
       "      <td>Oliver Rohrbeck</td>\n",
       "      <td>1</td>\n",
       "      <td>Oliver Rohrbeck</td>\n",
       "      <td>0</td>\n",
       "      <td>Oliver</td>\n",
       "      <td>Rohrbeck</td>\n",
       "      <td>2</td>\n",
       "      <td>1</td>\n",
       "      <td>0</td>\n",
       "      <td>1.0</td>\n",
       "      <td>male</td>\n",
       "      <td>0.99</td>\n",
       "      <td>32776.0</td>\n",
       "    </tr>\n",
       "    <tr>\n",
       "      <th>2</th>\n",
       "      <td>Peter Shaw</td>\n",
       "      <td>Jens Wawrczeck</td>\n",
       "      <td>1</td>\n",
       "      <td>Jens Wawrczeck</td>\n",
       "      <td>0</td>\n",
       "      <td>Jens</td>\n",
       "      <td>Wawrczeck</td>\n",
       "      <td>2</td>\n",
       "      <td>1</td>\n",
       "      <td>0</td>\n",
       "      <td>1.0</td>\n",
       "      <td>male</td>\n",
       "      <td>0.99</td>\n",
       "      <td>23807.0</td>\n",
       "    </tr>\n",
       "    <tr>\n",
       "      <th>3</th>\n",
       "      <td>Bob Andrews</td>\n",
       "      <td>Andreas Fröhlich</td>\n",
       "      <td>1</td>\n",
       "      <td>Andreas Fröhlich</td>\n",
       "      <td>0</td>\n",
       "      <td>Andreas</td>\n",
       "      <td>Fröhlich</td>\n",
       "      <td>2</td>\n",
       "      <td>1</td>\n",
       "      <td>0</td>\n",
       "      <td>1.0</td>\n",
       "      <td>male</td>\n",
       "      <td>0.99</td>\n",
       "      <td>71365.0</td>\n",
       "    </tr>\n",
       "    <tr>\n",
       "      <th>4</th>\n",
       "      <td>Mr. Fentriss, Schriftsteller</td>\n",
       "      <td>Richard Lauffen</td>\n",
       "      <td>1</td>\n",
       "      <td>Richard Lauffen</td>\n",
       "      <td>0</td>\n",
       "      <td>Richard</td>\n",
       "      <td>Lauffen</td>\n",
       "      <td>2</td>\n",
       "      <td>0</td>\n",
       "      <td>0</td>\n",
       "      <td>1.0</td>\n",
       "      <td>male</td>\n",
       "      <td>0.99</td>\n",
       "      <td>101928.0</td>\n",
       "    </tr>\n",
       "  </tbody>\n",
       "</table>\n",
       "</div>"
      ],
      "text/plain": [
       "                           role             actor  id       actor_clean  \\\n",
       "0                     Hitchcock     Peter Pasetti   1     Peter Pasetti   \n",
       "1                  Justus Jonas   Oliver Rohrbeck   1   Oliver Rohrbeck   \n",
       "2                    Peter Shaw    Jens Wawrczeck   1    Jens Wawrczeck   \n",
       "3                   Bob Andrews  Andreas Fröhlich   1  Andreas Fröhlich   \n",
       "4  Mr. Fentriss, Schriftsteller   Richard Lauffen   1   Richard Lauffen   \n",
       "\n",
       "   title firstname   surename  no_names  main_actor  narrator  Unnamed: 0  \\\n",
       "0      0     Peter    Pasetti         2           0         1         1.0   \n",
       "1      0    Oliver   Rohrbeck         2           1         0         1.0   \n",
       "2      0      Jens  Wawrczeck         2           1         0         1.0   \n",
       "3      0   Andreas   Fröhlich         2           1         0         1.0   \n",
       "4      0   Richard    Lauffen         2           0         0         1.0   \n",
       "\n",
       "  gender  gender_probability  gender_count  \n",
       "0   male                0.99      165452.0  \n",
       "1   male                0.99       32776.0  \n",
       "2   male                0.99       23807.0  \n",
       "3   male                0.99       71365.0  \n",
       "4   male                0.99      101928.0  "
      ]
     },
     "execution_count": 8,
     "metadata": {},
     "output_type": "execute_result"
    }
   ],
   "source": [
    "# join tables\n",
    "actors = pd.merge(actors, gender, left_on='firstname', right_on = \"name\", how=\"left\")\n",
    "actors = actors.drop(\"name\", axis=1)\n",
    "actors.head()"
   ]
  },
  {
   "cell_type": "code",
   "execution_count": 9,
   "metadata": {},
   "outputs": [
    {
     "data": {
      "text/plain": [
       "array(['Heikedine', 'Reinhilt', 'Joyceline', 'H.', 'Schiffmeister', '...',\n",
       "       'Rosakutty', 'Gustav-Adolph', 'Rhesi', 'é', 'Jörgpeter'],\n",
       "      dtype=object)"
      ]
     },
     "execution_count": 9,
     "metadata": {},
     "output_type": "execute_result"
    }
   ],
   "source": [
    "# get list of names that have not been classified with a gender\n",
    "actors.loc[actors[\"gender\"].isna()][\"firstname\"].unique()"
   ]
  },
  {
   "cell_type": "code",
   "execution_count": 10,
   "metadata": {},
   "outputs": [],
   "source": [
    "## classify gender of missing ones (if known)\n",
    "actors.loc[actors[\"firstname\"] == 'Heikedine', \"gender\"] = \"female\"\n",
    "actors.loc[actors[\"firstname\"] == 'Reinhilt', \"gender\"] = \"female\"\n",
    "actors.loc[actors[\"firstname\"] == 'Gustav-Adolph', \"gender\"] = \"male\"\n",
    "actors.loc[actors[\"firstname\"] == 'Jörgpeter', \"gender\"] = \"male\"\n",
    "actors.loc[actors[\"firstname\"] == 'Rhesi', \"gender\"] = \"female\"\n",
    "actors.loc[actors[\"firstname\"] == 'é', \"gender\"] = \"male\""
   ]
  },
  {
   "cell_type": "markdown",
   "metadata": {},
   "source": [
    "## Add to meta data"
   ]
  },
  {
   "cell_type": "code",
   "execution_count": 11,
   "metadata": {},
   "outputs": [],
   "source": [
    "## Create year and month column\n",
    "meta[\"year\"] = pd.DatetimeIndex(meta[\"date\"]).year\n",
    "meta[\"month\"] = pd.DatetimeIndex(meta[\"date\"]).month"
   ]
  },
  {
   "cell_type": "markdown",
   "metadata": {},
   "source": [
    "### Number of actors, main and side"
   ]
  },
  {
   "cell_type": "code",
   "execution_count": 12,
   "metadata": {},
   "outputs": [],
   "source": [
    "actors_agg = pd.DataFrame(actors.groupby(\"id\")[[\"actor\", \"main_actor\", \"narrator\"]].agg(\n",
    "    {\"actor\": \"count\", \"main_actor\":\"sum\", \"narrator\": \"max\"})).reset_index()\n",
    "actors_agg = actors_agg.rename(columns={\"actor\":\"no_actors_total\", \"main_actor\":\"no_main_actors\"})\n",
    "actors_agg[\"no_side_actors\"] = actors_agg[\"no_actors_total\"] - actors_agg[\"no_main_actors\"] - actors_agg[\"narrator\"] #also remove narrator\n",
    "\n",
    "#join with meta\n",
    "meta = pd.merge(meta, actors_agg, left_on=\"id\" ,right_on=\"id\", how='left')"
   ]
  },
  {
   "cell_type": "code",
   "execution_count": 13,
   "metadata": {},
   "outputs": [
    {
     "data": {
      "text/plain": [
       "['id',\n",
       " '\"anudhara\" aufgenommen bei bantree records, worms / produzent',\n",
       " 'buch',\n",
       " 'buch und effekte',\n",
       " 'buch und redaktion',\n",
       " 'cover-illustration',\n",
       " 'coverillustration',\n",
       " 'design',\n",
       " 'effekte und redaktion',\n",
       " 'erscheinungsdatum',\n",
       " 'erzählt von',\n",
       " 'geräusche',\n",
       " 'ger�usche',\n",
       " 'hörspielbearbeitung',\n",
       " 'klang-recycling',\n",
       " 'laufzeit',\n",
       " 'musik',\n",
       " 'musik und effekte',\n",
       " 'nessie der seltsame wecker matthias green recyclings aus 3 fragezeichen rap',\n",
       " 'produktion und regie',\n",
       " 'projektleitung und produktmanagement',\n",
       " 'redaktion',\n",
       " 'redaktion und geräusche',\n",
       " 'regie',\n",
       " 'regie und produktion',\n",
       " 'song',\n",
       " 'teil a erzählt von',\n",
       " 'teil b erzählt von',\n",
       " 'teil c erzählt von',\n",
       " 'titel',\n",
       " 'titelmusik',\n",
       " 'html',\n",
       " 'zur vorherigen folge | zur nächsten folge',\n",
       " 'book',\n",
       " 'cover',\n",
       " 'music',\n",
       " 'director',\n",
       " 'editor',\n",
       " 'sounds',\n",
       " 'date',\n",
       " 'minutes',\n",
       " 'minutes_mean',\n",
       " 'minutes_total',\n",
       " 'parts',\n",
       " 'year',\n",
       " 'month',\n",
       " 'no_actors_total',\n",
       " 'no_main_actors',\n",
       " 'narrator',\n",
       " 'no_side_actors']"
      ]
     },
     "execution_count": 13,
     "metadata": {},
     "output_type": "execute_result"
    }
   ],
   "source": [
    "list(meta)"
   ]
  },
  {
   "cell_type": "markdown",
   "metadata": {},
   "source": [
    "### Gender balance all actors"
   ]
  },
  {
   "cell_type": "code",
   "execution_count": 14,
   "metadata": {},
   "outputs": [],
   "source": [
    "actors_gender = actors.groupby([\"id\", \"gender\"])[\"role\"].count()\n",
    "actors_gender = pd.DataFrame(actors_gender).unstack().fillna(0).reset_index(\"id\")\n",
    "actors_gender.columns = actors_gender.columns.droplevel(level=0)\n",
    "actors_gender = actors_gender.rename(columns={\"\": \"id\", \"female\": \"no_female_actors\", \"male\": \"no_male_actors\"})\n",
    "\n",
    "#join with meta\n",
    "meta = pd.merge(meta, actors_gender, left_on=\"id\" ,right_on=\"id\", how='left')\n",
    "\n",
    "#gender missing\n",
    "meta[\"no_actor_gender_missing\"] = meta[\"no_actors_total\"] - meta[[\"no_female_actors\", \"no_male_actors\"]].sum(axis=1)\n",
    "\n",
    "#gender balance for all actors\n",
    "meta[\"female_actors_ratio\"] = meta[\"no_female_actors\"] / meta[[\"no_female_actors\", \"no_male_actors\"]].sum(axis=1) *100"
   ]
  },
  {
   "cell_type": "markdown",
   "metadata": {},
   "source": [
    "### Gender balance side actors"
   ]
  },
  {
   "cell_type": "code",
   "execution_count": 15,
   "metadata": {},
   "outputs": [],
   "source": [
    "filter_side_actors = (actors[\"narrator\"] == 0) & (actors[\"main_actor\"] == 0)\n",
    "side_actors_gender = actors.loc[filter_side_actors].groupby([\"id\", \"gender\"])[\"role\"].count()\n",
    "side_actors_gender = pd.DataFrame(side_actors_gender).unstack().fillna(0).reset_index(\"id\")\n",
    "side_actors_gender.columns = side_actors_gender.columns.droplevel(level=0)\n",
    "side_actors_gender = side_actors_gender.rename(columns={\"\": \"id\", \"female\": \"no_female_side_actors\", \"male\": \"no_male_side_actors\"})\n",
    "\n",
    "#join with meta\n",
    "meta = pd.merge(meta, side_actors_gender, left_on=\"id\" ,right_on=\"id\", how='left')\n",
    "\n",
    "#gender balance for side actors\n",
    "meta[\"female_side_actors_ratio\"] = meta[\"no_female_side_actors\"] / meta[[\"no_female_side_actors\", \"no_male_side_actors\"]].sum(axis=1) *100"
   ]
  },
  {
   "cell_type": "markdown",
   "metadata": {},
   "source": [
    "### Narrator"
   ]
  },
  {
   "cell_type": "code",
   "execution_count": 16,
   "metadata": {},
   "outputs": [],
   "source": [
    "narrator = actors.loc[actors[\"narrator\"]==1][[\"id\",\"actor_clean\"]]\n",
    "narrator = narrator.rename(columns={\"actor_clean\": \"narrator_name\"})\n",
    "\n",
    "#join with meta\n",
    "meta = pd.merge(meta, narrator, left_on=\"id\" ,right_on=\"id\", how='left')"
   ]
  },
  {
   "cell_type": "markdown",
   "metadata": {},
   "source": [
    "### Author"
   ]
  },
  {
   "cell_type": "code",
   "execution_count": 17,
   "metadata": {},
   "outputs": [],
   "source": [
    "#replace 'Erzählt von Kari Erlhoff' with 'Kari Erlhoff'\n",
    "meta[\"erzählt von\"] = meta[\"erzählt von\"].str.replace('Erzählt von Kari Erlhoff', 'Kari Erlhoff')"
   ]
  },
  {
   "cell_type": "code",
   "execution_count": 18,
   "metadata": {},
   "outputs": [
    {
     "data": {
      "text/plain": [
       "André Marx                           33\n",
       "Marco Sonnleitner                    32\n",
       "Ben Nevis                            22\n",
       "Other                                18\n",
       "Brigitte Johanna Henkel-Waidhofer    16\n",
       "M.V. Carey                           15\n",
       "William Arden                        14\n",
       "Kari Erlhoff                         13\n",
       "André Minninger                      12\n",
       "Robert Arthur                        10\n",
       "Astrid Vollenbruch                    7\n",
       "Christoph Dittert                     7\n",
       "Hendrik Buchna                        6\n",
       "Name: author_grouped, dtype: int64"
      ]
     },
     "execution_count": 18,
     "metadata": {},
     "output_type": "execute_result"
    }
   ],
   "source": [
    "# group authors\n",
    "meta[\"author_grouped\"] = meta[\"erzählt von\"]\n",
    "\n",
    "# group those authors with fewer than 5 episodes under 'other'\n",
    "other_storytellers = pd.DataFrame(meta[\"erzählt von\"].value_counts()).reset_index()\n",
    "other_storytellers = other_storytellers.loc[other_storytellers[\"erzählt von\"] < 5][\"index\"].tolist()\n",
    "meta.loc[meta[\"erzählt von\"].isin(other_storytellers), \"author_grouped\"] = \"Other\"\n",
    "\n",
    "#display values\n",
    "meta[\"author_grouped\"].value_counts()"
   ]
  },
  {
   "cell_type": "code",
   "execution_count": 19,
   "metadata": {},
   "outputs": [],
   "source": [
    "# create gender variable\n",
    "author_gender_map = {'Robert Arthur': \"male\", 'William Arden': \"male\", 'M.V. Carey':\"female\",\n",
    "                     'Nick West':\"male\", 'Marc Brandel':\"male\", 'Rose Estes':\"female\", \n",
    "                     'Megan Stine / H. William Stine': np.nan,\n",
    "                   'G.H. Stone':\"female\", 'William McCay' : \"male\", 'Peter Lerangis' : \"male\",\n",
    "                   'Brigitte Johanna Henkel-Waidhofer' : \"female\", 'André Marx' : \"male\",\n",
    "                    'André Minninger' : \"male\", 'Ben Nevis': \"male\", 'Katharina Fischer': \"female\",\n",
    "                   'Marco Sonnleitner' :\"male\", 'Astrid Vollenbruch': \"female\", 'Kari Erlhoff' : \"female\",\n",
    "                  'Hendrik Buchna': \"male\", 'Christoph Dittert':\"male\"}\n",
    "\n",
    "meta[\"author_gender\"] = meta[\"erzählt von\"].map(author_gender_map)"
   ]
  },
  {
   "cell_type": "markdown",
   "metadata": {},
   "source": [
    "### merge rating"
   ]
  },
  {
   "cell_type": "code",
   "execution_count": 20,
   "metadata": {},
   "outputs": [],
   "source": [
    "#rename columns in rating table\n",
    "rating = rating.rename(columns={\"bewertung.1\" : \"rating\", \"rang\": \"rating_rank\", \"ranking\": \"no_votes\"})\n",
    "\n",
    "#join with meta table\n",
    "meta = pd.merge(meta, rating, left_on=\"id\" ,right_on=\"id\", how='left')"
   ]
  },
  {
   "cell_type": "markdown",
   "metadata": {},
   "source": [
    "### title"
   ]
  },
  {
   "cell_type": "code",
   "execution_count": 21,
   "metadata": {},
   "outputs": [],
   "source": [
    "# merge title categories into meta data\n",
    "meta = meta.merge(title_cat, left_on=\"id\", right_on=\"id\", how='left' )"
   ]
  },
  {
   "cell_type": "code",
   "execution_count": 22,
   "metadata": {},
   "outputs": [],
   "source": [
    "# clean up titel\n",
    "\n",
    "## make titles lower case\n",
    "meta[\"title\"] = meta[\"titel\"].str.lower()\n",
    "\n",
    "meta[\"title\"] = meta[\"title\"].str.replace(\"hörspiel\", \"\", regex=True).str.replace(\"[!\\\"#$%&()*+,./:;<=>?@[\\]^_`{|}~“”-]\", \"\", regex=True)"
   ]
  },
  {
   "cell_type": "markdown",
   "metadata": {},
   "source": [
    "### Create column for number of episode published in each year"
   ]
  },
  {
   "cell_type": "code",
   "execution_count": 23,
   "metadata": {},
   "outputs": [],
   "source": [
    "numbered = []\n",
    "\n",
    "for i in range(len(meta[\"year\"])): \n",
    "    if i == 0:\n",
    "        x = 1\n",
    "    elif meta[\"year\"][i] == meta[\"year\"][i-1]:\n",
    "        x +=1\n",
    "    else:\n",
    "        x = 1\n",
    "    numbered.append(x)\n",
    "    \n",
    "meta[\"no_per_year\"] = numbered"
   ]
  },
  {
   "cell_type": "markdown",
   "metadata": {},
   "source": [
    "### save output"
   ]
  },
  {
   "cell_type": "code",
   "execution_count": 24,
   "metadata": {},
   "outputs": [],
   "source": [
    "### order by id and reset index\n",
    "meta = meta.sort_values(\"id\").reset_index(drop=True)\n",
    "\n",
    "### save output\n",
    "meta.to_csv(\".\\\\data\\\\processed\\\\meta_for_analysis_\" + \"%s\" %(str(date.today())) + \".csv\", index=False) "
   ]
  },
  {
   "cell_type": "markdown",
   "metadata": {},
   "source": [
    "# Explorative Analysis"
   ]
  },
  {
   "cell_type": "markdown",
   "metadata": {},
   "source": [
    "## Exports for charts"
   ]
  },
  {
   "cell_type": "code",
   "execution_count": 71,
   "metadata": {
    "code_folding": []
   },
   "outputs": [],
   "source": [
    "chrono = meta[[\"id\", \"year\", \"month\", \"no_per_year\", \"minutes_mean\", \n",
    "               \"parts\", \"title_sport\", \"title_tech\", \"title\", \"erzählt von\", \"rating\"]]\n",
    "chrono[[\"minutes_mean\"]] = chrono[[\"minutes_mean\"]].round(0)\n",
    "chrono[[\"rating\"]] = chrono[[\"rating\"]].round(1)\n",
    "chrono.to_csv(\".\\\\data\\\\processed\\\\chrono-datawrapper.csv\")"
   ]
  },
  {
   "cell_type": "markdown",
   "metadata": {},
   "source": [
    "## Chronology"
   ]
  },
  {
   "cell_type": "code",
   "execution_count": 26,
   "metadata": {},
   "outputs": [
    {
     "data": {
      "text/html": [
       "<div>\n",
       "<style scoped>\n",
       "    .dataframe tbody tr th:only-of-type {\n",
       "        vertical-align: middle;\n",
       "    }\n",
       "\n",
       "    .dataframe tbody tr th {\n",
       "        vertical-align: top;\n",
       "    }\n",
       "\n",
       "    .dataframe thead th {\n",
       "        text-align: right;\n",
       "    }\n",
       "</style>\n",
       "<table border=\"1\" class=\"dataframe\">\n",
       "  <thead>\n",
       "    <tr style=\"text-align: right;\">\n",
       "      <th></th>\n",
       "      <th>year</th>\n",
       "      <th>parts_sum</th>\n",
       "      <th>minutes_mean</th>\n",
       "      <th>minutes_min</th>\n",
       "      <th>minutes_max</th>\n",
       "      <th>id_count</th>\n",
       "      <th>id_min</th>\n",
       "      <th>id_max</th>\n",
       "    </tr>\n",
       "  </thead>\n",
       "  <tbody>\n",
       "    <tr>\n",
       "      <th>0</th>\n",
       "      <td>1979</td>\n",
       "      <td>9</td>\n",
       "      <td>45.555556</td>\n",
       "      <td>43.0</td>\n",
       "      <td>50.0</td>\n",
       "      <td>9</td>\n",
       "      <td>1</td>\n",
       "      <td>9</td>\n",
       "    </tr>\n",
       "    <tr>\n",
       "      <th>1</th>\n",
       "      <td>1980</td>\n",
       "      <td>12</td>\n",
       "      <td>42.416667</td>\n",
       "      <td>38.0</td>\n",
       "      <td>49.0</td>\n",
       "      <td>12</td>\n",
       "      <td>10</td>\n",
       "      <td>21</td>\n",
       "    </tr>\n",
       "    <tr>\n",
       "      <th>2</th>\n",
       "      <td>1981</td>\n",
       "      <td>6</td>\n",
       "      <td>43.666667</td>\n",
       "      <td>41.0</td>\n",
       "      <td>49.0</td>\n",
       "      <td>6</td>\n",
       "      <td>22</td>\n",
       "      <td>27</td>\n",
       "    </tr>\n",
       "    <tr>\n",
       "      <th>3</th>\n",
       "      <td>1982</td>\n",
       "      <td>3</td>\n",
       "      <td>39.333333</td>\n",
       "      <td>34.0</td>\n",
       "      <td>44.0</td>\n",
       "      <td>3</td>\n",
       "      <td>28</td>\n",
       "      <td>30</td>\n",
       "    </tr>\n",
       "    <tr>\n",
       "      <th>4</th>\n",
       "      <td>1983</td>\n",
       "      <td>3</td>\n",
       "      <td>43.666667</td>\n",
       "      <td>40.0</td>\n",
       "      <td>49.0</td>\n",
       "      <td>3</td>\n",
       "      <td>31</td>\n",
       "      <td>33</td>\n",
       "    </tr>\n",
       "  </tbody>\n",
       "</table>\n",
       "</div>"
      ],
      "text/plain": [
       "   year  parts_sum  minutes_mean  minutes_min  minutes_max  id_count  id_min  \\\n",
       "0  1979          9     45.555556         43.0         50.0         9       1   \n",
       "1  1980         12     42.416667         38.0         49.0        12      10   \n",
       "2  1981          6     43.666667         41.0         49.0         6      22   \n",
       "3  1982          3     39.333333         34.0         44.0         3      28   \n",
       "4  1983          3     43.666667         40.0         49.0         3      31   \n",
       "\n",
       "   id_max  \n",
       "0       9  \n",
       "1      21  \n",
       "2      27  \n",
       "3      30  \n",
       "4      33  "
      ]
     },
     "execution_count": 26,
     "metadata": {},
     "output_type": "execute_result"
    }
   ],
   "source": [
    "years = meta.groupby(\"year\")[[\"parts\", \"minutes_mean\", \"id\"]].agg({\n",
    "    \"parts\": [\"sum\"], \"minutes_mean\" : [\"mean\", \"min\", \"max\"], \"id\": [\"count\",\"min\", \"max\"]})\n",
    "years.columns = [\"_\".join(x) for x in years.columns.ravel()]\n",
    "years = years.reset_index().rename(columns={\"minutes_mean_mean\": \"minutes_mean\",\n",
    "                              \"minutes_mean_min\": \"minutes_min\", \"minutes_mean_max\":\"minutes_max\"}) \n",
    "years.head()"
   ]
  },
  {
   "cell_type": "code",
   "execution_count": 27,
   "metadata": {},
   "outputs": [
    {
     "data": {
      "text/plain": [
       "<matplotlib.axes._subplots.AxesSubplot at 0x14e8eb20788>"
      ]
     },
     "execution_count": 27,
     "metadata": {},
     "output_type": "execute_result"
    },
    {
     "data": {
      "image/png": "[encoded data removed]",
      "text/plain": [
       "<Figure size 432x288 with 1 Axes>"
      ]
     },
     "metadata": {
      "needs_background": "light"
     },
     "output_type": "display_data"
    }
   ],
   "source": [
    "#number of episodes over time\n",
    "meta.groupby(\"year\")[\"id\"].count().plot(kind='bar')"
   ]
  },
  {
   "cell_type": "code",
   "execution_count": 28,
   "metadata": {},
   "outputs": [
    {
     "data": {
      "text/plain": [
       "<matplotlib.axes._subplots.AxesSubplot at 0x14e8f0c66c8>"
      ]
     },
     "execution_count": 28,
     "metadata": {},
     "output_type": "execute_result"
    },
    {
     "data": {
      "image/png": "[encoded data removed]",
      "text/plain": [
       "<Figure size 432x288 with 1 Axes>"
      ]
     },
     "metadata": {
      "needs_background": "light"
     },
     "output_type": "display_data"
    }
   ],
   "source": [
    "#number of episodes over time\n",
    "years.set_index(\"year\")[\"parts_sum\"].plot(kind='bar')"
   ]
  },
  {
   "cell_type": "markdown",
   "metadata": {},
   "source": [
    "### Length"
   ]
  },
  {
   "cell_type": "code",
   "execution_count": 29,
   "metadata": {},
   "outputs": [
    {
     "data": {
      "text/plain": [
       "<matplotlib.axes._subplots.AxesSubplot at 0x14e8f1f6a88>"
      ]
     },
     "execution_count": 29,
     "metadata": {},
     "output_type": "execute_result"
    },
    {
     "data": {
      "image/png": "[encoded data removed]",
      "text/plain": [
       "<Figure size 432x288 with 1 Axes>"
      ]
     },
     "metadata": {
      "needs_background": "light"
     },
     "output_type": "display_data"
    }
   ],
   "source": [
    "#Average length over time\n",
    "meta.groupby(\"year\")[\"minutes_mean\"].mean().plot(kind='bar')"
   ]
  },
  {
   "cell_type": "code",
   "execution_count": 30,
   "metadata": {},
   "outputs": [
    {
     "data": {
      "text/plain": [
       "<matplotlib.axes._subplots.AxesSubplot at 0x14e8f1f5d48>"
      ]
     },
     "execution_count": 30,
     "metadata": {},
     "output_type": "execute_result"
    },
    {
     "data": {
      "image/png": "[encoded data removed]",
      "text/plain": [
       "<Figure size 432x288 with 1 Axes>"
      ]
     },
     "metadata": {
      "needs_background": "light"
     },
     "output_type": "display_data"
    }
   ],
   "source": [
    "#number of episodes over time\n",
    "years.set_index(\"year\")[\"id_max\"].plot(kind='barh')"
   ]
  },
  {
   "cell_type": "markdown",
   "metadata": {},
   "source": [
    "### dotplot"
   ]
  },
  {
   "cell_type": "code",
   "execution_count": 31,
   "metadata": {},
   "outputs": [
    {
     "data": {
      "text/plain": [
       "<matplotlib.collections.PathCollection at 0x14e9045a888>"
      ]
     },
     "execution_count": 31,
     "metadata": {},
     "output_type": "execute_result"
    },
    {
     "data": {
      "image/png": "[encoded data removed]",
      "text/plain": [
       "<Figure size 432x288 with 1 Axes>"
      ]
     },
     "metadata": {
      "needs_background": "light"
     },
     "output_type": "display_data"
    }
   ],
   "source": [
    "x = meta[\"year\"]\n",
    "y = meta[\"no_per_year\"]\n",
    "z = meta[\"parts\"]\n",
    "\n",
    "plt.scatter(x, y)"
   ]
  },
  {
   "cell_type": "markdown",
   "metadata": {},
   "source": [
    "### Month\n",
    "\n",
    "October is the most popular release month but mainly because of the first two years when 15 episodes were released in October."
   ]
  },
  {
   "cell_type": "code",
   "execution_count": 32,
   "metadata": {},
   "outputs": [
    {
     "data": {
      "text/plain": [
       "<matplotlib.axes._subplots.AxesSubplot at 0x14e8e972288>"
      ]
     },
     "execution_count": 32,
     "metadata": {},
     "output_type": "execute_result"
    },
    {
     "data": {
      "image/png": "[encoded data removed]",
      "text/plain": [
       "<Figure size 432x288 with 1 Axes>"
      ]
     },
     "metadata": {
      "needs_background": "light"
     },
     "output_type": "display_data"
    }
   ],
   "source": [
    "meta.groupby(\"month\")[\"id\"].count().plot(kind='bar')"
   ]
  },
  {
   "cell_type": "code",
   "execution_count": 33,
   "metadata": {},
   "outputs": [
    {
     "data": {
      "text/plain": [
       "<matplotlib.collections.PathCollection at 0x14e9055e608>"
      ]
     },
     "execution_count": 33,
     "metadata": {},
     "output_type": "execute_result"
    },
    {
     "data": {
      "image/png": "[encoded data removed]",
      "text/plain": [
       "<Figure size 432x288 with 1 Axes>"
      ]
     },
     "metadata": {
      "needs_background": "light"
     },
     "output_type": "display_data"
    }
   ],
   "source": [
    "x = meta[\"year\"]\n",
    "y = meta[\"month\"]\n",
    "\n",
    "plt.scatter(x, y)"
   ]
  },
  {
   "cell_type": "code",
   "execution_count": 34,
   "metadata": {},
   "outputs": [
    {
     "data": {
      "text/plain": [
       "year  month\n",
       "1979  10       9\n",
       "1980  3        6\n",
       "      10       6\n",
       "1981  5        3\n",
       "      10       3\n",
       "              ..\n",
       "2020  1        1\n",
       "      3        1\n",
       "      5        1\n",
       "      7        1\n",
       "      9        1\n",
       "Name: id, Length: 159, dtype: int64"
      ]
     },
     "execution_count": 34,
     "metadata": {},
     "output_type": "execute_result"
    }
   ],
   "source": [
    "meta.groupby([\"year\", \"month\"])[\"id\"].count()"
   ]
  },
  {
   "cell_type": "markdown",
   "metadata": {},
   "source": [
    "## Author"
   ]
  },
  {
   "cell_type": "code",
   "execution_count": 35,
   "metadata": {},
   "outputs": [
    {
     "data": {
      "text/plain": [
       "dtype('float64')"
      ]
     },
     "execution_count": 35,
     "metadata": {},
     "output_type": "execute_result"
    }
   ],
   "source": [
    "meta[\"minutes_mean\"].dtype"
   ]
  },
  {
   "cell_type": "code",
   "execution_count": 36,
   "metadata": {},
   "outputs": [
    {
     "data": {
      "text/plain": [
       "<matplotlib.axes._subplots.AxesSubplot at 0x14e9059e588>"
      ]
     },
     "execution_count": 36,
     "metadata": {},
     "output_type": "execute_result"
    },
    {
     "data": {
      "image/png": "[encoded data removed]",
      "text/plain": [
       "<Figure size 432x288 with 1 Axes>"
      ]
     },
     "metadata": {
      "needs_background": "light"
     },
     "output_type": "display_data"
    }
   ],
   "source": [
    "meta.groupby(\"author_gender\")[\"parts\"].mean().plot(kind='barh')"
   ]
  },
  {
   "cell_type": "markdown",
   "metadata": {},
   "source": [
    "## Actors"
   ]
  },
  {
   "cell_type": "code",
   "execution_count": 87,
   "metadata": {},
   "outputs": [],
   "source": [
    "roles_filter = [\"Bob Andrews\", \"Peter Shaw\", \"Justus Jonas\", \"Erzähler\", \"Hitchcock\", \n",
    "             \"Inspektor Cotta\", \"Tante Mathilda\", \"Onkel Titus\", \"Morton\", \n",
    "             \"Kommissar Reynolds\", \"Goodween\", \"Mr. Andrews\",\"Skinny Norris\",\n",
    "             \"Kelly\", \"Patrick\", \"Mrs. Shaw\", \"Lys\", \"Mrs. Andrews\", \"Mr. Shaw\"]\n",
    "\n",
    "roles = actors.loc[actors[\"role\"].isin(roles)_filter]"
   ]
  },
  {
   "cell_type": "code",
   "execution_count": 88,
   "metadata": {},
   "outputs": [
    {
     "data": {
      "text/plain": [
       "role\n",
       "Bob Andrews           206\n",
       "Justus Jonas          206\n",
       "Peter Shaw            206\n",
       "Erzähler              131\n",
       "Hitchcock              75\n",
       "Inspektor Cotta        67\n",
       "Tante Mathilda         51\n",
       "Onkel Titus            31\n",
       "Morton                 24\n",
       "Kommissar Reynolds     20\n",
       "Goodween               17\n",
       "Mr. Andrews            15\n",
       "Skinny Norris          12\n",
       "Kelly                   9\n",
       "Mrs. Shaw               6\n",
       "Patrick                 6\n",
       "Mr. Shaw                5\n",
       "Lys                     5\n",
       "Mrs. Andrews            5\n",
       "Name: id, dtype: int64"
      ]
     },
     "execution_count": 88,
     "metadata": {},
     "output_type": "execute_result"
    }
   ],
   "source": [
    "roelsroles.groupby(\"role\")[\"id\"].count().sort_values(ascending = False)"
   ]
  },
  {
   "cell_type": "code",
   "execution_count": 90,
   "metadata": {},
   "outputs": [
    {
     "data": {
      "text/html": [
       "<div>\n",
       "<style scoped>\n",
       "    .dataframe tbody tr th:only-of-type {\n",
       "        vertical-align: middle;\n",
       "    }\n",
       "\n",
       "    .dataframe tbody tr th {\n",
       "        vertical-align: top;\n",
       "    }\n",
       "\n",
       "    .dataframe thead th {\n",
       "        text-align: right;\n",
       "    }\n",
       "</style>\n",
       "<table border=\"1\" class=\"dataframe\">\n",
       "  <thead>\n",
       "    <tr style=\"text-align: right;\">\n",
       "      <th></th>\n",
       "      <th>role</th>\n",
       "      <th>id</th>\n",
       "    </tr>\n",
       "  </thead>\n",
       "  <tbody>\n",
       "    <tr>\n",
       "      <th>0</th>\n",
       "      <td>Hitchcock</td>\n",
       "      <td>1</td>\n",
       "    </tr>\n",
       "    <tr>\n",
       "      <th>1</th>\n",
       "      <td>Justus Jonas</td>\n",
       "      <td>1</td>\n",
       "    </tr>\n",
       "    <tr>\n",
       "      <th>2</th>\n",
       "      <td>Peter Shaw</td>\n",
       "      <td>1</td>\n",
       "    </tr>\n",
       "    <tr>\n",
       "      <th>3</th>\n",
       "      <td>Bob Andrews</td>\n",
       "      <td>1</td>\n",
       "    </tr>\n",
       "    <tr>\n",
       "      <th>11</th>\n",
       "      <td>Morton</td>\n",
       "      <td>1</td>\n",
       "    </tr>\n",
       "    <tr>\n",
       "      <th>...</th>\n",
       "      <td>...</td>\n",
       "      <td>...</td>\n",
       "    </tr>\n",
       "    <tr>\n",
       "      <th>2818</th>\n",
       "      <td>Inspektor Cotta</td>\n",
       "      <td>206</td>\n",
       "    </tr>\n",
       "    <tr>\n",
       "      <th>2822</th>\n",
       "      <td>Erzähler</td>\n",
       "      <td>207</td>\n",
       "    </tr>\n",
       "    <tr>\n",
       "      <th>2823</th>\n",
       "      <td>Justus Jonas</td>\n",
       "      <td>207</td>\n",
       "    </tr>\n",
       "    <tr>\n",
       "      <th>2824</th>\n",
       "      <td>Peter Shaw</td>\n",
       "      <td>207</td>\n",
       "    </tr>\n",
       "    <tr>\n",
       "      <th>2825</th>\n",
       "      <td>Bob Andrews</td>\n",
       "      <td>207</td>\n",
       "    </tr>\n",
       "  </tbody>\n",
       "</table>\n",
       "<p>1097 rows × 2 columns</p>\n",
       "</div>"
      ],
      "text/plain": [
       "                 role   id\n",
       "0           Hitchcock    1\n",
       "1        Justus Jonas    1\n",
       "2          Peter Shaw    1\n",
       "3         Bob Andrews    1\n",
       "11             Morton    1\n",
       "...               ...  ...\n",
       "2818  Inspektor Cotta  206\n",
       "2822         Erzähler  207\n",
       "2823     Justus Jonas  207\n",
       "2824       Peter Shaw  207\n",
       "2825      Bob Andrews  207\n",
       "\n",
       "[1097 rows x 2 columns]"
      ]
     },
     "execution_count": 90,
     "metadata": {},
     "output_type": "execute_result"
    }
   ],
   "source": [
    "roles_dummy = roles[[\"role\", \"id\"]]\n",
    "roles_dummy"
   ]
  },
  {
   "cell_type": "code",
   "execution_count": 86,
   "metadata": {},
   "outputs": [
    {
     "data": {
      "text/html": [
       "<div>\n",
       "<style scoped>\n",
       "    .dataframe tbody tr th:only-of-type {\n",
       "        vertical-align: middle;\n",
       "    }\n",
       "\n",
       "    .dataframe tbody tr th {\n",
       "        vertical-align: top;\n",
       "    }\n",
       "\n",
       "    .dataframe thead th {\n",
       "        text-align: right;\n",
       "    }\n",
       "</style>\n",
       "<table border=\"1\" class=\"dataframe\">\n",
       "  <thead>\n",
       "    <tr style=\"text-align: right;\">\n",
       "      <th></th>\n",
       "      <th>id</th>\n",
       "    </tr>\n",
       "    <tr>\n",
       "      <th>role</th>\n",
       "      <th></th>\n",
       "    </tr>\n",
       "  </thead>\n",
       "  <tbody>\n",
       "    <tr>\n",
       "      <th>Bob Andrews</th>\n",
       "      <td>206</td>\n",
       "    </tr>\n",
       "    <tr>\n",
       "      <th>Peter Shaw</th>\n",
       "      <td>206</td>\n",
       "    </tr>\n",
       "    <tr>\n",
       "      <th>Justus Jonas</th>\n",
       "      <td>206</td>\n",
       "    </tr>\n",
       "    <tr>\n",
       "      <th>Erzähler</th>\n",
       "      <td>131</td>\n",
       "    </tr>\n",
       "    <tr>\n",
       "      <th>Hitchcock</th>\n",
       "      <td>75</td>\n",
       "    </tr>\n",
       "    <tr>\n",
       "      <th>Inspektor Cotta</th>\n",
       "      <td>67</td>\n",
       "    </tr>\n",
       "    <tr>\n",
       "      <th>Tante Mathilda</th>\n",
       "      <td>51</td>\n",
       "    </tr>\n",
       "    <tr>\n",
       "      <th>Onkel Titus</th>\n",
       "      <td>31</td>\n",
       "    </tr>\n",
       "    <tr>\n",
       "      <th>Morton</th>\n",
       "      <td>24</td>\n",
       "    </tr>\n",
       "    <tr>\n",
       "      <th>Kommissar Reynolds</th>\n",
       "      <td>20</td>\n",
       "    </tr>\n",
       "    <tr>\n",
       "      <th>Polizist</th>\n",
       "      <td>18</td>\n",
       "    </tr>\n",
       "    <tr>\n",
       "      <th>Goodween</th>\n",
       "      <td>17</td>\n",
       "    </tr>\n",
       "    <tr>\n",
       "      <th>Mr. Andrews</th>\n",
       "      <td>15</td>\n",
       "    </tr>\n",
       "    <tr>\n",
       "      <th>Skinny Norris</th>\n",
       "      <td>12</td>\n",
       "    </tr>\n",
       "    <tr>\n",
       "      <th>Kelly</th>\n",
       "      <td>9</td>\n",
       "    </tr>\n",
       "    <tr>\n",
       "      <th>Mann</th>\n",
       "      <td>8</td>\n",
       "    </tr>\n",
       "    <tr>\n",
       "      <th>1. Mann</th>\n",
       "      <td>7</td>\n",
       "    </tr>\n",
       "    <tr>\n",
       "      <th>Kellnerin</th>\n",
       "      <td>7</td>\n",
       "    </tr>\n",
       "    <tr>\n",
       "      <th>Junge</th>\n",
       "      <td>6</td>\n",
       "    </tr>\n",
       "    <tr>\n",
       "      <th>Patrick</th>\n",
       "      <td>6</td>\n",
       "    </tr>\n",
       "    <tr>\n",
       "      <th>Frau</th>\n",
       "      <td>6</td>\n",
       "    </tr>\n",
       "    <tr>\n",
       "      <th>Mrs. Shaw</th>\n",
       "      <td>6</td>\n",
       "    </tr>\n",
       "    <tr>\n",
       "      <th>Reporter</th>\n",
       "      <td>5</td>\n",
       "    </tr>\n",
       "    <tr>\n",
       "      <th>Joe</th>\n",
       "      <td>5</td>\n",
       "    </tr>\n",
       "    <tr>\n",
       "      <th>Lys</th>\n",
       "      <td>5</td>\n",
       "    </tr>\n",
       "    <tr>\n",
       "      <th>2. Mann</th>\n",
       "      <td>5</td>\n",
       "    </tr>\n",
       "    <tr>\n",
       "      <th>Mrs. Andrews</th>\n",
       "      <td>5</td>\n",
       "    </tr>\n",
       "    <tr>\n",
       "      <th>Mr. Shaw</th>\n",
       "      <td>5</td>\n",
       "    </tr>\n",
       "    <tr>\n",
       "      <th>Sanitäter</th>\n",
       "      <td>4</td>\n",
       "    </tr>\n",
       "    <tr>\n",
       "      <th>Wachmann</th>\n",
       "      <td>4</td>\n",
       "    </tr>\n",
       "  </tbody>\n",
       "</table>\n",
       "</div>"
      ],
      "text/plain": [
       "                     id\n",
       "role                   \n",
       "Bob Andrews         206\n",
       "Peter Shaw          206\n",
       "Justus Jonas        206\n",
       "Erzähler            131\n",
       "Hitchcock            75\n",
       "Inspektor Cotta      67\n",
       "Tante Mathilda       51\n",
       "Onkel Titus          31\n",
       "Morton               24\n",
       "Kommissar Reynolds   20\n",
       "Polizist             18\n",
       "Goodween             17\n",
       "Mr. Andrews          15\n",
       "Skinny Norris        12\n",
       "Kelly                 9\n",
       "Mann                  8\n",
       "1. Mann               7\n",
       "Kellnerin             7\n",
       "Junge                 6\n",
       "Patrick               6\n",
       "Frau                  6\n",
       "Mrs. Shaw             6\n",
       "Reporter              5\n",
       "Joe                   5\n",
       "Lys                   5\n",
       "2. Mann               5\n",
       "Mrs. Andrews          5\n",
       "Mr. Shaw              5\n",
       "Sanitäter             4\n",
       "Wachmann              4"
      ]
     },
     "execution_count": 86,
     "metadata": {},
     "output_type": "execute_result"
    }
   ],
   "source": [
    "roles = pd.DataFrame(actors.groupby(\"role\")[\"id\"].count().sort_values(ascending = False))\n",
    "roles.iloc[:30]"
   ]
  },
  {
   "cell_type": "code",
   "execution_count": 38,
   "metadata": {},
   "outputs": [
    {
     "data": {
      "text/plain": [
       "['role',\n",
       " 'actor',\n",
       " 'id',\n",
       " 'actor_clean',\n",
       " 'title',\n",
       " 'firstname',\n",
       " 'surename',\n",
       " 'no_names',\n",
       " 'main_actor',\n",
       " 'narrator',\n",
       " 'Unnamed: 0',\n",
       " 'gender',\n",
       " 'gender_probability',\n",
       " 'gender_count']"
      ]
     },
     "execution_count": 38,
     "metadata": {},
     "output_type": "execute_result"
    }
   ],
   "source": [
    "list(actors)"
   ]
  },
  {
   "cell_type": "markdown",
   "metadata": {},
   "source": [
    "## Gender"
   ]
  },
  {
   "cell_type": "code",
   "execution_count": 39,
   "metadata": {},
   "outputs": [
    {
     "data": {
      "text/plain": [
       "<matplotlib.axes._subplots.AxesSubplot at 0x14e90607648>"
      ]
     },
     "execution_count": 39,
     "metadata": {},
     "output_type": "execute_result"
    },
    {
     "data": {
      "image/png": "[encoded data removed]",
      "text/plain": [
       "<Figure size 432x288 with 1 Axes>"
      ]
     },
     "metadata": {
      "needs_background": "light"
     },
     "output_type": "display_data"
    }
   ],
   "source": [
    "#number of episodes over time\n",
    "meta.set_index(\"id\")[\"female_actors_ratio\"].plot(kind='bar')"
   ]
  },
  {
   "cell_type": "code",
   "execution_count": 40,
   "metadata": {},
   "outputs": [
    {
     "data": {
      "text/plain": [
       "<matplotlib.collections.PathCollection at 0x14e90b26248>"
      ]
     },
     "execution_count": 40,
     "metadata": {},
     "output_type": "execute_result"
    },
    {
     "data": {
      "image/png": "[encoded data removed]",
      "text/plain": [
       "<Figure size 432x288 with 1 Axes>"
      ]
     },
     "metadata": {
      "needs_background": "light"
     },
     "output_type": "display_data"
    }
   ],
   "source": [
    "x = meta[\"year\"]\n",
    "y = meta[\"female_side_actors_ratio\"]\n",
    "\n",
    "plt.scatter(x, y)"
   ]
  },
  {
   "cell_type": "code",
   "execution_count": 41,
   "metadata": {},
   "outputs": [
    {
     "data": {
      "text/plain": [
       "<matplotlib.axes._subplots.AxesSubplot at 0x14e90b41688>"
      ]
     },
     "execution_count": 41,
     "metadata": {},
     "output_type": "execute_result"
    },
    {
     "data": {
      "image/png": "[encoded data removed]",
      "text/plain": [
       "<Figure size 432x288 with 1 Axes>"
      ]
     },
     "metadata": {
      "needs_background": "light"
     },
     "output_type": "display_data"
    }
   ],
   "source": [
    "meta.groupby(\"year\")[\"female_side_actors_ratio\"].max().plot(kind='bar')"
   ]
  },
  {
   "cell_type": "code",
   "execution_count": 42,
   "metadata": {},
   "outputs": [
    {
     "data": {
      "text/plain": [
       "<matplotlib.axes._subplots.AxesSubplot at 0x14e90c6a148>"
      ]
     },
     "execution_count": 42,
     "metadata": {},
     "output_type": "execute_result"
    },
    {
     "data": {
      "image/png": "[encoded data removed]",
      "text/plain": [
       "<Figure size 432x288 with 1 Axes>"
      ]
     },
     "metadata": {
      "needs_background": "light"
     },
     "output_type": "display_data"
    }
   ],
   "source": [
    "meta.groupby(\"author_grouped\")[\"female_side_actors_ratio\"].mean().plot(kind='bar')"
   ]
  },
  {
   "cell_type": "code",
   "execution_count": 43,
   "metadata": {},
   "outputs": [
    {
     "data": {
      "text/plain": [
       "<matplotlib.axes._subplots.AxesSubplot at 0x14e90cfc7c8>"
      ]
     },
     "execution_count": 43,
     "metadata": {},
     "output_type": "execute_result"
    },
    {
     "data": {
      "image/png": "[encoded data removed]",
      "text/plain": [
       "<Figure size 432x288 with 1 Axes>"
      ]
     },
     "metadata": {
      "needs_background": "light"
     },
     "output_type": "display_data"
    }
   ],
   "source": [
    "meta.groupby(\"author_grouped\")[\"female_side_actors_ratio\"].min().sort_values(ascending=False).plot(kind='bar')"
   ]
  },
  {
   "cell_type": "markdown",
   "metadata": {},
   "source": [
    "## titles"
   ]
  },
  {
   "cell_type": "code",
   "execution_count": 44,
   "metadata": {},
   "outputs": [
    {
     "data": {
      "text/plain": [
       "<matplotlib.axes._subplots.AxesSubplot at 0x14e90d9bac8>"
      ]
     },
     "execution_count": 44,
     "metadata": {},
     "output_type": "execute_result"
    },
    {
     "data": {
      "image/png": "[encoded data removed]",
      "text/plain": [
       "<Figure size 432x288 with 1 Axes>"
      ]
     },
     "metadata": {
      "needs_background": "light"
     },
     "output_type": "display_data"
    }
   ],
   "source": [
    "meta.groupby(\"year\")[\"title_colour\"].count().plot(kind='bar')"
   ]
  },
  {
   "cell_type": "code",
   "execution_count": 45,
   "metadata": {},
   "outputs": [
    {
     "data": {
      "text/plain": [
       "<matplotlib.axes._subplots.AxesSubplot at 0x14e90e99988>"
      ]
     },
     "execution_count": 45,
     "metadata": {},
     "output_type": "execute_result"
    },
    {
     "data": {
      "image/png": "[encoded data removed]",
      "text/plain": [
       "<Figure size 432x288 with 1 Axes>"
      ]
     },
     "metadata": {
      "needs_background": "light"
     },
     "output_type": "display_data"
    }
   ],
   "source": [
    "meta.groupby(\"year\")[\"title_colour\"].sum().plot(kind='bar')"
   ]
  },
  {
   "cell_type": "code",
   "execution_count": 46,
   "metadata": {},
   "outputs": [
    {
     "data": {
      "text/plain": [
       "<matplotlib.axes._subplots.AxesSubplot at 0x14e8a8b4388>"
      ]
     },
     "execution_count": 46,
     "metadata": {},
     "output_type": "execute_result"
    },
    {
     "data": {
      "image/png": "[encoded data removed]",
      "text/plain": [
       "<Figure size 432x288 with 1 Axes>"
      ]
     },
     "metadata": {
      "needs_background": "light"
     },
     "output_type": "display_data"
    }
   ],
   "source": [
    "meta.groupby(\"year\")[\"title_sport\"].sum().plot(kind='bar')"
   ]
  },
  {
   "cell_type": "code",
   "execution_count": 47,
   "metadata": {},
   "outputs": [
    {
     "data": {
      "text/plain": [
       "<matplotlib.axes._subplots.AxesSubplot at 0x14e91101808>"
      ]
     },
     "execution_count": 47,
     "metadata": {},
     "output_type": "execute_result"
    },
    {
     "data": {
      "image/png": "[encoded data removed]",
      "text/plain": [
       "<Figure size 432x288 with 1 Axes>"
      ]
     },
     "metadata": {
      "needs_background": "light"
     },
     "output_type": "display_data"
    }
   ],
   "source": [
    "meta.groupby(\"year\")[\"title_ethnic\"].sum().plot(kind='bar')"
   ]
  },
  {
   "cell_type": "code",
   "execution_count": 48,
   "metadata": {},
   "outputs": [
    {
     "data": {
      "text/plain": [
       "<matplotlib.axes._subplots.AxesSubplot at 0x14e910f4188>"
      ]
     },
     "execution_count": 48,
     "metadata": {},
     "output_type": "execute_result"
    },
    {
     "data": {
      "image/png": "[encoded data removed]",
      "text/plain": [
       "<Figure size 432x288 with 1 Axes>"
      ]
     },
     "metadata": {
      "needs_background": "light"
     },
     "output_type": "display_data"
    }
   ],
   "source": [
    "meta.groupby(\"year\")[\"title_place\"].sum().plot(kind='bar')"
   ]
  },
  {
   "cell_type": "code",
   "execution_count": 49,
   "metadata": {},
   "outputs": [
    {
     "data": {
      "text/plain": [
       "<matplotlib.axes._subplots.AxesSubplot at 0x14e92329ac8>"
      ]
     },
     "execution_count": 49,
     "metadata": {},
     "output_type": "execute_result"
    },
    {
     "data": {
      "image/png": "[encoded data removed]",
      "text/plain": [
       "<Figure size 432x288 with 1 Axes>"
      ]
     },
     "metadata": {
      "needs_background": "light"
     },
     "output_type": "display_data"
    }
   ],
   "source": [
    "meta.groupby(\"year\")[\"title_tech\"].sum().plot(kind='bar')"
   ]
  },
  {
   "cell_type": "code",
   "execution_count": 50,
   "metadata": {},
   "outputs": [
    {
     "data": {
      "text/plain": [
       "<matplotlib.axes._subplots.AxesSubplot at 0x14e92464588>"
      ]
     },
     "execution_count": 50,
     "metadata": {},
     "output_type": "execute_result"
    },
    {
     "data": {
      "image/png": "[encoded data removed]",
      "text/plain": [
       "<Figure size 432x288 with 1 Axes>"
      ]
     },
     "metadata": {
      "needs_background": "light"
     },
     "output_type": "display_data"
    }
   ],
   "source": [
    "meta.groupby(\"year\")[\"title_animal\"].sum().plot(kind='bar')"
   ]
  },
  {
   "cell_type": "code",
   "execution_count": 51,
   "metadata": {},
   "outputs": [
    {
     "data": {
      "text/plain": [
       "<matplotlib.axes._subplots.AxesSubplot at 0x14e92447508>"
      ]
     },
     "execution_count": 51,
     "metadata": {},
     "output_type": "execute_result"
    },
    {
     "data": {
      "image/png": "[encoded data removed]",
      "text/plain": [
       "<Figure size 432x288 with 1 Axes>"
      ]
     },
     "metadata": {
      "needs_background": "light"
     },
     "output_type": "display_data"
    }
   ],
   "source": [
    "meta.groupby(\"year\")[\"title_mystery\"].sum().plot(kind='bar')"
   ]
  },
  {
   "cell_type": "code",
   "execution_count": 52,
   "metadata": {},
   "outputs": [
    {
     "data": {
      "text/plain": [
       "<matplotlib.axes._subplots.AxesSubplot at 0x14e9266e1c8>"
      ]
     },
     "execution_count": 52,
     "metadata": {},
     "output_type": "execute_result"
    },
    {
     "data": {
      "image/png": "[encoded data removed]",
      "text/plain": [
       "<Figure size 432x288 with 1 Axes>"
      ]
     },
     "metadata": {
      "needs_background": "light"
     },
     "output_type": "display_data"
    }
   ],
   "source": [
    "meta.groupby(\"year\")[\"title_paranormal\"].sum().plot(kind='bar')"
   ]
  },
  {
   "cell_type": "code",
   "execution_count": 53,
   "metadata": {},
   "outputs": [
    {
     "data": {
      "text/plain": [
       "<matplotlib.axes._subplots.AxesSubplot at 0x14e927c74c8>"
      ]
     },
     "execution_count": 53,
     "metadata": {},
     "output_type": "execute_result"
    },
    {
     "data": {
      "image/png": "[encoded data removed]",
      "text/plain": [
       "<Figure size 432x288 with 1 Axes>"
      ]
     },
     "metadata": {
      "needs_background": "light"
     },
     "output_type": "display_data"
    }
   ],
   "source": [
    "meta.groupby(\"year\")[\"title_death\"].sum().plot(kind='bar')"
   ]
  },
  {
   "cell_type": "code",
   "execution_count": 54,
   "metadata": {},
   "outputs": [
    {
     "data": {
      "text/plain": [
       "<matplotlib.axes._subplots.AxesSubplot at 0x14e929002c8>"
      ]
     },
     "execution_count": 54,
     "metadata": {},
     "output_type": "execute_result"
    },
    {
     "data": {
      "image/png": "[encoded data removed]",
      "text/plain": [
       "<Figure size 432x288 with 1 Axes>"
      ]
     },
     "metadata": {
      "needs_background": "light"
     },
     "output_type": "display_data"
    }
   ],
   "source": [
    "meta.groupby(\"year\")[\"title_person\"].sum().plot(kind='bar')"
   ]
  },
  {
   "cell_type": "code",
   "execution_count": 55,
   "metadata": {},
   "outputs": [
    {
     "data": {
      "text/plain": [
       "<matplotlib.axes._subplots.AxesSubplot at 0x14e92a32e08>"
      ]
     },
     "execution_count": 55,
     "metadata": {},
     "output_type": "execute_result"
    },
    {
     "data": {
      "image/png": "[encoded data removed]",
      "text/plain": [
       "<Figure size 432x288 with 1 Axes>"
      ]
     },
     "metadata": {
      "needs_background": "light"
     },
     "output_type": "display_data"
    }
   ],
   "source": [
    "meta.groupby(\"year\")[\"title_danger\"].sum().plot(kind='bar')"
   ]
  },
  {
   "cell_type": "code",
   "execution_count": 56,
   "metadata": {},
   "outputs": [
    {
     "data": {
      "text/plain": [
       "<matplotlib.axes._subplots.AxesSubplot at 0x14e92b66648>"
      ]
     },
     "execution_count": 56,
     "metadata": {},
     "output_type": "execute_result"
    },
    {
     "data": {
      "image/png": "[encoded data removed]",
      "text/plain": [
       "<Figure size 432x288 with 1 Axes>"
      ]
     },
     "metadata": {
      "needs_background": "light"
     },
     "output_type": "display_data"
    }
   ],
   "source": [
    "meta.groupby(\"year\")[\"title_fire\"].sum().plot(kind='bar')"
   ]
  },
  {
   "cell_type": "code",
   "execution_count": 57,
   "metadata": {},
   "outputs": [
    {
     "data": {
      "text/plain": [
       "<matplotlib.axes._subplots.AxesSubplot at 0x14e92b5a988>"
      ]
     },
     "execution_count": 57,
     "metadata": {},
     "output_type": "execute_result"
    },
    {
     "data": {
      "image/png": "[encoded data removed]",
      "text/plain": [
       "<Figure size 432x288 with 1 Axes>"
      ]
     },
     "metadata": {
      "needs_background": "light"
     },
     "output_type": "display_data"
    }
   ],
   "source": [
    "meta.groupby(\"year\")[\"title_treasure\"].sum().plot(kind='bar')"
   ]
  },
  {
   "cell_type": "markdown",
   "metadata": {},
   "source": [
    "## Rating"
   ]
  },
  {
   "cell_type": "code",
   "execution_count": 58,
   "metadata": {},
   "outputs": [
    {
     "data": {
      "text/plain": [
       "Index(['episode', 'rating', 'rating_rank', 'no_votes', 'id', 'source'], dtype='object')"
      ]
     },
     "execution_count": 58,
     "metadata": {},
     "output_type": "execute_result"
    }
   ],
   "source": [
    "rating.columns"
   ]
  },
  {
   "cell_type": "code",
   "execution_count": 59,
   "metadata": {},
   "outputs": [
    {
     "data": {
      "text/plain": [
       "<matplotlib.axes._subplots.AxesSubplot at 0x14e92dc0608>"
      ]
     },
     "execution_count": 59,
     "metadata": {},
     "output_type": "execute_result"
    },
    {
     "data": {
      "image/png": "[encoded data removed]",
      "text/plain": [
       "<Figure size 432x288 with 1 Axes>"
      ]
     },
     "metadata": {
      "needs_background": "light"
     },
     "output_type": "display_data"
    }
   ],
   "source": [
    "#number of episodes over time\n",
    "meta.set_index(\"id\")[\"rating\"].plot(kind='bar')"
   ]
  },
  {
   "cell_type": "code",
   "execution_count": 60,
   "metadata": {},
   "outputs": [
    {
     "data": {
      "text/plain": [
       "<matplotlib.collections.PathCollection at 0x14e932bf388>"
      ]
     },
     "execution_count": 60,
     "metadata": {},
     "output_type": "execute_result"
    },
    {
     "data": {
      "image/png": "[encoded data removed]",
      "text/plain": [
       "<Figure size 432x288 with 1 Axes>"
      ]
     },
     "metadata": {
      "needs_background": "light"
     },
     "output_type": "display_data"
    }
   ],
   "source": [
    "x = meta[\"year\"]\n",
    "y = meta[\"rating\"]\n",
    "\n",
    "plt.scatter(x, y)"
   ]
  },
  {
   "cell_type": "code",
   "execution_count": 61,
   "metadata": {},
   "outputs": [
    {
     "data": {
      "text/plain": [
       "(207, 81)"
      ]
     },
     "execution_count": 61,
     "metadata": {},
     "output_type": "execute_result"
    }
   ],
   "source": [
    "meta.shape"
   ]
  },
  {
   "cell_type": "code",
   "execution_count": 62,
   "metadata": {},
   "outputs": [
    {
     "data": {
      "text/plain": [
       "<matplotlib.collections.PathCollection at 0x14e93321308>"
      ]
     },
     "execution_count": 62,
     "metadata": {},
     "output_type": "execute_result"
    },
    {
     "data": {
      "image/png": "[encoded data removed]",
      "text/plain": [
       "<Figure size 432x288 with 1 Axes>"
      ]
     },
     "metadata": {
      "needs_background": "light"
     },
     "output_type": "display_data"
    }
   ],
   "source": [
    "x = meta[\"minutes\"]\n",
    "y = meta[\"rating\"]\n",
    "\n",
    "plt.scatter(x, y)"
   ]
  },
  {
   "cell_type": "code",
   "execution_count": 63,
   "metadata": {},
   "outputs": [
    {
     "data": {
      "text/plain": [
       "Index(['id', '\"anudhara\" aufgenommen bei bantree records, worms / produzent',\n",
       "       'buch', 'buch und effekte', 'buch und redaktion', 'cover-illustration',\n",
       "       'coverillustration', 'design', 'effekte und redaktion',\n",
       "       'erscheinungsdatum', 'erzählt von', 'geräusche', 'ger�usche',\n",
       "       'hörspielbearbeitung', 'klang-recycling', 'laufzeit', 'musik',\n",
       "       'musik und effekte',\n",
       "       'nessie der seltsame wecker matthias green recyclings aus 3 fragezeichen rap',\n",
       "       'produktion und regie', 'projektleitung und produktmanagement',\n",
       "       'redaktion', 'redaktion und geräusche', 'regie', 'regie und produktion',\n",
       "       'song', 'teil a erzählt von', 'teil b erzählt von',\n",
       "       'teil c erzählt von', 'titel', 'titelmusik', 'html',\n",
       "       'zur vorherigen folge | zur nächsten folge', 'book', 'cover', 'music',\n",
       "       'director', 'editor', 'sounds', 'date', 'minutes', 'minutes_mean',\n",
       "       'minutes_total', 'parts', 'year', 'month', 'no_actors_total',\n",
       "       'no_main_actors', 'narrator', 'no_side_actors', 'no_female_actors',\n",
       "       'no_male_actors', 'no_actor_gender_missing', 'female_actors_ratio',\n",
       "       'no_female_side_actors', 'no_male_side_actors',\n",
       "       'female_side_actors_ratio', 'narrator_name', 'author_grouped',\n",
       "       'author_gender', 'episode', 'rating', 'rating_rank', 'no_votes',\n",
       "       'source', 'title_clean', 'title_colour', 'title_animal', 'title_sport',\n",
       "       'title_paranormal', 'title_place', 'title_tech', 'title_death',\n",
       "       'title_mystery', 'title_person', 'title_ethnic', 'title_fire',\n",
       "       'title_danger', 'title_treasure', 'title', 'no_per_year'],\n",
       "      dtype='object')"
      ]
     },
     "execution_count": 63,
     "metadata": {},
     "output_type": "execute_result"
    }
   ],
   "source": [
    "meta.columns"
   ]
  },
  {
   "cell_type": "markdown",
   "metadata": {},
   "source": [
    "### Author"
   ]
  },
  {
   "cell_type": "code",
   "execution_count": 64,
   "metadata": {},
   "outputs": [
    {
     "data": {
      "text/plain": [
       "<matplotlib.axes._subplots.AxesSubplot at 0x14e9337f608>"
      ]
     },
     "execution_count": 64,
     "metadata": {},
     "output_type": "execute_result"
    },
    {
     "data": {
      "image/png": "[encoded data removed]",
      "text/plain": [
       "<Figure size 432x288 with 1 Axes>"
      ]
     },
     "metadata": {
      "needs_background": "light"
     },
     "output_type": "display_data"
    }
   ],
   "source": [
    "meta.groupby(\"erzählt von\")[\"rating\"].count().sort_values().plot(kind='bar')"
   ]
  },
  {
   "cell_type": "code",
   "execution_count": 65,
   "metadata": {},
   "outputs": [
    {
     "data": {
      "text/plain": [
       "<matplotlib.axes._subplots.AxesSubplot at 0x14e8a8ad8c8>"
      ]
     },
     "execution_count": 65,
     "metadata": {},
     "output_type": "execute_result"
    },
    {
     "data": {
      "image/png": "[encoded data removed]",
      "text/plain": [
       "<Figure size 432x288 with 1 Axes>"
      ]
     },
     "metadata": {
      "needs_background": "light"
     },
     "output_type": "display_data"
    }
   ],
   "source": [
    "meta.groupby(\"author_grouped\")[\"rating\"].mean().sort_values(ascending=False).plot(kind='bar')"
   ]
  },
  {
   "cell_type": "code",
   "execution_count": 66,
   "metadata": {},
   "outputs": [
    {
     "data": {
      "text/plain": [
       "<matplotlib.axes._subplots.AxesSubplot at 0x14e944d6a88>"
      ]
     },
     "execution_count": 66,
     "metadata": {},
     "output_type": "execute_result"
    },
    {
     "data": {
      "image/png": "[encoded data removed]",
      "text/plain": [
       "<Figure size 432x288 with 1 Axes>"
      ]
     },
     "metadata": {
      "needs_background": "light"
     },
     "output_type": "display_data"
    }
   ],
   "source": [
    "meta.groupby(\"author_gender\")[\"rating\"].mean().plot(kind='bar')"
   ]
  },
  {
   "cell_type": "markdown",
   "metadata": {},
   "source": [
    "### Actors"
   ]
  },
  {
   "cell_type": "code",
   "execution_count": 67,
   "metadata": {},
   "outputs": [
    {
     "data": {
      "text/plain": [
       "<matplotlib.collections.PathCollection at 0x14e94578e08>"
      ]
     },
     "execution_count": 67,
     "metadata": {},
     "output_type": "execute_result"
    },
    {
     "data": {
      "image/png": "[encoded data removed]",
      "text/plain": [
       "<Figure size 432x288 with 1 Axes>"
      ]
     },
     "metadata": {
      "needs_background": "light"
     },
     "output_type": "display_data"
    }
   ],
   "source": [
    "x = meta[\"female_side_actors_ratio\"]\n",
    "y = meta[\"rating\"]\n",
    "\n",
    "plt.scatter(x, y)"
   ]
  },
  {
   "cell_type": "markdown",
   "metadata": {},
   "source": [
    "### Topic\n",
    "\n",
    "Seems like sport and tech themes have slightly lower ratings"
   ]
  },
  {
   "cell_type": "code",
   "execution_count": 68,
   "metadata": {},
   "outputs": [
    {
     "data": {
      "text/plain": [
       "<matplotlib.axes._subplots.AxesSubplot at 0x14e94593448>"
      ]
     },
     "execution_count": 68,
     "metadata": {},
     "output_type": "execute_result"
    },
    {
     "data": {
      "image/png": "[encoded data removed]",
      "text/plain": [
       "<Figure size 432x288 with 1 Axes>"
      ]
     },
     "metadata": {
      "needs_background": "light"
     },
     "output_type": "display_data"
    }
   ],
   "source": [
    "meta.groupby(\"title_sport\")[\"rating\"].mean().plot(kind='bar')"
   ]
  },
  {
   "cell_type": "code",
   "execution_count": 69,
   "metadata": {},
   "outputs": [
    {
     "data": {
      "text/plain": [
       "<matplotlib.axes._subplots.AxesSubplot at 0x14e945ffa48>"
      ]
     },
     "execution_count": 69,
     "metadata": {},
     "output_type": "execute_result"
    },
    {
     "data": {
      "image/png": "[encoded data removed]",
      "text/plain": [
       "<Figure size 432x288 with 1 Axes>"
      ]
     },
     "metadata": {
      "needs_background": "light"
     },
     "output_type": "display_data"
    }
   ],
   "source": [
    "meta.groupby(\"title_tech\")[\"rating\"].mean().plot(kind='bar')"
   ]
  },
  {
   "cell_type": "code",
   "execution_count": 70,
   "metadata": {},
   "outputs": [
    {
     "data": {
      "text/plain": [
       "['title_clean',\n",
       " 'title_colour',\n",
       " 'title_animal',\n",
       " 'title_sport',\n",
       " 'title_paranormal',\n",
       " 'title_place',\n",
       " 'title_tech',\n",
       " 'title_death',\n",
       " 'title_mystery',\n",
       " 'title_person',\n",
       " 'title_ethnic',\n",
       " 'title_fire',\n",
       " 'title_danger',\n",
       " 'title_treasure',\n",
       " 'id']"
      ]
     },
     "execution_count": 70,
     "metadata": {},
     "output_type": "execute_result"
    }
   ],
   "source": [
    "list(title_cat)"
   ]
  }
 ],
 "metadata": {
  "kernelspec": {
   "display_name": "py3_dreif",
   "language": "python",
   "name": "py3_dreif"
  },
  "language_info": {
   "codemirror_mode": {
    "name": "ipython",
    "version": 3
   },
   "file_extension": ".py",
   "mimetype": "text/x-python",
   "name": "python",
   "nbconvert_exporter": "python",
   "pygments_lexer": "ipython3",
   "version": "3.7.5"
  },
  "toc": {
   "base_numbering": 1,
   "nav_menu": {},
   "number_sections": true,
   "sideBar": true,
   "skip_h1_title": false,
   "title_cell": "Table of Contents",
   "title_sidebar": "Contents",
   "toc_cell": false,
   "toc_position": {
    "height": "calc(100% - 180px)",
    "left": "10px",
    "top": "150px",
    "width": "303.4px"
   },
   "toc_section_display": true,
   "toc_window_display": true
  }
 },
 "nbformat": 4,
 "nbformat_minor": 2
}
