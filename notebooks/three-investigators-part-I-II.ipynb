{
 "cells": [
  {
   "cell_type": "markdown",
   "metadata": {},
   "source": [
    "# Three investigators - part I.II\n",
    "\n",
    "A project for scraping and analysing data from a fan site on the audio book called 'The three investigators'\n",
    "\n",
    "Part I.II: Gender prediction\n",
    "\n",
    "Using [Genderize API](https://github.com/SteelPangolin/genderize) to predict gender of actors using first names\n"
   ]
  },
  {
   "cell_type": "code",
   "execution_count": 10,
   "metadata": {},
   "outputs": [],
   "source": [
    "# import modules\n",
    "import pandas as pd\n",
    "from datetime import date\n",
    "import requests\n",
    "\n",
    "# for file directories\n",
    "import os"
   ]
  },
  {
   "cell_type": "code",
   "execution_count": 2,
   "metadata": {},
   "outputs": [],
   "source": [
    "#change directory to root folder\n",
    "os.chdir(\"..\")\n",
    "\n",
    "#load script to work with Genderize API (download [here](https://github.com/SteelPangolin/genderize))\n",
    "#this will require to have requests imported\n",
    "from src.genderize import Genderize"
   ]
  },
  {
   "cell_type": "markdown",
   "metadata": {},
   "source": [
    "# Load data"
   ]
  },
  {
   "cell_type": "code",
   "execution_count": 3,
   "metadata": {},
   "outputs": [],
   "source": [
    "actors = pd.read_csv(\".\\\\data\\\\scraped\\\\actor_all.csv\")"
   ]
  },
  {
   "cell_type": "code",
   "execution_count": 5,
   "metadata": {},
   "outputs": [],
   "source": [
    "# make all column names lower case\n",
    "actors.columns = actors.columns.str.lower()"
   ]
  },
  {
   "cell_type": "markdown",
   "metadata": {},
   "source": [
    "# Predict actor gender and save output file"
   ]
  },
  {
   "cell_type": "code",
   "execution_count": 11,
   "metadata": {},
   "outputs": [
    {
     "data": {
      "text/html": [
       "<div>\n",
       "<style scoped>\n",
       "    .dataframe tbody tr th:only-of-type {\n",
       "        vertical-align: middle;\n",
       "    }\n",
       "\n",
       "    .dataframe tbody tr th {\n",
       "        vertical-align: top;\n",
       "    }\n",
       "\n",
       "    .dataframe thead th {\n",
       "        text-align: right;\n",
       "    }\n",
       "</style>\n",
       "<table border=\"1\" class=\"dataframe\">\n",
       "  <thead>\n",
       "    <tr style=\"text-align: right;\">\n",
       "      <th></th>\n",
       "      <th>name</th>\n",
       "      <th>gender</th>\n",
       "      <th>gender_probability</th>\n",
       "      <th>gender_count</th>\n",
       "    </tr>\n",
       "  </thead>\n",
       "  <tbody>\n",
       "    <tr>\n",
       "      <th>1</th>\n",
       "      <td>Merete</td>\n",
       "      <td>female</td>\n",
       "      <td>0.97</td>\n",
       "      <td>433</td>\n",
       "    </tr>\n",
       "    <tr>\n",
       "      <th>1</th>\n",
       "      <td>Matti</td>\n",
       "      <td>male</td>\n",
       "      <td>0.97</td>\n",
       "      <td>3282</td>\n",
       "    </tr>\n",
       "    <tr>\n",
       "      <th>1</th>\n",
       "      <td>7</td>\n",
       "      <td>None</td>\n",
       "      <td>0</td>\n",
       "      <td>0</td>\n",
       "    </tr>\n",
       "    <tr>\n",
       "      <th>1</th>\n",
       "      <td>Erik</td>\n",
       "      <td>male</td>\n",
       "      <td>0.99</td>\n",
       "      <td>36091</td>\n",
       "    </tr>\n",
       "    <tr>\n",
       "      <th>1</th>\n",
       "      <td>Jacob</td>\n",
       "      <td>male</td>\n",
       "      <td>0.99</td>\n",
       "      <td>15119</td>\n",
       "    </tr>\n",
       "  </tbody>\n",
       "</table>\n",
       "</div>"
      ],
      "text/plain": [
       "     name  gender gender_probability gender_count\n",
       "1  Merete  female               0.97          433\n",
       "1   Matti    male               0.97         3282\n",
       "1       7    None                  0            0\n",
       "1    Erik    male               0.99        36091\n",
       "1   Jacob    male               0.99        15119"
      ]
     },
     "execution_count": 11,
     "metadata": {},
     "output_type": "execute_result"
    }
   ],
   "source": [
    "#get gender for list of firstnames from Genderize.io\n",
    "\n",
    "#get unique list of first actor names\n",
    "names_unique = list (set (actors[\"firstname\"]))\n",
    "\n",
    "#access genderize.io api using this repository: tps://github.com/SteelPangolin/genderize\n",
    "gender_raw = Genderize().get(names_unique)\n",
    "\n",
    "#make dictionary into data frame\n",
    "gender = []\n",
    "for i in range(len(gender_raw)):\n",
    "    c = pd.DataFrame(gender_raw[i].items())[1]\n",
    "    gender.append(c)\n",
    "\n",
    "#rename columns\n",
    "gender = pd.concat(gender, axis=1).transpose().rename(columns={0:\"name\", 1:\"gender\", 2:\"gender_probability\", 3:\"gender_count\"})  \n",
    "\n",
    "#save output as backup to access later\n",
    "gender.to_csv(\".\\\\data\\\\processed\\\\actor_gender_prediction_\" + \"%s\" %(str(date.today())) + \".csv\") \n",
    "\n",
    "#display\n",
    "gender.head()"
   ]
  }
 ],
 "metadata": {
  "kernelspec": {
   "display_name": "py3_dreif",
   "language": "python",
   "name": "py3_dreif"
  },
  "language_info": {
   "codemirror_mode": {
    "name": "ipython",
    "version": 3
   },
   "file_extension": ".py",
   "mimetype": "text/x-python",
   "name": "python",
   "nbconvert_exporter": "python",
   "pygments_lexer": "ipython3",
   "version": "3.7.5"
  },
  "toc": {
   "base_numbering": 1,
   "nav_menu": {},
   "number_sections": true,
   "sideBar": true,
   "skip_h1_title": false,
   "title_cell": "Table of Contents",
   "title_sidebar": "Contents",
   "toc_cell": false,
   "toc_position": {},
   "toc_section_display": true,
   "toc_window_display": false
  }
 },
 "nbformat": 4,
 "nbformat_minor": 2
}
