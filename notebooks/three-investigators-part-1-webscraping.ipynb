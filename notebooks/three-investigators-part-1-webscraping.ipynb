{
 "cells": [
  {
   "cell_type": "markdown",
   "metadata": {},
   "source": [
    "# Three investigators - part 1\n",
    "\n",
    "A project for scraping and analysing data from a fan site on the audio book called '[The three investigators](https://en.wikipedia.org/wiki/Three_Investigators#Germany)'\n",
    "\n",
    "**Part 1: Webscraping**\n",
    "\n",
    "- seting up list of pages to scrape data from\n",
    "- scraping tables on meta data, actors, content and ratings for each episode\n",
    "- saving data outputs in csv files\n",
    "\n",
    "Data is scraped from [Rocky-Beach.com](https://www.rocky-beach.com/)\n"
   ]
  },
  {
   "cell_type": "markdown",
   "metadata": {},
   "source": [
    "# Setup"
   ]
  },
  {
   "cell_type": "code",
   "execution_count": 1,
   "metadata": {},
   "outputs": [
    {
     "name": "stdout",
     "output_type": "stream",
     "text": [
      "3.7.5\n"
     ]
    }
   ],
   "source": [
    "#python version used for this project\n",
    "from platform import python_version\n",
    "print(python_version())"
   ]
  },
  {
   "cell_type": "code",
   "execution_count": 2,
   "metadata": {},
   "outputs": [],
   "source": [
    "# import modules [as specified in requirements.txt]\n",
    "import pandas as pd\n",
    "import numpy as np\n",
    "from  urllib.request import urlopen #to read in html\n",
    "from bs4 import BeautifulSoup #for web scraping\n",
    "import re\n",
    "import requests\n",
    "\n",
    "# for file directories\n",
    "import os\n",
    "\n",
    "%matplotlib inline"
   ]
  },
  {
   "cell_type": "code",
   "execution_count": 3,
   "metadata": {},
   "outputs": [],
   "source": [
    "#change directory to root folder\n",
    "os.chdir(\"..\")"
   ]
  },
  {
   "cell_type": "markdown",
   "metadata": {},
   "source": [
    "# Scrape data of Rocky-beach.com"
   ]
  },
  {
   "cell_type": "markdown",
   "metadata": {},
   "source": [
    "## Setup list of web pages to scrape"
   ]
  },
  {
   "cell_type": "code",
   "execution_count": 4,
   "metadata": {},
   "outputs": [
    {
     "data": {
      "text/plain": [
       "['https://www.rocky-beach.com/hoerspiel/folgen/001.html',\n",
       " 'https://www.rocky-beach.com/hoerspiel/folgen/002.html',\n",
       " 'https://www.rocky-beach.com/hoerspiel/folgen/003.html',\n",
       " 'https://www.rocky-beach.com/hoerspiel/folgen/004.html',\n",
       " 'https://www.rocky-beach.com/hoerspiel/folgen/005.html',\n",
       " 'https://www.rocky-beach.com/hoerspiel/folgen/006.html',\n",
       " 'https://www.rocky-beach.com/hoerspiel/folgen/007.html',\n",
       " 'https://www.rocky-beach.com/hoerspiel/folgen/008.html',\n",
       " 'https://www.rocky-beach.com/hoerspiel/folgen/009.html',\n",
       " 'https://www.rocky-beach.com/hoerspiel/folgen/010.html']"
      ]
     },
     "execution_count": 4,
     "metadata": {},
     "output_type": "execute_result"
    }
   ],
   "source": [
    "#format: https://www.rocky-beach.com/hoerspiel/folgen/001.html\n",
    "html_list = []\n",
    "for i in range(1, 300):\n",
    "    html = \"https://www.rocky-beach.com/hoerspiel/folgen/%s.html\" % (\"%03d\" % i)\n",
    "    if requests.get(html).status_code == 200:  #check if site exists\n",
    "        html_list.append(html)\n",
    "    else:\n",
    "        break   #stop loop once latest episode detected\n",
    "html_list[:10]"
   ]
  },
  {
   "cell_type": "markdown",
   "metadata": {},
   "source": [
    "## Meta data"
   ]
  },
  {
   "cell_type": "markdown",
   "metadata": {},
   "source": [
    "### Get tables to scrape"
   ]
  },
  {
   "cell_type": "code",
   "execution_count": 5,
   "metadata": {},
   "outputs": [
    {
     "data": {
      "text/plain": [
       "[7, 7, 7, 7]"
      ]
     },
     "execution_count": 5,
     "metadata": {},
     "output_type": "execute_result"
    }
   ],
   "source": [
    "# get the table that contains the data we want for each site\n",
    "meta_tables = [] #list to hold all indices for the correct table for each site\n",
    "\n",
    "for sites in range(len(html_list)):\n",
    "    df_list=pd.read_html(html_list[sites]) #read in all dataframes on each site\n",
    "    table_index = [] #empty list to store correct table index\n",
    "    for position, df in enumerate(df_list):  #loop through all dataframes on site\n",
    "        df.dropna(how='all').dropna(axis=1,how='any')\n",
    "        if \"Studio-Infos\" in str(df.iloc[:,:]):   #find table we want using keyword\n",
    "            table_index.append(position)    #store index of that table in the list \n",
    "    if not table_index:\n",
    "        table_index =[np.nan] #if table doesn't exist, store missing value\n",
    "    table_index=table_index[-1] + 1 #get last element and add one since it's the table we want\n",
    "    meta_tables.append(table_index)\n",
    "\n",
    "meta_tables[:4]"
   ]
  },
  {
   "cell_type": "markdown",
   "metadata": {},
   "source": [
    "### Get the data"
   ]
  },
  {
   "cell_type": "code",
   "execution_count": 7,
   "metadata": {},
   "outputs": [
    {
     "data": {
      "text/html": [
       "<div>\n",
       "<style scoped>\n",
       "    .dataframe tbody tr th:only-of-type {\n",
       "        vertical-align: middle;\n",
       "    }\n",
       "\n",
       "    .dataframe tbody tr th {\n",
       "        vertical-align: top;\n",
       "    }\n",
       "\n",
       "    .dataframe thead th {\n",
       "        text-align: right;\n",
       "    }\n",
       "</style>\n",
       "<table border=\"1\" class=\"dataframe\">\n",
       "  <thead>\n",
       "    <tr style=\"text-align: right;\">\n",
       "      <th></th>\n",
       "      <th>ID</th>\n",
       "      <th>\"Anudhara\" aufgenommen bei Bantree Records, Worms / Produzent</th>\n",
       "      <th>Buch</th>\n",
       "      <th>Buch und Effekte</th>\n",
       "      <th>Buch und Redaktion</th>\n",
       "      <th>Cover-Illustration</th>\n",
       "      <th>Coverillustration</th>\n",
       "      <th>Design</th>\n",
       "      <th>Effekte und Redaktion</th>\n",
       "      <th>Erscheinungsdatum</th>\n",
       "      <th>...</th>\n",
       "      <th>Regie</th>\n",
       "      <th>Regie und Produktion</th>\n",
       "      <th>Song</th>\n",
       "      <th>Teil A erzählt von</th>\n",
       "      <th>Teil B erzählt von</th>\n",
       "      <th>Teil C erzählt von</th>\n",
       "      <th>Titel</th>\n",
       "      <th>Titelmusik</th>\n",
       "      <th>html</th>\n",
       "      <th>zur vorherigen Folge | zur nächsten Folge</th>\n",
       "    </tr>\n",
       "  </thead>\n",
       "  <tbody>\n",
       "    <tr>\n",
       "      <th>0</th>\n",
       "      <td>001</td>\n",
       "      <td>NaN</td>\n",
       "      <td>H. G. Francis</td>\n",
       "      <td>NaN</td>\n",
       "      <td>NaN</td>\n",
       "      <td>NaN</td>\n",
       "      <td>NaN</td>\n",
       "      <td>NaN</td>\n",
       "      <td>NaN</td>\n",
       "      <td>12.10.1979</td>\n",
       "      <td>...</td>\n",
       "      <td>Heikedine Körting</td>\n",
       "      <td>NaN</td>\n",
       "      <td>NaN</td>\n",
       "      <td>NaN</td>\n",
       "      <td>NaN</td>\n",
       "      <td>NaN</td>\n",
       "      <td>Der Super-Papagei (Hörspiel)</td>\n",
       "      <td>NaN</td>\n",
       "      <td>https://www.rocky-beach.com/hoerspiel/folgen/0...</td>\n",
       "      <td>NaN</td>\n",
       "    </tr>\n",
       "    <tr>\n",
       "      <th>1</th>\n",
       "      <td>002</td>\n",
       "      <td>NaN</td>\n",
       "      <td>H. G. Francis</td>\n",
       "      <td>NaN</td>\n",
       "      <td>NaN</td>\n",
       "      <td>NaN</td>\n",
       "      <td>NaN</td>\n",
       "      <td>NaN</td>\n",
       "      <td>NaN</td>\n",
       "      <td>12.10.1979</td>\n",
       "      <td>...</td>\n",
       "      <td>Heikedine Körting</td>\n",
       "      <td>NaN</td>\n",
       "      <td>NaN</td>\n",
       "      <td>NaN</td>\n",
       "      <td>NaN</td>\n",
       "      <td>NaN</td>\n",
       "      <td>Der Phantomsee (Hörspiel)</td>\n",
       "      <td>NaN</td>\n",
       "      <td>https://www.rocky-beach.com/hoerspiel/folgen/0...</td>\n",
       "      <td>NaN</td>\n",
       "    </tr>\n",
       "    <tr>\n",
       "      <th>2</th>\n",
       "      <td>003</td>\n",
       "      <td>NaN</td>\n",
       "      <td>H. G. Francis</td>\n",
       "      <td>NaN</td>\n",
       "      <td>NaN</td>\n",
       "      <td>NaN</td>\n",
       "      <td>NaN</td>\n",
       "      <td>NaN</td>\n",
       "      <td>NaN</td>\n",
       "      <td>12.10.1979</td>\n",
       "      <td>...</td>\n",
       "      <td>Heikedine Körting</td>\n",
       "      <td>NaN</td>\n",
       "      <td>NaN</td>\n",
       "      <td>NaN</td>\n",
       "      <td>NaN</td>\n",
       "      <td>NaN</td>\n",
       "      <td>Der Karpatenhund (Hörspiel)</td>\n",
       "      <td>NaN</td>\n",
       "      <td>https://www.rocky-beach.com/hoerspiel/folgen/0...</td>\n",
       "      <td>NaN</td>\n",
       "    </tr>\n",
       "    <tr>\n",
       "      <th>3</th>\n",
       "      <td>004</td>\n",
       "      <td>NaN</td>\n",
       "      <td>H. G. Francis</td>\n",
       "      <td>NaN</td>\n",
       "      <td>NaN</td>\n",
       "      <td>NaN</td>\n",
       "      <td>NaN</td>\n",
       "      <td>NaN</td>\n",
       "      <td>NaN</td>\n",
       "      <td>12.10.1979</td>\n",
       "      <td>...</td>\n",
       "      <td>Heikedine Körting</td>\n",
       "      <td>NaN</td>\n",
       "      <td>NaN</td>\n",
       "      <td>NaN</td>\n",
       "      <td>NaN</td>\n",
       "      <td>NaN</td>\n",
       "      <td>Die schwarze Katze (Hörspiel)</td>\n",
       "      <td>NaN</td>\n",
       "      <td>https://www.rocky-beach.com/hoerspiel/folgen/0...</td>\n",
       "      <td>NaN</td>\n",
       "    </tr>\n",
       "    <tr>\n",
       "      <th>4</th>\n",
       "      <td>005</td>\n",
       "      <td>NaN</td>\n",
       "      <td>H. G. Francis</td>\n",
       "      <td>NaN</td>\n",
       "      <td>NaN</td>\n",
       "      <td>NaN</td>\n",
       "      <td>NaN</td>\n",
       "      <td>NaN</td>\n",
       "      <td>NaN</td>\n",
       "      <td>12.10.1979</td>\n",
       "      <td>...</td>\n",
       "      <td>Heikedine Körting</td>\n",
       "      <td>NaN</td>\n",
       "      <td>NaN</td>\n",
       "      <td>NaN</td>\n",
       "      <td>NaN</td>\n",
       "      <td>NaN</td>\n",
       "      <td>Der Fluch des Rubins (Hörspiel)</td>\n",
       "      <td>NaN</td>\n",
       "      <td>https://www.rocky-beach.com/hoerspiel/folgen/0...</td>\n",
       "      <td>NaN</td>\n",
       "    </tr>\n",
       "  </tbody>\n",
       "</table>\n",
       "<p>5 rows × 33 columns</p>\n",
       "</div>"
      ],
      "text/plain": [
       "    ID \"Anudhara\" aufgenommen bei Bantree Records, Worms / Produzent  \\\n",
       "0  001                                                NaN              \n",
       "1  002                                                NaN              \n",
       "2  003                                                NaN              \n",
       "3  004                                                NaN              \n",
       "4  005                                                NaN              \n",
       "\n",
       "            Buch Buch und Effekte Buch und Redaktion Cover-Illustration  \\\n",
       "0  H. G. Francis              NaN                NaN                NaN   \n",
       "1  H. G. Francis              NaN                NaN                NaN   \n",
       "2  H. G. Francis              NaN                NaN                NaN   \n",
       "3  H. G. Francis              NaN                NaN                NaN   \n",
       "4  H. G. Francis              NaN                NaN                NaN   \n",
       "\n",
       "  Coverillustration Design Effekte und Redaktion Erscheinungsdatum  ...  \\\n",
       "0               NaN    NaN                   NaN        12.10.1979  ...   \n",
       "1               NaN    NaN                   NaN        12.10.1979  ...   \n",
       "2               NaN    NaN                   NaN        12.10.1979  ...   \n",
       "3               NaN    NaN                   NaN        12.10.1979  ...   \n",
       "4               NaN    NaN                   NaN        12.10.1979  ...   \n",
       "\n",
       "               Regie Regie und Produktion Song Teil A erzählt von  \\\n",
       "0  Heikedine Körting                  NaN  NaN                NaN   \n",
       "1  Heikedine Körting                  NaN  NaN                NaN   \n",
       "2  Heikedine Körting                  NaN  NaN                NaN   \n",
       "3  Heikedine Körting                  NaN  NaN                NaN   \n",
       "4  Heikedine Körting                  NaN  NaN                NaN   \n",
       "\n",
       "  Teil B erzählt von Teil C erzählt von                            Titel  \\\n",
       "0                NaN                NaN     Der Super-Papagei (Hörspiel)   \n",
       "1                NaN                NaN        Der Phantomsee (Hörspiel)   \n",
       "2                NaN                NaN      Der Karpatenhund (Hörspiel)   \n",
       "3                NaN                NaN    Die schwarze Katze (Hörspiel)   \n",
       "4                NaN                NaN  Der Fluch des Rubins (Hörspiel)   \n",
       "\n",
       "  Titelmusik                                               html  \\\n",
       "0        NaN  https://www.rocky-beach.com/hoerspiel/folgen/0...   \n",
       "1        NaN  https://www.rocky-beach.com/hoerspiel/folgen/0...   \n",
       "2        NaN  https://www.rocky-beach.com/hoerspiel/folgen/0...   \n",
       "3        NaN  https://www.rocky-beach.com/hoerspiel/folgen/0...   \n",
       "4        NaN  https://www.rocky-beach.com/hoerspiel/folgen/0...   \n",
       "\n",
       "  zur vorherigen Folge | zur nächsten Folge  \n",
       "0                                       NaN  \n",
       "1                                       NaN  \n",
       "2                                       NaN  \n",
       "3                                       NaN  \n",
       "4                                       NaN  \n",
       "\n",
       "[5 rows x 33 columns]"
      ]
     },
     "execution_count": 7,
     "metadata": {},
     "output_type": "execute_result"
    }
   ],
   "source": [
    "#Get meta data for all pages\n",
    "meta = []\n",
    "\n",
    "for i in range(len(html_list)):\n",
    "    meta_site = pd.read_html(html_list[i], encoding=\"utf-8\")[meta_tables[i]].dropna()#read in the table with the meta data for each site\n",
    "    if len(meta_site.columns) == 1:\n",
    "        meta_site[1]= np.nan\n",
    "    meta_site.columns = [0, 1] #define column names\n",
    "    title = BeautifulSoup(urlopen(html_list[i]), 'lxml').title.string.replace('(H\\xc3\\xb6rspiel)', '') #get title\n",
    "    meta_site = meta_site.append({0: 'Titel:', 1: title}, ignore_index=True) #append title column\n",
    "    meta_site = meta_site.append({0: 'html', 1: html_list[i]}, ignore_index=True) #add url\n",
    "    meta_site[0] = meta_site[0].str.replace(\":\", \"\").str.strip() #format data\n",
    "    meta_site[\"ID\"] = \"%03d\" % (i+1) #add ID column\n",
    "    meta.append(meta_site)\n",
    "\n",
    "meta = pd.concat(meta, axis=0, sort=True) #join all individual tables together\n",
    "meta = meta.groupby([\"ID\", 0]).agg({1:\"first\"}).unstack().reset_index()\n",
    "meta.columns = [col[1] for col in meta.columns]\n",
    "\n",
    "#remove episode 29\n",
    "meta = meta.loc[meta[\"ID\"]!=\"029\"]\n",
    "\n",
    "meta.head()"
   ]
  },
  {
   "cell_type": "markdown",
   "metadata": {},
   "source": [
    "### Save output"
   ]
  },
  {
   "cell_type": "code",
   "execution_count": 8,
   "metadata": {},
   "outputs": [],
   "source": [
    "meta.columns = meta.columns.str.lower()\n",
    "meta.to_csv(\".\\\\data\\\\scraped\\\\meta.csv\", encoding='utf8', index=False)"
   ]
  },
  {
   "cell_type": "markdown",
   "metadata": {},
   "source": [
    "## Actors"
   ]
  },
  {
   "cell_type": "code",
   "execution_count": 9,
   "metadata": {},
   "outputs": [
    {
     "name": "stdout",
     "output_type": "stream",
     "text": [
      "(2873, 3)\n",
      "\n",
      "                                 Role             Actor   ID\n",
      "0                 Hitchcock, Erzähler     Peter Pasetti  001\n",
      "1       Justus Jonas, Erster Detektiv   Oliver Rohrbeck  001\n",
      "2        Peter Shaw, Zweiter Detektiv    Jens Wawrczeck  001\n",
      "3  Bob Andrews, Recherchen und Archiv  Andreas Fröhlich  001\n",
      "4        Mr. Fentriss, Schriftsteller   Richard Lauffen  001\n",
      "\n"
     ]
    }
   ],
   "source": [
    "actor_all = []\n",
    "\n",
    "for i in range(len(html_list)):\n",
    "    actor = pd.read_html(html_list[i])[5].dropna()\n",
    "    actor.columns = [0,1]\n",
    "    actor[\"ID\"] = \"%03d\" % (i+1) #add ID column\n",
    "    actor_all.append(actor)\n",
    "     \n",
    "actor_all = pd.concat(actor_all, axis=0, sort=True)  #join all individual tables together\n",
    "\n",
    "#rename columns\n",
    "actor_all = actor_all.rename(columns={0:\"Role\", 1:\"Actor\"})\n",
    "\n",
    "print(actor_all.shape)\n",
    "print(\"\")\n",
    "print(actor_all.head())\n",
    "print(\"\")"
   ]
  },
  {
   "cell_type": "code",
   "execution_count": 15,
   "metadata": {},
   "outputs": [],
   "source": [
    "#Save output\n",
    "actor_all.columns = actor_all.columns.str.lower()\n",
    "actor_all.to_csv(\".\\\\data\\\\scraped\\\\actors.csv\", encoding='utf8', index=False)"
   ]
  },
  {
   "cell_type": "markdown",
   "metadata": {},
   "source": [
    "## Content"
   ]
  },
  {
   "cell_type": "code",
   "execution_count": 11,
   "metadata": {},
   "outputs": [
    {
     "data": {
      "text/html": [
       "<div>\n",
       "<style scoped>\n",
       "    .dataframe tbody tr th:only-of-type {\n",
       "        vertical-align: middle;\n",
       "    }\n",
       "\n",
       "    .dataframe tbody tr th {\n",
       "        vertical-align: top;\n",
       "    }\n",
       "\n",
       "    .dataframe thead th {\n",
       "        text-align: right;\n",
       "    }\n",
       "</style>\n",
       "<table border=\"1\" class=\"dataframe\">\n",
       "  <thead>\n",
       "    <tr style=\"text-align: right;\">\n",
       "      <th></th>\n",
       "      <th>content</th>\n",
       "      <th>ID</th>\n",
       "    </tr>\n",
       "  </thead>\n",
       "  <tbody>\n",
       "    <tr>\n",
       "      <th>0</th>\n",
       "      <td>Der neueste Auftrag an die drei Detektive hört...</td>\n",
       "      <td>001</td>\n",
       "    </tr>\n",
       "    <tr>\n",
       "      <th>0</th>\n",
       "      <td>Welches Geheimnis verbirgt sich in einem vergi...</td>\n",
       "      <td>002</td>\n",
       "    </tr>\n",
       "    <tr>\n",
       "      <th>0</th>\n",
       "      <td>\"Bei mir spukt es!\" Mit diesem verzweifelten A...</td>\n",
       "      <td>003</td>\n",
       "    </tr>\n",
       "    <tr>\n",
       "      <th>0</th>\n",
       "      <td>In einem kleinen Wanderzirkus wittern die drei...</td>\n",
       "      <td>004</td>\n",
       "    </tr>\n",
       "    <tr>\n",
       "      <th>0</th>\n",
       "      <td>Alfred Hitchcock und die drei Detektive (Firme...</td>\n",
       "      <td>005</td>\n",
       "    </tr>\n",
       "  </tbody>\n",
       "</table>\n",
       "</div>"
      ],
      "text/plain": [
       "                                             content   ID\n",
       "0  Der neueste Auftrag an die drei Detektive hört...  001\n",
       "0  Welches Geheimnis verbirgt sich in einem vergi...  002\n",
       "0  \"Bei mir spukt es!\" Mit diesem verzweifelten A...  003\n",
       "0  In einem kleinen Wanderzirkus wittern die drei...  004\n",
       "0  Alfred Hitchcock und die drei Detektive (Firme...  005"
      ]
     },
     "execution_count": 11,
     "metadata": {},
     "output_type": "execute_result"
    }
   ],
   "source": [
    "content_all = []\n",
    "\n",
    "for i in range(len(html_list)):\n",
    "    content = pd.DataFrame(pd.read_html(html_list[i])[3].dropna(how='all').dropna(1).iloc[1])\n",
    "    content[\"ID\"] = \"%03d\" % (i+1)\n",
    "    meta[\"Source\"] = \"Rocky-Beach.com\"\n",
    "    content_all.append(content)\n",
    "    \n",
    "content_all = pd.concat(content_all, axis=0).rename(columns={1:\"content\"}) #join all individual objects together\n",
    "content_all.head()   "
   ]
  },
  {
   "cell_type": "code",
   "execution_count": 16,
   "metadata": {},
   "outputs": [],
   "source": [
    "#save output\n",
    "content_all.columns = content_all.columns.str.lower()\n",
    "content_all.to_csv(\".\\\\data\\\\scraped\\\\content.csv\", encoding='utf8', index=False)"
   ]
  },
  {
   "cell_type": "markdown",
   "metadata": {},
   "source": [
    "## Ratings"
   ]
  },
  {
   "cell_type": "code",
   "execution_count": 13,
   "metadata": {},
   "outputs": [
    {
     "data": {
      "text/html": [
       "<div>\n",
       "<style scoped>\n",
       "    .dataframe tbody tr th:only-of-type {\n",
       "        vertical-align: middle;\n",
       "    }\n",
       "\n",
       "    .dataframe tbody tr th {\n",
       "        vertical-align: top;\n",
       "    }\n",
       "\n",
       "    .dataframe thead th {\n",
       "        text-align: right;\n",
       "    }\n",
       "</style>\n",
       "<table border=\"1\" class=\"dataframe\">\n",
       "  <thead>\n",
       "    <tr style=\"text-align: right;\">\n",
       "      <th></th>\n",
       "      <th>Episode</th>\n",
       "      <th>Bewertung.1</th>\n",
       "      <th>Rang</th>\n",
       "      <th>Ranking</th>\n",
       "      <th>ID</th>\n",
       "      <th>Source</th>\n",
       "    </tr>\n",
       "  </thead>\n",
       "  <tbody>\n",
       "    <tr>\n",
       "      <th>0</th>\n",
       "      <td>Der Super-Papagei</td>\n",
       "      <td>1.6118</td>\n",
       "      <td>4.0</td>\n",
       "      <td>760.0</td>\n",
       "      <td>001</td>\n",
       "      <td>Rocky-Beach.com</td>\n",
       "    </tr>\n",
       "    <tr>\n",
       "      <th>1</th>\n",
       "      <td>Der Phantomsee</td>\n",
       "      <td>1.8155</td>\n",
       "      <td>20.0</td>\n",
       "      <td>683.0</td>\n",
       "      <td>002</td>\n",
       "      <td>Rocky-Beach.com</td>\n",
       "    </tr>\n",
       "    <tr>\n",
       "      <th>2</th>\n",
       "      <td>Der Karpatenhund</td>\n",
       "      <td>1.6604</td>\n",
       "      <td>8.0</td>\n",
       "      <td>695.0</td>\n",
       "      <td>003</td>\n",
       "      <td>Rocky-Beach.com</td>\n",
       "    </tr>\n",
       "    <tr>\n",
       "      <th>3</th>\n",
       "      <td>Die schwarze Katze</td>\n",
       "      <td>2.4022</td>\n",
       "      <td>103.0</td>\n",
       "      <td>649.0</td>\n",
       "      <td>004</td>\n",
       "      <td>Rocky-Beach.com</td>\n",
       "    </tr>\n",
       "    <tr>\n",
       "      <th>4</th>\n",
       "      <td>Der Fluch des Rubins</td>\n",
       "      <td>1.8141</td>\n",
       "      <td>19.0</td>\n",
       "      <td>651.0</td>\n",
       "      <td>005</td>\n",
       "      <td>Rocky-Beach.com</td>\n",
       "    </tr>\n",
       "    <tr>\n",
       "      <th>...</th>\n",
       "      <td>...</td>\n",
       "      <td>...</td>\n",
       "      <td>...</td>\n",
       "      <td>...</td>\n",
       "      <td>...</td>\n",
       "      <td>...</td>\n",
       "    </tr>\n",
       "    <tr>\n",
       "      <th>234</th>\n",
       "      <td>Unter Hochspannung</td>\n",
       "      <td>2.8947</td>\n",
       "      <td>167.0</td>\n",
       "      <td>95.0</td>\n",
       "      <td>992</td>\n",
       "      <td>Rocky-Beach.com</td>\n",
       "    </tr>\n",
       "    <tr>\n",
       "      <th>235</th>\n",
       "      <td>Gefangene Gedanken</td>\n",
       "      <td>2.7551</td>\n",
       "      <td>154.0</td>\n",
       "      <td>98.0</td>\n",
       "      <td>993</td>\n",
       "      <td>Rocky-Beach.com</td>\n",
       "    </tr>\n",
       "    <tr>\n",
       "      <th>236</th>\n",
       "      <td>Haus der Angst</td>\n",
       "      <td>3.9355</td>\n",
       "      <td>230.0</td>\n",
       "      <td>93.0</td>\n",
       "      <td>994</td>\n",
       "      <td>Rocky-Beach.com</td>\n",
       "    </tr>\n",
       "    <tr>\n",
       "      <th>237</th>\n",
       "      <td>Die Geisterlampe</td>\n",
       "      <td>3.1053</td>\n",
       "      <td>193.0</td>\n",
       "      <td>95.0</td>\n",
       "      <td>995</td>\n",
       "      <td>Rocky-Beach.com</td>\n",
       "    </tr>\n",
       "    <tr>\n",
       "      <th>238</th>\n",
       "      <td>... und der dreiTag</td>\n",
       "      <td>2.0000</td>\n",
       "      <td>36.0</td>\n",
       "      <td>100.0</td>\n",
       "      <td>996</td>\n",
       "      <td>Rocky-Beach.com</td>\n",
       "    </tr>\n",
       "  </tbody>\n",
       "</table>\n",
       "<p>239 rows × 6 columns</p>\n",
       "</div>"
      ],
      "text/plain": [
       "                   Episode  Bewertung.1   Rang  Ranking   ID           Source\n",
       "0       Der Super-Papagei        1.6118    4.0    760.0  001  Rocky-Beach.com\n",
       "1          Der Phantomsee        1.8155   20.0    683.0  002  Rocky-Beach.com\n",
       "2        Der Karpatenhund        1.6604    8.0    695.0  003  Rocky-Beach.com\n",
       "3      Die schwarze Katze        2.4022  103.0    649.0  004  Rocky-Beach.com\n",
       "4    Der Fluch des Rubins        1.8141   19.0    651.0  005  Rocky-Beach.com\n",
       "..                     ...          ...    ...      ...  ...              ...\n",
       "234    Unter Hochspannung        2.8947  167.0     95.0  992  Rocky-Beach.com\n",
       "235    Gefangene Gedanken        2.7551  154.0     98.0  993  Rocky-Beach.com\n",
       "236        Haus der Angst        3.9355  230.0     93.0  994  Rocky-Beach.com\n",
       "237      Die Geisterlampe        3.1053  193.0     95.0  995  Rocky-Beach.com\n",
       "238   ... und der dreiTag        2.0000   36.0    100.0  996  Rocky-Beach.com\n",
       "\n",
       "[239 rows x 6 columns]"
      ]
     },
     "execution_count": 13,
     "metadata": {},
     "output_type": "execute_result"
    }
   ],
   "source": [
    "#https://www.rocky-beach.com/php/project/f_ausgabe.html   \n",
    "rating1 = pd.read_html(\"https://www.rocky-beach.com/php/project/f_ausgabe.html\", header=[0])[3] \n",
    "rating1 = rating1.dropna(how='all', axis=1).rename(columns={\"Folge\": \"Episode\",\"Unnamed: 4\": \"Rating\", \"Stimmen\":\"Ranking\", \"Unnamed: 7\":\"Votes\"})\n",
    "rating1 = rating1.dropna(how='all')\n",
    "rating1[\"ID\"] = [\"%03d\" % number for number in \n",
    "                 (rating1[\"Episode\"].apply(lambda x: re.search(\" \\((.*?)\\)\", x).group(1))).astype(float)]\n",
    "rating1[\"Episode\"] = rating1[\"Episode\"].apply(lambda x: re.search(\"(.*?)\\(\", x).group(1))\n",
    "rating1[\"Source\"] = \"Rocky-Beach.com\"\n",
    "rating1"
   ]
  },
  {
   "cell_type": "code",
   "execution_count": 17,
   "metadata": {},
   "outputs": [],
   "source": [
    "#save output\n",
    "rating1.columns = rating1.columns.str.lower()\n",
    "rating1.to_csv(\".\\\\data\\\\scraped\\\\ratings.csv\", encoding='utf8', index=False)"
   ]
  }
 ],
 "metadata": {
  "kernelspec": {
   "display_name": "py3_dreif",
   "language": "python",
   "name": "py3_dreif"
  },
  "language_info": {
   "codemirror_mode": {
    "name": "ipython",
    "version": 3
   },
   "file_extension": ".py",
   "mimetype": "text/x-python",
   "name": "python",
   "nbconvert_exporter": "python",
   "pygments_lexer": "ipython3",
   "version": "3.7.5"
  },
  "toc": {
   "base_numbering": 1,
   "nav_menu": {},
   "number_sections": true,
   "sideBar": true,
   "skip_h1_title": false,
   "title_cell": "Table of Contents",
   "title_sidebar": "Contents",
   "toc_cell": false,
   "toc_position": {
    "height": "calc(100% - 180px)",
    "left": "10px",
    "top": "150px",
    "width": "303.4px"
   },
   "toc_section_display": true,
   "toc_window_display": true
  }
 },
 "nbformat": 4,
 "nbformat_minor": 2
}
