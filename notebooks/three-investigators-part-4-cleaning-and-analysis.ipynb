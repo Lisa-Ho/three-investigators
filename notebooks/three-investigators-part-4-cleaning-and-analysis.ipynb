{
 "cells": [
  {
   "cell_type": "markdown",
   "metadata": {},
   "source": [
    "# Three investigators - part 4\n",
    "\n",
    "A project for scraping and analysing data from a fan site on the audio book called '[The three investigators](https://en.wikipedia.org/wiki/Three_Investigators#Germany)'\n",
    "\n",
    "Part 4: Data cleaning and analysis\n",
    "\n",
    "- data cleaning and preparing for analysis\n",
    "- explorative analysis of data\n",
    "- saving output files for data visualisations in datawrapper"
   ]
  },
  {
   "cell_type": "markdown",
   "metadata": {},
   "source": [
    "# Setup"
   ]
  },
  {
   "cell_type": "code",
   "execution_count": 1,
   "metadata": {},
   "outputs": [
    {
     "name": "stdout",
     "output_type": "stream",
     "text": [
      "3.7.5\n"
     ]
    }
   ],
   "source": [
    "#python version used for this project\n",
    "from platform import python_version\n",
    "print(python_version())"
   ]
  },
  {
   "cell_type": "code",
   "execution_count": 2,
   "metadata": {},
   "outputs": [],
   "source": [
    "# import modules [as specified in requirements.txt]\n",
    "import pandas as pd\n",
    "import numpy as np\n",
    "import re\n",
    "import requests\n",
    "from datetime import date\n",
    "import matplotlib.pyplot as plt\n",
    "\n",
    "# for file directories\n",
    "import os\n",
    "\n",
    "%matplotlib inline"
   ]
  },
  {
   "cell_type": "code",
   "execution_count": 3,
   "metadata": {},
   "outputs": [],
   "source": [
    "#change directory to root folder\n",
    "os.chdir(\"..\")"
   ]
  },
  {
   "cell_type": "markdown",
   "metadata": {},
   "source": [
    "# Load data"
   ]
  },
  {
   "cell_type": "code",
   "execution_count": 4,
   "metadata": {},
   "outputs": [],
   "source": [
    "#load scraped datafiles\n",
    "meta = pd.read_csv(\".\\\\data\\\\scraped\\\\meta.csv\")\n",
    "content = pd.read_csv(\".\\\\data\\\\scraped\\\\content.csv\")\n",
    "rating = pd.read_csv(\".\\\\data\\\\scraped\\\\ratings.csv\")\n",
    "\n",
    "#load cleaned actors\n",
    "actors = pd.read_csv(\".\\\\data\\\\processed\\\\actors_cleaned_2020-11-23.csv\")\n",
    "\n",
    "#load title analysis\n",
    "title_cat = pd.read_csv(\".\\\\data\\\\processed\\\\title_categories_2020-11-23.csv\")\n",
    "\n",
    "#load actor gender prediction\n",
    "gender = pd.read_csv(\".\\\\data\\\\processed\\\\actor_gender_prediction_2020-11-23.csv\")"
   ]
  },
  {
   "cell_type": "code",
   "execution_count": 5,
   "metadata": {},
   "outputs": [
    {
     "name": "stdout",
     "output_type": "stream",
     "text": [
      "meta: (206, 33) actors: (2873, 8) content: (207, 2) rating: (239, 6)\n"
     ]
    }
   ],
   "source": [
    "print(\"meta:\", meta.shape, \"actors:\" , actors.shape, \"content:\", content.shape, \"rating:\", rating.shape)"
   ]
  },
  {
   "cell_type": "markdown",
   "metadata": {},
   "source": [
    "# Data cleaning and prep"
   ]
  },
  {
   "cell_type": "markdown",
   "metadata": {},
   "source": [
    "## Actors"
   ]
  },
  {
   "cell_type": "markdown",
   "metadata": {},
   "source": [
    "### Remove episode 29 and duplicates"
   ]
  },
  {
   "cell_type": "code",
   "execution_count": 6,
   "metadata": {},
   "outputs": [],
   "source": [
    "## remove 29 from actors table as it is music only\n",
    "actors = actors.loc[actors[\"id\"] != 29]\n",
    "\n",
    "### Remove duplicates from actors table\n",
    "actors = actors.drop_duplicates()"
   ]
  },
  {
   "cell_type": "markdown",
   "metadata": {},
   "source": [
    "### Rename roles"
   ]
  },
  {
   "cell_type": "code",
   "execution_count": 7,
   "metadata": {},
   "outputs": [
    {
     "data": {
      "text/html": [
       "<div>\n",
       "<style scoped>\n",
       "    .dataframe tbody tr th:only-of-type {\n",
       "        vertical-align: middle;\n",
       "    }\n",
       "\n",
       "    .dataframe tbody tr th {\n",
       "        vertical-align: top;\n",
       "    }\n",
       "\n",
       "    .dataframe thead th {\n",
       "        text-align: right;\n",
       "    }\n",
       "</style>\n",
       "<table border=\"1\" class=\"dataframe\">\n",
       "  <thead>\n",
       "    <tr style=\"text-align: right;\">\n",
       "      <th></th>\n",
       "      <th>role</th>\n",
       "      <th>actor</th>\n",
       "      <th>id</th>\n",
       "      <th>actor_clean</th>\n",
       "      <th>title</th>\n",
       "      <th>firstname</th>\n",
       "      <th>surename</th>\n",
       "      <th>no_names</th>\n",
       "      <th>main_actor</th>\n",
       "      <th>narrator</th>\n",
       "    </tr>\n",
       "  </thead>\n",
       "  <tbody>\n",
       "    <tr>\n",
       "      <th>0</th>\n",
       "      <td>Hitchcock</td>\n",
       "      <td>Peter Pasetti</td>\n",
       "      <td>1</td>\n",
       "      <td>Peter Pasetti</td>\n",
       "      <td>0</td>\n",
       "      <td>Peter</td>\n",
       "      <td>Pasetti</td>\n",
       "      <td>2</td>\n",
       "      <td>0</td>\n",
       "      <td>1</td>\n",
       "    </tr>\n",
       "    <tr>\n",
       "      <th>1</th>\n",
       "      <td>Justus Jonas</td>\n",
       "      <td>Oliver Rohrbeck</td>\n",
       "      <td>1</td>\n",
       "      <td>Oliver Rohrbeck</td>\n",
       "      <td>0</td>\n",
       "      <td>Oliver</td>\n",
       "      <td>Rohrbeck</td>\n",
       "      <td>2</td>\n",
       "      <td>1</td>\n",
       "      <td>0</td>\n",
       "    </tr>\n",
       "    <tr>\n",
       "      <th>2</th>\n",
       "      <td>Peter Shaw</td>\n",
       "      <td>Jens Wawrczeck</td>\n",
       "      <td>1</td>\n",
       "      <td>Jens Wawrczeck</td>\n",
       "      <td>0</td>\n",
       "      <td>Jens</td>\n",
       "      <td>Wawrczeck</td>\n",
       "      <td>2</td>\n",
       "      <td>1</td>\n",
       "      <td>0</td>\n",
       "    </tr>\n",
       "    <tr>\n",
       "      <th>3</th>\n",
       "      <td>Bob Andrews</td>\n",
       "      <td>Andreas Fröhlich</td>\n",
       "      <td>1</td>\n",
       "      <td>Andreas Fröhlich</td>\n",
       "      <td>0</td>\n",
       "      <td>Andreas</td>\n",
       "      <td>Fröhlich</td>\n",
       "      <td>2</td>\n",
       "      <td>1</td>\n",
       "      <td>0</td>\n",
       "    </tr>\n",
       "    <tr>\n",
       "      <th>4</th>\n",
       "      <td>Mr. Fentriss, Schriftsteller</td>\n",
       "      <td>Richard Lauffen</td>\n",
       "      <td>1</td>\n",
       "      <td>Richard Lauffen</td>\n",
       "      <td>0</td>\n",
       "      <td>Richard</td>\n",
       "      <td>Lauffen</td>\n",
       "      <td>2</td>\n",
       "      <td>0</td>\n",
       "      <td>0</td>\n",
       "    </tr>\n",
       "  </tbody>\n",
       "</table>\n",
       "</div>"
      ],
      "text/plain": [
       "                           role             actor  id       actor_clean  \\\n",
       "0                     Hitchcock     Peter Pasetti   1     Peter Pasetti   \n",
       "1                  Justus Jonas   Oliver Rohrbeck   1   Oliver Rohrbeck   \n",
       "2                    Peter Shaw    Jens Wawrczeck   1    Jens Wawrczeck   \n",
       "3                   Bob Andrews  Andreas Fröhlich   1  Andreas Fröhlich   \n",
       "4  Mr. Fentriss, Schriftsteller   Richard Lauffen   1   Richard Lauffen   \n",
       "\n",
       "   title firstname   surename  no_names  main_actor  narrator  \n",
       "0      0     Peter    Pasetti         2           0         1  \n",
       "1      0    Oliver   Rohrbeck         2           1         0  \n",
       "2      0      Jens  Wawrczeck         2           1         0  \n",
       "3      0   Andreas   Fröhlich         2           1         0  \n",
       "4      0   Richard    Lauffen         2           0         0  "
      ]
     },
     "execution_count": 7,
     "metadata": {},
     "output_type": "execute_result"
    }
   ],
   "source": [
    "#replace values\n",
    "actors[\"role\"] = actors[\"role\"].str.replace(\"Mrs \", \"Mrs. \").str.replace(\"Mr \", \"Mr. \")\n",
    "actors.loc[actors[\"role\"].str.contains(\"Justus Jonas\"), \"role\"] = 'Justus Jonas'\n",
    "actors.loc[actors[\"role\"].str.contains(\"ERZÄHLER\"), \"role\"] = 'Erzähler'\n",
    "actors.loc[actors[\"role\"].str.contains(\"Peter Shaw\"), \"role\"] = 'Peter Shaw'\n",
    "actors.loc[actors[\"role\"].str.contains(\"Bob Andrews\"), \"role\"] = 'Bob Andrews'\n",
    "actors.loc[actors[\"role\"].str.contains(\"Hitchcock\"), \"role\"] = 'Hitchcock'\n",
    "actors.loc[actors[\"role\"].str.contains(\"Mathilda\"), \"role\"] = 'Tante Mathilda'\n",
    "actors.loc[actors[\"role\"].str.contains(\"Titus\"), \"role\"] = 'Onkel Titus'\n",
    "actors.loc[actors[\"role\"].str.contains(\"Reynolds\"), \"role\"] = 'Kommissar Reynolds'\n",
    "actors.loc[actors[\"role\"].str.contains(\"Skinny\"), \"role\"] = 'Skinny Norris'\n",
    "actors.loc[actors[\"role\"].str.contains(\"Godween\"), \"role\"] = 'Goodween'\n",
    "#actors.loc[actors[\"role\"].str.contains(\"Mr Shaw\"), \"role\"] = 'Mr. Shaw'\n",
    "actors.loc[actors[\"role\"].str.contains(\"Herr Andrews\"), \"role\"] = 'Mr. Andrews'\n",
    "actors.loc[actors[\"role\"].str.contains(\"Morton\"), \"role\"] = 'Morton'\n",
    "actors.loc[actors[\"role\"].str.contains(\"Inspektor Cottahol\"), \"role\"] = 'Inspektor Cotta'\n",
    "actors.loc[actors[\"role\"].str.contains(\"Cotta, Polizeiinspektor\"), \"role\"] = 'Inspektor Cotta'\n",
    "actors.loc[actors[\"role\"].str.contains(\"Hugenay\"), \"role\"] = 'Hugenay'\n",
    "actors.loc[actors[\"role\"].str.contains(\"Jelena\"), \"role\"] = 'Jelena'\n",
    "\n",
    "#create filter for main actor\n",
    "actors[\"main_actor\"] = 0\n",
    "actors.loc[(actors[\"role\"]=='Justus Jonas') | (actors[\"role\"]=='Peter Shaw') | (actors[\"role\"]=='Bob Andrews'), \"main_actor\"] = 1\n",
    "\n",
    "#create filter for narrator\n",
    "actors[\"narrator\"] = 0\n",
    "actors.loc[(actors[\"role\"]=='Hitchcock') | (actors[\"role\"]==u'Erzähler'), \"narrator\"] = 1\n",
    "\n",
    "actors.head()"
   ]
  },
  {
   "cell_type": "markdown",
   "metadata": {},
   "source": [
    "### add gender predictions"
   ]
  },
  {
   "cell_type": "code",
   "execution_count": 8,
   "metadata": {},
   "outputs": [
    {
     "data": {
      "text/html": [
       "<div>\n",
       "<style scoped>\n",
       "    .dataframe tbody tr th:only-of-type {\n",
       "        vertical-align: middle;\n",
       "    }\n",
       "\n",
       "    .dataframe tbody tr th {\n",
       "        vertical-align: top;\n",
       "    }\n",
       "\n",
       "    .dataframe thead th {\n",
       "        text-align: right;\n",
       "    }\n",
       "</style>\n",
       "<table border=\"1\" class=\"dataframe\">\n",
       "  <thead>\n",
       "    <tr style=\"text-align: right;\">\n",
       "      <th></th>\n",
       "      <th>role</th>\n",
       "      <th>actor</th>\n",
       "      <th>id</th>\n",
       "      <th>actor_clean</th>\n",
       "      <th>title</th>\n",
       "      <th>firstname</th>\n",
       "      <th>surename</th>\n",
       "      <th>no_names</th>\n",
       "      <th>main_actor</th>\n",
       "      <th>narrator</th>\n",
       "      <th>gender</th>\n",
       "      <th>gender_probability</th>\n",
       "      <th>gender_count</th>\n",
       "    </tr>\n",
       "  </thead>\n",
       "  <tbody>\n",
       "    <tr>\n",
       "      <th>0</th>\n",
       "      <td>Hitchcock</td>\n",
       "      <td>Peter Pasetti</td>\n",
       "      <td>1</td>\n",
       "      <td>Peter Pasetti</td>\n",
       "      <td>0</td>\n",
       "      <td>Peter</td>\n",
       "      <td>Pasetti</td>\n",
       "      <td>2</td>\n",
       "      <td>0</td>\n",
       "      <td>1</td>\n",
       "      <td>male</td>\n",
       "      <td>0.99</td>\n",
       "      <td>165452</td>\n",
       "    </tr>\n",
       "    <tr>\n",
       "      <th>1</th>\n",
       "      <td>Justus Jonas</td>\n",
       "      <td>Oliver Rohrbeck</td>\n",
       "      <td>1</td>\n",
       "      <td>Oliver Rohrbeck</td>\n",
       "      <td>0</td>\n",
       "      <td>Oliver</td>\n",
       "      <td>Rohrbeck</td>\n",
       "      <td>2</td>\n",
       "      <td>1</td>\n",
       "      <td>0</td>\n",
       "      <td>male</td>\n",
       "      <td>0.99</td>\n",
       "      <td>32776</td>\n",
       "    </tr>\n",
       "    <tr>\n",
       "      <th>2</th>\n",
       "      <td>Peter Shaw</td>\n",
       "      <td>Jens Wawrczeck</td>\n",
       "      <td>1</td>\n",
       "      <td>Jens Wawrczeck</td>\n",
       "      <td>0</td>\n",
       "      <td>Jens</td>\n",
       "      <td>Wawrczeck</td>\n",
       "      <td>2</td>\n",
       "      <td>1</td>\n",
       "      <td>0</td>\n",
       "      <td>male</td>\n",
       "      <td>0.99</td>\n",
       "      <td>23807</td>\n",
       "    </tr>\n",
       "    <tr>\n",
       "      <th>3</th>\n",
       "      <td>Bob Andrews</td>\n",
       "      <td>Andreas Fröhlich</td>\n",
       "      <td>1</td>\n",
       "      <td>Andreas Fröhlich</td>\n",
       "      <td>0</td>\n",
       "      <td>Andreas</td>\n",
       "      <td>Fröhlich</td>\n",
       "      <td>2</td>\n",
       "      <td>1</td>\n",
       "      <td>0</td>\n",
       "      <td>male</td>\n",
       "      <td>0.99</td>\n",
       "      <td>71365</td>\n",
       "    </tr>\n",
       "    <tr>\n",
       "      <th>4</th>\n",
       "      <td>Mr. Fentriss, Schriftsteller</td>\n",
       "      <td>Richard Lauffen</td>\n",
       "      <td>1</td>\n",
       "      <td>Richard Lauffen</td>\n",
       "      <td>0</td>\n",
       "      <td>Richard</td>\n",
       "      <td>Lauffen</td>\n",
       "      <td>2</td>\n",
       "      <td>0</td>\n",
       "      <td>0</td>\n",
       "      <td>male</td>\n",
       "      <td>0.99</td>\n",
       "      <td>101928</td>\n",
       "    </tr>\n",
       "  </tbody>\n",
       "</table>\n",
       "</div>"
      ],
      "text/plain": [
       "                           role             actor  id       actor_clean  \\\n",
       "0                     Hitchcock     Peter Pasetti   1     Peter Pasetti   \n",
       "1                  Justus Jonas   Oliver Rohrbeck   1   Oliver Rohrbeck   \n",
       "2                    Peter Shaw    Jens Wawrczeck   1    Jens Wawrczeck   \n",
       "3                   Bob Andrews  Andreas Fröhlich   1  Andreas Fröhlich   \n",
       "4  Mr. Fentriss, Schriftsteller   Richard Lauffen   1   Richard Lauffen   \n",
       "\n",
       "   title firstname   surename  no_names  main_actor  narrator gender  \\\n",
       "0      0     Peter    Pasetti         2           0         1   male   \n",
       "1      0    Oliver   Rohrbeck         2           1         0   male   \n",
       "2      0      Jens  Wawrczeck         2           1         0   male   \n",
       "3      0   Andreas   Fröhlich         2           1         0   male   \n",
       "4      0   Richard    Lauffen         2           0         0   male   \n",
       "\n",
       "   gender_probability  gender_count  \n",
       "0                0.99        165452  \n",
       "1                0.99         32776  \n",
       "2                0.99         23807  \n",
       "3                0.99         71365  \n",
       "4                0.99        101928  "
      ]
     },
     "execution_count": 8,
     "metadata": {},
     "output_type": "execute_result"
    }
   ],
   "source": [
    "# join gender predictions to actors table\n",
    "actors = pd.merge(actors, gender, left_on='firstname', right_on = \"name\", how=\"left\")\n",
    "actors = actors.drop(\"name\", axis=1)\n",
    "actors.head()"
   ]
  },
  {
   "cell_type": "code",
   "execution_count": 9,
   "metadata": {},
   "outputs": [
    {
     "data": {
      "text/plain": [
       "array(['Heikedine', 'Reinhilt', 'H.', 'Schiffmeister', '...', 'Rosakutty',\n",
       "       'Gustav-Adolph', 'Rhesi', 'é', 'Jörgpeter'], dtype=object)"
      ]
     },
     "execution_count": 9,
     "metadata": {},
     "output_type": "execute_result"
    }
   ],
   "source": [
    "# get list of names that have not been classified with a gender\n",
    "actors.loc[actors[\"gender\"].isna()][\"firstname\"].unique()"
   ]
  },
  {
   "cell_type": "code",
   "execution_count": 10,
   "metadata": {},
   "outputs": [],
   "source": [
    "## classify gender of missing ones (if known)\n",
    "actors.loc[actors[\"firstname\"] == 'Heikedine', \"gender\"] = \"female\"\n",
    "actors.loc[actors[\"firstname\"] == 'Reinhilt', \"gender\"] = \"female\"\n",
    "actors.loc[actors[\"firstname\"] == 'Gustav-Adolph', \"gender\"] = \"male\"\n",
    "actors.loc[actors[\"firstname\"] == 'Jörgpeter', \"gender\"] = \"male\"\n",
    "actors.loc[actors[\"firstname\"] == 'Rhesi', \"gender\"] = \"female\"\n",
    "actors.loc[actors[\"firstname\"] == 'é', \"gender\"] = \"male\""
   ]
  },
  {
   "cell_type": "markdown",
   "metadata": {},
   "source": [
    "## Meta data"
   ]
  },
  {
   "cell_type": "markdown",
   "metadata": {},
   "source": [
    "### Derive additional variables"
   ]
  },
  {
   "cell_type": "code",
   "execution_count": 11,
   "metadata": {},
   "outputs": [],
   "source": [
    "#add book, cover, music, director, editor and sound columns\n",
    "meta = meta.reindex(meta.columns.tolist() + [\"book\", 'cover', \"music\", \"director\", \"editor\", \"sounds\"], axis=1) \n",
    "def combine_col(df, new_col, columns):  #define function to combine columns\n",
    "    df[new_col] = df[columns].apply(lambda x: \"-\".join(x.dropna().str.encode(\"utf8\").astype(str)), axis=1)\n",
    "combine_col(meta, [\"book\"], [\"buch\", \"buch und effekte\", \"buch und redaktion\", \n",
    "                             u\"hörspielbearbeitung\", \"effekte und redaktion\"] ) \n",
    "combine_col(meta, [\"cover\"], [\"cover-illustration\", \"coverillustration\"]) \n",
    "combine_col(meta, [\"music\"], [\"musik\", \"musik und effekte\"]) \n",
    "combine_col(meta, [\"director\"], [\"regie\", \"produktion und regie\", \"regie und produktion\"]) \n",
    "combine_col(meta, [\"editor\"], [\"redaktion\", u\"redaktion und geräusche\"]) \n",
    "combine_col(meta, [\"sounds\"],[ u'geräusche', u'ger�usche']) \n",
    "\n",
    "#convert date column\n",
    "meta[\"date\"] = pd.to_datetime(meta[\"erscheinungsdatum\"], format='%d.%m.%Y')\n",
    "\n",
    "## Create year and month column\n",
    "meta[\"year\"] = pd.DatetimeIndex(meta[\"date\"]).year\n",
    "meta[\"month\"] = pd.DatetimeIndex(meta[\"date\"]).month\n",
    "\n",
    "# Extract minutes and return mean and total minutes by episode (mean = total for episodes with only 1 part)\n",
    "meta[\"minutes\"] = meta[\"laufzeit\"].apply(lambda x: re.search(\"ca.(.*?)in\", x).group(1))\n",
    "meta[\"minutes\"] = meta[\"minutes\"].str.replace(\"M\", \"\").str.replace(\"m\", \"\").str.replace(\" \", \"\").str.split(\"+\")\n",
    "meta[\"minutes\"] = [[int(x) for x in sublist] for sublist in meta[\"minutes\"]]\n",
    "meta[\"minutes_mean\"] = meta[\"minutes\"].apply(lambda x: sum(x)/len(x))\n",
    "meta[\"minutes_total\"] = meta[\"minutes\"].apply(lambda x: sum(x))\n",
    "\n",
    "#calculate how many parts the episode has by using the sets of minutes given\n",
    "meta[\"parts\"] = meta[\"minutes\"].apply(lambda x: len(x)) "
   ]
  },
  {
   "cell_type": "code",
   "execution_count": 12,
   "metadata": {},
   "outputs": [],
   "source": [
    "### add episode 29 details to meta table (https://www.rocky-beach.com/hoerspiel/folgen/029.html)\n",
    "meta = meta.append({'id' : 29, 'music': 'B. Brac/B. George', 'date':'1982-03-21', \n",
    "                     'minutes': '34', 'minutes_mean':34, 'minutes_total':34, 'parts':1} , ignore_index=True)"
   ]
  },
  {
   "cell_type": "markdown",
   "metadata": {},
   "source": [
    "### Add number of actors, main and side"
   ]
  },
  {
   "cell_type": "code",
   "execution_count": 13,
   "metadata": {},
   "outputs": [],
   "source": [
    "actors_agg = pd.DataFrame(actors.groupby(\"id\")[[\"actor\", \"main_actor\", \"narrator\"]].agg(\n",
    "    {\"actor\": \"count\", \"main_actor\":\"sum\", \"narrator\": \"max\"})).reset_index()\n",
    "actors_agg = actors_agg.rename(columns={\"actor\":\"no_actors_total\", \"main_actor\":\"no_main_actors\"})\n",
    "actors_agg[\"no_side_actors\"] = actors_agg[\"no_actors_total\"] - actors_agg[\"no_main_actors\"] - actors_agg[\"narrator\"] #also remove narrator\n",
    "\n",
    "#join with meta\n",
    "meta = pd.merge(meta, actors_agg, left_on=\"id\" ,right_on=\"id\", how='left')"
   ]
  },
  {
   "cell_type": "markdown",
   "metadata": {},
   "source": [
    "### Gender balance all actors"
   ]
  },
  {
   "cell_type": "code",
   "execution_count": 15,
   "metadata": {},
   "outputs": [],
   "source": [
    "actors_gender = actors.groupby([\"id\", \"gender\"])[\"role\"].count()\n",
    "actors_gender = pd.DataFrame(actors_gender).unstack().fillna(0).reset_index(\"id\")\n",
    "actors_gender.columns = actors_gender.columns.droplevel(level=0)\n",
    "actors_gender = actors_gender.rename(columns={\"\": \"id\", \"female\": \"no_female_actors\", \"male\": \"no_male_actors\"})\n",
    "\n",
    "#join with meta\n",
    "meta = pd.merge(meta, actors_gender, left_on=\"id\" ,right_on=\"id\", how='left')\n",
    "\n",
    "#gender missing\n",
    "meta[\"no_actor_gender_missing\"] = meta[\"no_actors_total\"] - meta[[\"no_female_actors\", \"no_male_actors\"]].sum(axis=1)\n",
    "\n",
    "#gender balance for all actors\n",
    "meta[\"female_actors_ratio\"] = meta[\"no_female_actors\"] / meta[[\"no_female_actors\", \"no_male_actors\"]].sum(axis=1) *100"
   ]
  },
  {
   "cell_type": "markdown",
   "metadata": {},
   "source": [
    "### Gender balance side actors"
   ]
  },
  {
   "cell_type": "code",
   "execution_count": 17,
   "metadata": {},
   "outputs": [],
   "source": [
    "filter_side_actors = (actors[\"narrator\"] == 0) & (actors[\"main_actor\"] == 0)\n",
    "side_actors_gender = actors.loc[filter_side_actors].groupby([\"id\", \"gender\"])[\"role\"].count()\n",
    "side_actors_gender = pd.DataFrame(side_actors_gender).unstack().fillna(0).reset_index(\"id\")\n",
    "side_actors_gender.columns = side_actors_gender.columns.droplevel(level=0)\n",
    "side_actors_gender = side_actors_gender.rename(columns={\"\": \"id\", \"female\": \"no_female_side_actors\", \"male\": \"no_male_side_actors\"})\n",
    "\n",
    "#join with meta\n",
    "meta = pd.merge(meta, side_actors_gender, left_on=\"id\" ,right_on=\"id\", how='left')\n",
    "\n",
    "#gender balance for side actors\n",
    "meta[\"female_side_actors_ratio\"] = meta[\"no_female_side_actors\"] / meta[[\"no_female_side_actors\", \"no_male_side_actors\"]].sum(axis=1) *100"
   ]
  },
  {
   "cell_type": "markdown",
   "metadata": {},
   "source": [
    "### Narrator"
   ]
  },
  {
   "cell_type": "code",
   "execution_count": 19,
   "metadata": {},
   "outputs": [],
   "source": [
    "narrator = actors.loc[actors[\"narrator\"]==1][[\"id\",\"actor_clean\"]]\n",
    "narrator = narrator.rename(columns={\"actor_clean\": \"narrator_name\"})\n",
    "\n",
    "#join with meta\n",
    "meta = pd.merge(meta, narrator, left_on=\"id\" ,right_on=\"id\", how='left')"
   ]
  },
  {
   "cell_type": "markdown",
   "metadata": {},
   "source": [
    "### Author"
   ]
  },
  {
   "cell_type": "code",
   "execution_count": 20,
   "metadata": {},
   "outputs": [
    {
     "data": {
      "text/plain": [
       "André Marx                           33\n",
       "Marco Sonnleitner                    32\n",
       "Ben Nevis                            22\n",
       "Other                                18\n",
       "Brigitte Johanna Henkel-Waidhofer    16\n",
       "M.V. Carey                           15\n",
       "William Arden                        14\n",
       "Kari Erlhoff                         13\n",
       "André Minninger                      12\n",
       "Robert Arthur                        10\n",
       "Astrid Vollenbruch                    7\n",
       "Christoph Dittert                     7\n",
       "Hendrik Buchna                        6\n",
       "Name: author_grouped, dtype: int64"
      ]
     },
     "execution_count": 20,
     "metadata": {},
     "output_type": "execute_result"
    }
   ],
   "source": [
    "#replace 'Erzählt von Kari Erlhoff' with 'Kari Erlhoff'\n",
    "meta[\"erzählt von\"] = meta[\"erzählt von\"].str.replace('Erzählt von Kari Erlhoff', 'Kari Erlhoff')\n",
    "\n",
    "# group authors\n",
    "meta[\"author_grouped\"] = meta[\"erzählt von\"]\n",
    "\n",
    "# group those authors with fewer than 5 episodes under 'other'\n",
    "other_storytellers = pd.DataFrame(meta[\"erzählt von\"].value_counts()).reset_index()\n",
    "other_storytellers = other_storytellers.loc[other_storytellers[\"erzählt von\"] < 5][\"index\"].tolist()\n",
    "meta.loc[meta[\"erzählt von\"].isin(other_storytellers), \"author_grouped\"] = \"Other\"\n",
    "\n",
    "#display values\n",
    "meta[\"author_grouped\"].value_counts()"
   ]
  },
  {
   "cell_type": "code",
   "execution_count": 21,
   "metadata": {},
   "outputs": [],
   "source": [
    "# create gender variable\n",
    "author_gender_map = {'Robert Arthur': \"male\", 'William Arden': \"male\", 'M.V. Carey':\"female\",\n",
    "                     'Nick West':\"male\", 'Marc Brandel':\"male\", 'Rose Estes':\"female\", \n",
    "                     'Megan Stine / H. William Stine': np.nan,\n",
    "                   'G.H. Stone':\"female\", 'William McCay' : \"male\", 'Peter Lerangis' : \"male\",\n",
    "                   'Brigitte Johanna Henkel-Waidhofer' : \"female\", 'André Marx' : \"male\",\n",
    "                    'André Minninger' : \"male\", 'Ben Nevis': \"male\", 'Katharina Fischer': \"female\",\n",
    "                   'Marco Sonnleitner' :\"male\", 'Astrid Vollenbruch': \"female\", 'Kari Erlhoff' : \"female\",\n",
    "                  'Hendrik Buchna': \"male\", 'Christoph Dittert':\"male\"}\n",
    "\n",
    "meta[\"author_gender\"] = meta[\"erzählt von\"].map(author_gender_map)"
   ]
  },
  {
   "cell_type": "markdown",
   "metadata": {},
   "source": [
    "### merge rating"
   ]
  },
  {
   "cell_type": "code",
   "execution_count": 22,
   "metadata": {},
   "outputs": [],
   "source": [
    "#rename columns in rating table\n",
    "rating = rating.rename(columns={\"bewertung.1\" : \"rating\", \"rang\": \"rating_rank\", \"ranking\": \"no_votes\"})\n",
    "\n",
    "#join with meta table\n",
    "meta = pd.merge(meta, rating, left_on=\"id\" ,right_on=\"id\", how='left')"
   ]
  },
  {
   "cell_type": "markdown",
   "metadata": {},
   "source": [
    "### title"
   ]
  },
  {
   "cell_type": "code",
   "execution_count": 23,
   "metadata": {},
   "outputs": [],
   "source": [
    "# merge title categories into meta data\n",
    "meta = meta.merge(title_cat, left_on=\"id\", right_on=\"id\", how='left' )"
   ]
  },
  {
   "cell_type": "code",
   "execution_count": 24,
   "metadata": {},
   "outputs": [],
   "source": [
    "# clean up title\n",
    "\n",
    "## make titles lower case\n",
    "meta[\"title\"] = meta[\"titel\"].str.lower()\n",
    "\n",
    "meta[\"title\"] = meta[\"title\"].str.replace(\"hörspiel\", \"\", regex=True).str.replace(\"[!\\\"#$%&()*+,./:;<=>?@[\\]^_`{|}~“”-]\", \"\", regex=True)"
   ]
  },
  {
   "cell_type": "markdown",
   "metadata": {},
   "source": [
    "### Create column for number of episode published in each year"
   ]
  },
  {
   "cell_type": "code",
   "execution_count": 25,
   "metadata": {},
   "outputs": [],
   "source": [
    "numbered = []\n",
    "\n",
    "for i in range(len(meta[\"year\"])): \n",
    "    if i == 0:\n",
    "        x = 1\n",
    "    elif meta[\"year\"][i] == meta[\"year\"][i-1]:\n",
    "        x +=1\n",
    "    else:\n",
    "        x = 1\n",
    "    numbered.append(x)\n",
    "    \n",
    "meta[\"no_per_year\"] = numbered"
   ]
  },
  {
   "cell_type": "markdown",
   "metadata": {},
   "source": [
    "### save output"
   ]
  },
  {
   "cell_type": "code",
   "execution_count": 26,
   "metadata": {},
   "outputs": [],
   "source": [
    "### order by id and reset index\n",
    "meta = meta.sort_values(\"id\").reset_index(drop=True)\n",
    "\n",
    "### save output\n",
    "meta.to_csv(\".\\\\data\\\\processed\\\\meta_for_analysis_\" + \"%s\" %(str(date.today())) + \".csv\", index=False) "
   ]
  },
  {
   "cell_type": "markdown",
   "metadata": {},
   "source": [
    "# Blog sections and exports for charts"
   ]
  },
  {
   "cell_type": "markdown",
   "metadata": {},
   "source": [
    "## Chronology"
   ]
  },
  {
   "cell_type": "code",
   "execution_count": 28,
   "metadata": {
    "code_folding": []
   },
   "outputs": [
    {
     "name": "stderr",
     "output_type": "stream",
     "text": [
      "C:\\Users\\lisa.hornung\\Anaconda2\\envs\\py3_dreif\\lib\\site-packages\\pandas\\core\\frame.py:3509: SettingWithCopyWarning: \n",
      "A value is trying to be set on a copy of a slice from a DataFrame.\n",
      "Try using .loc[row_indexer,col_indexer] = value instead\n",
      "\n",
      "See the caveats in the documentation: http://pandas.pydata.org/pandas-docs/stable/user_guide/indexing.html#returning-a-view-versus-a-copy\n",
      "  self[k1] = value[k2]\n"
     ]
    }
   ],
   "source": [
    "chrono = meta[[\"id\", \"year\", \"no_per_year\", \"minutes_mean\", \"parts\",\"title\", \"erzählt von\", \"rating\"]]\n",
    "chrono[[\"minutes_mean\"]] = chrono[[\"minutes_mean\"]].round(0)\n",
    "chrono[[\"rating\"]] = chrono[[\"rating\"]].round(1)\n",
    "chrono.to_csv(\".\\\\data\\\\charts\\\\chrono-datawrapper.csv\", index=False)"
   ]
  },
  {
   "cell_type": "markdown",
   "metadata": {},
   "source": [
    "## Roles"
   ]
  },
  {
   "cell_type": "code",
   "execution_count": 29,
   "metadata": {},
   "outputs": [
    {
     "name": "stderr",
     "output_type": "stream",
     "text": [
      "C:\\Users\\lisa.hornung\\Anaconda2\\envs\\py3_dreif\\lib\\site-packages\\ipykernel_launcher.py:13: SettingWithCopyWarning: \n",
      "A value is trying to be set on a copy of a slice from a DataFrame.\n",
      "Try using .loc[row_indexer,col_indexer] = value instead\n",
      "\n",
      "See the caveats in the documentation: http://pandas.pydata.org/pandas-docs/stable/user_guide/indexing.html#returning-a-view-versus-a-copy\n",
      "  del sys.path[0]\n"
     ]
    },
    {
     "data": {
      "text/html": [
       "<div>\n",
       "<style scoped>\n",
       "    .dataframe tbody tr th:only-of-type {\n",
       "        vertical-align: middle;\n",
       "    }\n",
       "\n",
       "    .dataframe tbody tr th {\n",
       "        vertical-align: top;\n",
       "    }\n",
       "\n",
       "    .dataframe thead th {\n",
       "        text-align: right;\n",
       "    }\n",
       "</style>\n",
       "<table border=\"1\" class=\"dataframe\">\n",
       "  <thead>\n",
       "    <tr style=\"text-align: right;\">\n",
       "      <th></th>\n",
       "      <th>role</th>\n",
       "      <th>id</th>\n",
       "      <th>role_id</th>\n",
       "    </tr>\n",
       "  </thead>\n",
       "  <tbody>\n",
       "    <tr>\n",
       "      <th>0</th>\n",
       "      <td>Hitchcock</td>\n",
       "      <td>1</td>\n",
       "      <td>20</td>\n",
       "    </tr>\n",
       "    <tr>\n",
       "      <th>1</th>\n",
       "      <td>Justus Jonas</td>\n",
       "      <td>1</td>\n",
       "      <td>23</td>\n",
       "    </tr>\n",
       "    <tr>\n",
       "      <th>2</th>\n",
       "      <td>Peter Shaw</td>\n",
       "      <td>1</td>\n",
       "      <td>22</td>\n",
       "    </tr>\n",
       "    <tr>\n",
       "      <th>3</th>\n",
       "      <td>Bob Andrews</td>\n",
       "      <td>1</td>\n",
       "      <td>21</td>\n",
       "    </tr>\n",
       "    <tr>\n",
       "      <th>10</th>\n",
       "      <td>Hugenay</td>\n",
       "      <td>1</td>\n",
       "      <td>2</td>\n",
       "    </tr>\n",
       "    <tr>\n",
       "      <th>...</th>\n",
       "      <td>...</td>\n",
       "      <td>...</td>\n",
       "      <td>...</td>\n",
       "    </tr>\n",
       "    <tr>\n",
       "      <th>2818</th>\n",
       "      <td>Inspektor Cotta</td>\n",
       "      <td>206</td>\n",
       "      <td>18</td>\n",
       "    </tr>\n",
       "    <tr>\n",
       "      <th>2822</th>\n",
       "      <td>Erzähler</td>\n",
       "      <td>207</td>\n",
       "      <td>19</td>\n",
       "    </tr>\n",
       "    <tr>\n",
       "      <th>2823</th>\n",
       "      <td>Justus Jonas</td>\n",
       "      <td>207</td>\n",
       "      <td>23</td>\n",
       "    </tr>\n",
       "    <tr>\n",
       "      <th>2824</th>\n",
       "      <td>Peter Shaw</td>\n",
       "      <td>207</td>\n",
       "      <td>22</td>\n",
       "    </tr>\n",
       "    <tr>\n",
       "      <th>2825</th>\n",
       "      <td>Bob Andrews</td>\n",
       "      <td>207</td>\n",
       "      <td>21</td>\n",
       "    </tr>\n",
       "  </tbody>\n",
       "</table>\n",
       "<p>1125 rows × 3 columns</p>\n",
       "</div>"
      ],
      "text/plain": [
       "                 role   id  role_id\n",
       "0           Hitchcock    1       20\n",
       "1        Justus Jonas    1       23\n",
       "2          Peter Shaw    1       22\n",
       "3         Bob Andrews    1       21\n",
       "10            Hugenay    1        2\n",
       "...               ...  ...      ...\n",
       "2818  Inspektor Cotta  206       18\n",
       "2822         Erzähler  207       19\n",
       "2823     Justus Jonas  207       23\n",
       "2824       Peter Shaw  207       22\n",
       "2825      Bob Andrews  207       21\n",
       "\n",
       "[1125 rows x 3 columns]"
      ]
     },
     "execution_count": 29,
     "metadata": {},
     "output_type": "execute_result"
    }
   ],
   "source": [
    "roles_filter = [\"Justus Jonas\", \"Peter Shaw\", \"Bob Andrews\",\"Hitchcock\", \"Erzähler\", \n",
    "             \"Inspektor Cotta\", \"Tante Mathilda\", \"Onkel Titus\", \"Morton\", \n",
    "             \"Kommissar Reynolds\", \"Goodween\", \"Mr. Andrews\",\"Skinny Norris\",\n",
    "             \"Kelly\",  \"Mrs. Shaw\",\"Patrick\", \"Mr. Shaw\", \"Mrs. Andrews\",  \"Lys\", \"Rubbish George\",\n",
    "               \"Patrick Kenneth\", \"Hugenay\", \"Jelena\"]\n",
    "\n",
    "roles_id = [len(roles_filter) - i for i in range(len(roles_filter))]\n",
    "\n",
    "#create dataframe that only holds the roles we are interested in\n",
    "roles = actors.loc[actors[\"role\"].isin(roles_filter)]\n",
    "\n",
    "#create column that includes role id\n",
    "roles[\"role_id\"] = roles[\"role\"].replace(to_replace=roles_filter,value=roles_id)\n",
    "\n",
    "# save as csv\n",
    "roles[[\"role\", \"id\", \"role_id\"]].to_csv(\".\\\\data\\\\charts\\\\roles-by-episode-with-role-id.csv\", index=False)\n",
    "\n",
    "roles[[\"role\", \"id\", \"role_id\"]]"
   ]
  },
  {
   "cell_type": "code",
   "execution_count": 30,
   "metadata": {},
   "outputs": [
    {
     "name": "stderr",
     "output_type": "stream",
     "text": [
      "C:\\Users\\lisa.hornung\\Anaconda2\\envs\\py3_dreif\\lib\\site-packages\\ipykernel_launcher.py:4: FutureWarning: The signature of `Series.to_csv` was aligned to that of `DataFrame.to_csv`, and argument 'header' will change its default value from False to True: please pass an explicit value to suppress this warning.\n",
      "  after removing the cwd from sys.path.\n"
     ]
    },
    {
     "data": {
      "text/plain": [
       "role\n",
       "Bob Andrews           206\n",
       "Justus Jonas          206\n",
       "Peter Shaw            206\n",
       "Erzähler              131\n",
       "Hitchcock              75\n",
       "Inspektor Cotta        67\n",
       "Tante Mathilda         55\n",
       "Onkel Titus            35\n",
       "Morton                 24\n",
       "Kommissar Reynolds     22\n",
       "Goodween               17\n",
       "Mr. Andrews            15\n",
       "Skinny Norris          12\n",
       "Kelly                   9\n",
       "Mrs. Shaw               6\n",
       "Patrick                 6\n",
       "Mrs. Andrews            5\n",
       "Mr. Shaw                5\n",
       "Lys                     5\n",
       "Jelena                  5\n",
       "Hugenay                 5\n",
       "Patrick Kenneth         4\n",
       "Rubbish George          4\n",
       "Name: id, dtype: int64"
      ]
     },
     "execution_count": 30,
     "metadata": {},
     "output_type": "execute_result"
    }
   ],
   "source": [
    "roles_agg = roles.groupby(\"role\")[\"id\"].count().sort_values(ascending = False)\n",
    "\n",
    "# save as csv\n",
    "roles_agg.to_csv(\".\\\\data\\\\charts\\\\roles-by-appearance.csv\")\n",
    "\n",
    "roles_agg"
   ]
  },
  {
   "cell_type": "markdown",
   "metadata": {},
   "source": [
    "# Explorative Analysis"
   ]
  },
  {
   "cell_type": "markdown",
   "metadata": {},
   "source": [
    "## Chronology"
   ]
  },
  {
   "cell_type": "code",
   "execution_count": 26,
   "metadata": {},
   "outputs": [
    {
     "data": {
      "text/html": [
       "<div>\n",
       "<style scoped>\n",
       "    .dataframe tbody tr th:only-of-type {\n",
       "        vertical-align: middle;\n",
       "    }\n",
       "\n",
       "    .dataframe tbody tr th {\n",
       "        vertical-align: top;\n",
       "    }\n",
       "\n",
       "    .dataframe thead th {\n",
       "        text-align: right;\n",
       "    }\n",
       "</style>\n",
       "<table border=\"1\" class=\"dataframe\">\n",
       "  <thead>\n",
       "    <tr style=\"text-align: right;\">\n",
       "      <th></th>\n",
       "      <th>year</th>\n",
       "      <th>parts_sum</th>\n",
       "      <th>minutes_mean</th>\n",
       "      <th>minutes_min</th>\n",
       "      <th>minutes_max</th>\n",
       "      <th>id_count</th>\n",
       "      <th>id_min</th>\n",
       "      <th>id_max</th>\n",
       "    </tr>\n",
       "  </thead>\n",
       "  <tbody>\n",
       "    <tr>\n",
       "      <th>0</th>\n",
       "      <td>1979</td>\n",
       "      <td>9</td>\n",
       "      <td>45.555556</td>\n",
       "      <td>43.0</td>\n",
       "      <td>50.0</td>\n",
       "      <td>9</td>\n",
       "      <td>1</td>\n",
       "      <td>9</td>\n",
       "    </tr>\n",
       "    <tr>\n",
       "      <th>1</th>\n",
       "      <td>1980</td>\n",
       "      <td>12</td>\n",
       "      <td>42.416667</td>\n",
       "      <td>38.0</td>\n",
       "      <td>49.0</td>\n",
       "      <td>12</td>\n",
       "      <td>10</td>\n",
       "      <td>21</td>\n",
       "    </tr>\n",
       "    <tr>\n",
       "      <th>2</th>\n",
       "      <td>1981</td>\n",
       "      <td>6</td>\n",
       "      <td>43.666667</td>\n",
       "      <td>41.0</td>\n",
       "      <td>49.0</td>\n",
       "      <td>6</td>\n",
       "      <td>22</td>\n",
       "      <td>27</td>\n",
       "    </tr>\n",
       "    <tr>\n",
       "      <th>3</th>\n",
       "      <td>1982</td>\n",
       "      <td>3</td>\n",
       "      <td>39.333333</td>\n",
       "      <td>34.0</td>\n",
       "      <td>44.0</td>\n",
       "      <td>3</td>\n",
       "      <td>28</td>\n",
       "      <td>30</td>\n",
       "    </tr>\n",
       "    <tr>\n",
       "      <th>4</th>\n",
       "      <td>1983</td>\n",
       "      <td>3</td>\n",
       "      <td>43.666667</td>\n",
       "      <td>40.0</td>\n",
       "      <td>49.0</td>\n",
       "      <td>3</td>\n",
       "      <td>31</td>\n",
       "      <td>33</td>\n",
       "    </tr>\n",
       "  </tbody>\n",
       "</table>\n",
       "</div>"
      ],
      "text/plain": [
       "   year  parts_sum  minutes_mean  minutes_min  minutes_max  id_count  id_min  \\\n",
       "0  1979          9     45.555556         43.0         50.0         9       1   \n",
       "1  1980         12     42.416667         38.0         49.0        12      10   \n",
       "2  1981          6     43.666667         41.0         49.0         6      22   \n",
       "3  1982          3     39.333333         34.0         44.0         3      28   \n",
       "4  1983          3     43.666667         40.0         49.0         3      31   \n",
       "\n",
       "   id_max  \n",
       "0       9  \n",
       "1      21  \n",
       "2      27  \n",
       "3      30  \n",
       "4      33  "
      ]
     },
     "execution_count": 26,
     "metadata": {},
     "output_type": "execute_result"
    }
   ],
   "source": [
    "years = meta.groupby(\"year\")[[\"parts\", \"minutes_mean\", \"id\"]].agg({\n",
    "    \"parts\": [\"sum\"], \"minutes_mean\" : [\"mean\", \"min\", \"max\"], \"id\": [\"count\",\"min\", \"max\"]})\n",
    "years.columns = [\"_\".join(x) for x in years.columns.ravel()]\n",
    "years = years.reset_index().rename(columns={\"minutes_mean_mean\": \"minutes_mean\",\n",
    "                              \"minutes_mean_min\": \"minutes_min\", \"minutes_mean_max\":\"minutes_max\"}) \n",
    "years.head()"
   ]
  },
  {
   "cell_type": "code",
   "execution_count": 27,
   "metadata": {},
   "outputs": [
    {
     "data": {
      "text/plain": [
       "<matplotlib.axes._subplots.AxesSubplot at 0x1c0fee309c8>"
      ]
     },
     "execution_count": 27,
     "metadata": {},
     "output_type": "execute_result"
    },
    {
     "data": {
      "image/png": "[encoded data removed]",
      "text/plain": [
       "<Figure size 432x288 with 1 Axes>"
      ]
     },
     "metadata": {
      "needs_background": "light"
     },
     "output_type": "display_data"
    }
   ],
   "source": [
    "#number of episodes over time\n",
    "meta.groupby(\"year\")[\"id\"].count().plot(kind='bar')"
   ]
  },
  {
   "cell_type": "code",
   "execution_count": 28,
   "metadata": {},
   "outputs": [
    {
     "data": {
      "text/plain": [
       "<matplotlib.axes._subplots.AxesSubplot at 0x1c0ff21f9c8>"
      ]
     },
     "execution_count": 28,
     "metadata": {},
     "output_type": "execute_result"
    },
    {
     "data": {
      "image/png": "[encoded data removed]",
      "text/plain": [
       "<Figure size 432x288 with 1 Axes>"
      ]
     },
     "metadata": {
      "needs_background": "light"
     },
     "output_type": "display_data"
    }
   ],
   "source": [
    "#number of episodes over time\n",
    "years.set_index(\"year\")[\"parts_sum\"].plot(kind='bar')"
   ]
  },
  {
   "cell_type": "markdown",
   "metadata": {},
   "source": [
    "### Length"
   ]
  },
  {
   "cell_type": "code",
   "execution_count": 29,
   "metadata": {},
   "outputs": [
    {
     "data": {
      "text/plain": [
       "<matplotlib.axes._subplots.AxesSubplot at 0x1c0ff527988>"
      ]
     },
     "execution_count": 29,
     "metadata": {},
     "output_type": "execute_result"
    },
    {
     "data": {
      "image/png": "[encoded data removed]",
      "text/plain": [
       "<Figure size 432x288 with 1 Axes>"
      ]
     },
     "metadata": {
      "needs_background": "light"
     },
     "output_type": "display_data"
    }
   ],
   "source": [
    "#Average length over time\n",
    "meta.groupby(\"year\")[\"minutes_mean\"].mean().plot(kind='bar')"
   ]
  },
  {
   "cell_type": "code",
   "execution_count": 30,
   "metadata": {},
   "outputs": [
    {
     "data": {
      "text/plain": [
       "<matplotlib.axes._subplots.AxesSubplot at 0x1c0ff58f408>"
      ]
     },
     "execution_count": 30,
     "metadata": {},
     "output_type": "execute_result"
    },
    {
     "data": {
      "image/png": "[encoded data removed]",
      "text/plain": [
       "<Figure size 432x288 with 1 Axes>"
      ]
     },
     "metadata": {
      "needs_background": "light"
     },
     "output_type": "display_data"
    }
   ],
   "source": [
    "#number of episodes over time\n",
    "years.set_index(\"year\")[\"id_max\"].plot(kind='barh')"
   ]
  },
  {
   "cell_type": "markdown",
   "metadata": {},
   "source": [
    "### dotplot"
   ]
  },
  {
   "cell_type": "code",
   "execution_count": 31,
   "metadata": {},
   "outputs": [
    {
     "data": {
      "text/plain": [
       "<matplotlib.collections.PathCollection at 0x1c0ff7b8948>"
      ]
     },
     "execution_count": 31,
     "metadata": {},
     "output_type": "execute_result"
    },
    {
     "data": {
      "image/png": "[encoded data removed]",
      "text/plain": [
       "<Figure size 432x288 with 1 Axes>"
      ]
     },
     "metadata": {
      "needs_background": "light"
     },
     "output_type": "display_data"
    }
   ],
   "source": [
    "x = meta[\"year\"]\n",
    "y = meta[\"no_per_year\"]\n",
    "z = meta[\"parts\"]\n",
    "\n",
    "plt.scatter(x, y)"
   ]
  },
  {
   "cell_type": "markdown",
   "metadata": {},
   "source": [
    "### Month\n",
    "\n",
    "October is the most popular release month but mainly because of the first two years when 15 episodes were released in October."
   ]
  },
  {
   "cell_type": "code",
   "execution_count": 32,
   "metadata": {},
   "outputs": [
    {
     "data": {
      "text/plain": [
       "<matplotlib.axes._subplots.AxesSubplot at 0x1c0ff7e1588>"
      ]
     },
     "execution_count": 32,
     "metadata": {},
     "output_type": "execute_result"
    },
    {
     "data": {
      "image/png": "[encoded data removed]",
      "text/plain": [
       "<Figure size 432x288 with 1 Axes>"
      ]
     },
     "metadata": {
      "needs_background": "light"
     },
     "output_type": "display_data"
    }
   ],
   "source": [
    "meta.groupby(\"month\")[\"id\"].count().plot(kind='bar')"
   ]
  },
  {
   "cell_type": "code",
   "execution_count": 33,
   "metadata": {},
   "outputs": [
    {
     "data": {
      "text/plain": [
       "<matplotlib.collections.PathCollection at 0x1c0ff8bc588>"
      ]
     },
     "execution_count": 33,
     "metadata": {},
     "output_type": "execute_result"
    },
    {
     "data": {
      "image/png": "[encoded data removed]",
      "text/plain": [
       "<Figure size 432x288 with 1 Axes>"
      ]
     },
     "metadata": {
      "needs_background": "light"
     },
     "output_type": "display_data"
    }
   ],
   "source": [
    "x = meta[\"year\"]\n",
    "y = meta[\"month\"]\n",
    "\n",
    "plt.scatter(x, y)"
   ]
  },
  {
   "cell_type": "code",
   "execution_count": 34,
   "metadata": {},
   "outputs": [
    {
     "data": {
      "text/plain": [
       "year  month\n",
       "1979  10       9\n",
       "1980  3        6\n",
       "      10       6\n",
       "1981  5        3\n",
       "      10       3\n",
       "              ..\n",
       "2020  1        1\n",
       "      3        1\n",
       "      5        1\n",
       "      7        1\n",
       "      9        1\n",
       "Name: id, Length: 159, dtype: int64"
      ]
     },
     "execution_count": 34,
     "metadata": {},
     "output_type": "execute_result"
    }
   ],
   "source": [
    "meta.groupby([\"year\", \"month\"])[\"id\"].count()"
   ]
  },
  {
   "cell_type": "markdown",
   "metadata": {},
   "source": [
    "## Author"
   ]
  },
  {
   "cell_type": "code",
   "execution_count": 35,
   "metadata": {},
   "outputs": [
    {
     "data": {
      "text/plain": [
       "dtype('float64')"
      ]
     },
     "execution_count": 35,
     "metadata": {},
     "output_type": "execute_result"
    }
   ],
   "source": [
    "meta[\"minutes_mean\"].dtype"
   ]
  },
  {
   "cell_type": "code",
   "execution_count": 36,
   "metadata": {},
   "outputs": [
    {
     "data": {
      "text/plain": [
       "<matplotlib.axes._subplots.AxesSubplot at 0x1c0ff8fb788>"
      ]
     },
     "execution_count": 36,
     "metadata": {},
     "output_type": "execute_result"
    },
    {
     "data": {
      "image/png": "[encoded data removed]",
      "text/plain": [
       "<Figure size 432x288 with 1 Axes>"
      ]
     },
     "metadata": {
      "needs_background": "light"
     },
     "output_type": "display_data"
    }
   ],
   "source": [
    "meta.groupby(\"author_gender\")[\"parts\"].mean().plot(kind='barh')"
   ]
  },
  {
   "cell_type": "markdown",
   "metadata": {},
   "source": [
    "## Roles"
   ]
  },
  {
   "cell_type": "markdown",
   "metadata": {},
   "source": [
    "## Gender"
   ]
  },
  {
   "cell_type": "code",
   "execution_count": null,
   "metadata": {},
   "outputs": [],
   "source": [
    "#number of episodes over time\n",
    "meta.set_index(\"id\")[\"female_actors_ratio\"].plot(kind='bar')"
   ]
  },
  {
   "cell_type": "code",
   "execution_count": null,
   "metadata": {},
   "outputs": [],
   "source": [
    "x = meta[\"year\"]\n",
    "y = meta[\"female_side_actors_ratio\"]\n",
    "\n",
    "plt.scatter(x, y)"
   ]
  },
  {
   "cell_type": "code",
   "execution_count": null,
   "metadata": {},
   "outputs": [],
   "source": [
    "meta.groupby(\"year\")[\"female_side_actors_ratio\"].max().plot(kind='bar')"
   ]
  },
  {
   "cell_type": "code",
   "execution_count": null,
   "metadata": {},
   "outputs": [],
   "source": [
    "meta.groupby(\"author_grouped\")[\"female_side_actors_ratio\"].mean().plot(kind='bar')"
   ]
  },
  {
   "cell_type": "code",
   "execution_count": null,
   "metadata": {},
   "outputs": [],
   "source": [
    "meta.groupby(\"author_grouped\")[\"female_side_actors_ratio\"].min().sort_values(ascending=False).plot(kind='bar')"
   ]
  },
  {
   "cell_type": "markdown",
   "metadata": {},
   "source": [
    "## titles"
   ]
  },
  {
   "cell_type": "code",
   "execution_count": null,
   "metadata": {},
   "outputs": [],
   "source": [
    "meta.groupby(\"year\")[\"title_colour\"].count().plot(kind='bar')"
   ]
  },
  {
   "cell_type": "code",
   "execution_count": null,
   "metadata": {},
   "outputs": [],
   "source": [
    "meta.groupby(\"year\")[\"title_colour\"].sum().plot(kind='bar')"
   ]
  },
  {
   "cell_type": "code",
   "execution_count": null,
   "metadata": {},
   "outputs": [],
   "source": [
    "meta.groupby(\"year\")[\"title_sport\"].sum().plot(kind='bar')"
   ]
  },
  {
   "cell_type": "code",
   "execution_count": null,
   "metadata": {},
   "outputs": [],
   "source": [
    "meta.groupby(\"year\")[\"title_ethnic\"].sum().plot(kind='bar')"
   ]
  },
  {
   "cell_type": "code",
   "execution_count": null,
   "metadata": {},
   "outputs": [],
   "source": [
    "meta.groupby(\"year\")[\"title_place\"].sum().plot(kind='bar')"
   ]
  },
  {
   "cell_type": "code",
   "execution_count": null,
   "metadata": {},
   "outputs": [],
   "source": [
    "meta.groupby(\"year\")[\"title_tech\"].sum().plot(kind='bar')"
   ]
  },
  {
   "cell_type": "code",
   "execution_count": null,
   "metadata": {},
   "outputs": [],
   "source": [
    "meta.groupby(\"year\")[\"title_animal\"].sum().plot(kind='bar')"
   ]
  },
  {
   "cell_type": "code",
   "execution_count": null,
   "metadata": {},
   "outputs": [],
   "source": [
    "meta.groupby(\"year\")[\"title_mystery\"].sum().plot(kind='bar')"
   ]
  },
  {
   "cell_type": "code",
   "execution_count": null,
   "metadata": {},
   "outputs": [],
   "source": [
    "meta.groupby(\"year\")[\"title_paranormal\"].sum().plot(kind='bar')"
   ]
  },
  {
   "cell_type": "code",
   "execution_count": null,
   "metadata": {},
   "outputs": [],
   "source": [
    "meta.groupby(\"year\")[\"title_death\"].sum().plot(kind='bar')"
   ]
  },
  {
   "cell_type": "code",
   "execution_count": null,
   "metadata": {},
   "outputs": [],
   "source": [
    "meta.groupby(\"year\")[\"title_person\"].sum().plot(kind='bar')"
   ]
  },
  {
   "cell_type": "code",
   "execution_count": null,
   "metadata": {},
   "outputs": [],
   "source": [
    "meta.groupby(\"year\")[\"title_danger\"].sum().plot(kind='bar')"
   ]
  },
  {
   "cell_type": "code",
   "execution_count": null,
   "metadata": {},
   "outputs": [],
   "source": [
    "meta.groupby(\"year\")[\"title_fire\"].sum().plot(kind='bar')"
   ]
  },
  {
   "cell_type": "code",
   "execution_count": null,
   "metadata": {},
   "outputs": [],
   "source": [
    "meta.groupby(\"year\")[\"title_treasure\"].sum().plot(kind='bar')"
   ]
  },
  {
   "cell_type": "markdown",
   "metadata": {},
   "source": [
    "## Rating"
   ]
  },
  {
   "cell_type": "code",
   "execution_count": null,
   "metadata": {},
   "outputs": [],
   "source": [
    "rating.columns"
   ]
  },
  {
   "cell_type": "code",
   "execution_count": null,
   "metadata": {},
   "outputs": [],
   "source": [
    "#number of episodes over time\n",
    "meta.set_index(\"id\")[\"rating\"].plot(kind='bar')"
   ]
  },
  {
   "cell_type": "code",
   "execution_count": null,
   "metadata": {},
   "outputs": [],
   "source": [
    "x = meta[\"year\"]\n",
    "y = meta[\"rating\"]\n",
    "\n",
    "plt.scatter(x, y)"
   ]
  },
  {
   "cell_type": "code",
   "execution_count": null,
   "metadata": {},
   "outputs": [],
   "source": [
    "meta.shape"
   ]
  },
  {
   "cell_type": "code",
   "execution_count": null,
   "metadata": {},
   "outputs": [],
   "source": [
    "x = meta[\"minutes\"]\n",
    "y = meta[\"rating\"]\n",
    "\n",
    "plt.scatter(x, y)"
   ]
  },
  {
   "cell_type": "code",
   "execution_count": null,
   "metadata": {},
   "outputs": [],
   "source": [
    "meta.columns"
   ]
  },
  {
   "cell_type": "markdown",
   "metadata": {},
   "source": [
    "### Author"
   ]
  },
  {
   "cell_type": "code",
   "execution_count": null,
   "metadata": {},
   "outputs": [],
   "source": [
    "meta.groupby(\"erzählt von\")[\"rating\"].count().sort_values().plot(kind='bar')"
   ]
  },
  {
   "cell_type": "code",
   "execution_count": null,
   "metadata": {},
   "outputs": [],
   "source": [
    "meta.groupby(\"author_grouped\")[\"rating\"].mean().sort_values(ascending=False).plot(kind='bar')"
   ]
  },
  {
   "cell_type": "code",
   "execution_count": null,
   "metadata": {},
   "outputs": [],
   "source": [
    "meta.groupby(\"author_gender\")[\"rating\"].mean().plot(kind='bar')"
   ]
  },
  {
   "cell_type": "markdown",
   "metadata": {},
   "source": [
    "### Actors"
   ]
  },
  {
   "cell_type": "code",
   "execution_count": null,
   "metadata": {},
   "outputs": [],
   "source": [
    "x = meta[\"female_side_actors_ratio\"]\n",
    "y = meta[\"rating\"]\n",
    "\n",
    "plt.scatter(x, y)"
   ]
  },
  {
   "cell_type": "markdown",
   "metadata": {},
   "source": [
    "### Topic\n",
    "\n",
    "Seems like sport and tech themes have slightly lower ratings"
   ]
  },
  {
   "cell_type": "code",
   "execution_count": null,
   "metadata": {},
   "outputs": [],
   "source": [
    "meta.groupby(\"title_sport\")[\"rating\"].mean().plot(kind='bar')"
   ]
  },
  {
   "cell_type": "code",
   "execution_count": null,
   "metadata": {},
   "outputs": [],
   "source": [
    "meta.groupby(\"title_tech\")[\"rating\"].mean().plot(kind='bar')"
   ]
  },
  {
   "cell_type": "code",
   "execution_count": null,
   "metadata": {},
   "outputs": [],
   "source": [
    "list(title_cat)"
   ]
  }
 ],
 "metadata": {
  "kernelspec": {
   "display_name": "py3_dreif",
   "language": "python",
   "name": "py3_dreif"
  },
  "language_info": {
   "codemirror_mode": {
    "name": "ipython",
    "version": 3
   },
   "file_extension": ".py",
   "mimetype": "text/x-python",
   "name": "python",
   "nbconvert_exporter": "python",
   "pygments_lexer": "ipython3",
   "version": "3.7.5"
  },
  "toc": {
   "base_numbering": 1,
   "nav_menu": {},
   "number_sections": true,
   "sideBar": true,
   "skip_h1_title": false,
   "title_cell": "Table of Contents",
   "title_sidebar": "Contents",
   "toc_cell": false,
   "toc_position": {
    "height": "calc(100% - 180px)",
    "left": "10px",
    "top": "150px",
    "width": "303.4px"
   },
   "toc_section_display": true,
   "toc_window_display": true
  }
 },
 "nbformat": 4,
 "nbformat_minor": 2
}
