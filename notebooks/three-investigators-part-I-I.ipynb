{
 "cells": [
  {
   "cell_type": "markdown",
   "metadata": {},
   "source": [
    "# Three investigators - part I.I\n",
    "\n",
    "A project for scraping and analysing data from a fan site on the audio book called '[The three investigators](https://en.wikipedia.org/wiki/Three_Investigators#Germany)'\n",
    "\n",
    "Part I.I: Topic modelling\n",
    "\n",
    "Using the content and title for each episode to detect the overall topic."
   ]
  },
  {
   "cell_type": "code",
   "execution_count": 1,
   "metadata": {},
   "outputs": [
    {
     "name": "stdout",
     "output_type": "stream",
     "text": [
      "3.7.5\n"
     ]
    }
   ],
   "source": [
    "#python version used for this project\n",
    "from platform import python_version\n",
    "print(python_version())"
   ]
  },
  {
   "cell_type": "markdown",
   "metadata": {},
   "source": [
    "> need to add additional modules to requirement text file !!"
   ]
  },
  {
   "cell_type": "code",
   "execution_count": 2,
   "metadata": {},
   "outputs": [],
   "source": [
    "# import modules [as specified in requirements.txt]\n",
    "import pandas as pd\n",
    "import numpy as np\n",
    "import spacy\n",
    "import nltk\n",
    "import re\n",
    "\n",
    "# for file \n",
    "import os\n",
    "\n",
    "%matplotlib inline"
   ]
  },
  {
   "cell_type": "code",
   "execution_count": 3,
   "metadata": {},
   "outputs": [],
   "source": [
    "#change directory to root folder\n",
    "os.chdir(\"..\")"
   ]
  },
  {
   "cell_type": "markdown",
   "metadata": {},
   "source": [
    "## Load data"
   ]
  },
  {
   "cell_type": "code",
   "execution_count": 51,
   "metadata": {},
   "outputs": [],
   "source": [
    "#load scraped datafiles\n",
    "meta = pd.read_csv(\".\\\\data\\\\scraped\\\\meta.csv\")\n",
    "content = pd.read_csv(\".\\\\data\\\\scraped\\\\content_all.csv\")\n",
    "\n",
    "# make all column names lower case\n",
    "df_list = [meta, content]\n",
    "\n",
    "for df in df_list:\n",
    "    df.columns = df.columns.str.lower()"
   ]
  },
  {
   "cell_type": "markdown",
   "metadata": {},
   "source": [
    "## Title"
   ]
  },
  {
   "cell_type": "markdown",
   "metadata": {},
   "source": [
    "### Standardising"
   ]
  },
  {
   "cell_type": "code",
   "execution_count": 85,
   "metadata": {},
   "outputs": [
    {
     "data": {
      "text/plain": [
       "0             der superpapagei\n",
       "1               der phantomsee\n",
       "2             der karpatenhund\n",
       "3           die schwarze katze\n",
       "4         der fluch des rubins\n",
       "                ...           \n",
       "200             das weiße grab\n",
       "201    tauchgang ins ungewisse\n",
       "202         der dunkle wächter\n",
       "203       das rätselhafte erbe\n",
       "204         und der mottenmann\n",
       "Name: titel, Length: 205, dtype: object"
      ]
     },
     "execution_count": 85,
     "metadata": {},
     "output_type": "execute_result"
    }
   ],
   "source": [
    "## make titles lower case\n",
    "title = meta[\"titel\"].str.lower()\n",
    "\n",
    "# replace values within titles\n",
    "\n",
    "# function to loop through the column and replace substrings\n",
    "def replace_values(text, dic):\n",
    "    for x, y in dic.items():\n",
    "        text = text.str.replace(x, y, regex=True)\n",
    "    return text\n",
    "\n",
    "# list of values to be replaced, including punctuation\n",
    "replace_dict = {\"hörspiel\": \"\", \n",
    "                \"[!\\\"#$%&()*+,./:;<=>?@[\\]^_`{|}~“”-]\": \"\"}\n",
    "\n",
    "# apply function\n",
    "title = replace_values(title, replace_dict)\n",
    "\n",
    "# strip white space at the end\n",
    "title = title.str.strip()\n",
    "\n",
    "title"
   ]
  },
  {
   "cell_type": "markdown",
   "metadata": {},
   "source": [
    "### remove stopwords"
   ]
  },
  {
   "cell_type": "code",
   "execution_count": 77,
   "metadata": {},
   "outputs": [
    {
     "name": "stderr",
     "output_type": "stream",
     "text": [
      "[nltk_data] Downloading package stopwords to\n",
      "[nltk_data]     C:\\Users\\lisa.hornung\\AppData\\Roaming\\nltk_data...\n",
      "[nltk_data]   Package stopwords is already up-to-date!\n"
     ]
    }
   ],
   "source": [
    "# download German stop words\n",
    "nltk.download('stopwords')\n",
    "\n",
    "from nltk.corpus import stopwords\n",
    "stop_words = set(stopwords.words('german'))"
   ]
  },
  {
   "cell_type": "code",
   "execution_count": 86,
   "metadata": {},
   "outputs": [
    {
     "data": {
      "text/plain": [
       "['superpapagei',\n",
       " 'phantomsee',\n",
       " 'karpatenhund',\n",
       " 'schwarze katze',\n",
       " 'fluch rubins',\n",
       " 'sprechende totenkopf',\n",
       " 'unheimliche drache',\n",
       " 'grüne geist',\n",
       " 'rätselhaften bilder',\n",
       " 'flüsternde mumie',\n",
       " 'gespensterschloß',\n",
       " 'seltsame wecker',\n",
       " 'lachende schatten',\n",
       " 'bergmonster',\n",
       " 'rasende löwe',\n",
       " 'zauberspiegel',\n",
       " 'gefährliche erbschaft',\n",
       " 'geisterinsel',\n",
       " 'teufelsberg',\n",
       " 'flammende spur',\n",
       " 'tanzende teufel',\n",
       " 'verschwundene schatz',\n",
       " 'aztekenschwert',\n",
       " 'silberne spinne',\n",
       " 'singende schlange',\n",
       " 'silbermine',\n",
       " 'magische kreis',\n",
       " 'doppelgänger',\n",
       " 'riff haie',\n",
       " 'narbengesicht',\n",
       " 'ameisenmensch',\n",
       " 'bedrohte ranch',\n",
       " 'rote pirat',\n",
       " 'höhlenmensch',\n",
       " 'superwal',\n",
       " 'heimliche hehler',\n",
       " 'unsichtbare gegner',\n",
       " 'perlenvögel',\n",
       " 'automarder',\n",
       " 'volk winde',\n",
       " 'weinende sarg',\n",
       " 'höllische werwolf',\n",
       " 'gestohlene preis',\n",
       " 'gold wikinger',\n",
       " 'schrullige millionär',\n",
       " 'giftige gockel',\n",
       " 'gefährlichen fässer',\n",
       " 'comicdiebe',\n",
       " 'verschwundene filmstar',\n",
       " 'riskante ritt',\n",
       " 'musikpiraten',\n",
       " 'automafia',\n",
       " 'gefahr verzug',\n",
       " 'gekaufte spieler',\n",
       " 'angriff computerviren',\n",
       " 'tatort zirkus',\n",
       " 'verrückte maler',\n",
       " 'giftiges wasser',\n",
       " 'dopingmixer',\n",
       " 'rache tigers',\n",
       " 'spuk hotel',\n",
       " 'fußballgangster',\n",
       " 'geisterstadt',\n",
       " 'diamantenschmuggel',\n",
       " 'schattenmänner',\n",
       " 'geheimnis särge',\n",
       " 'schatz bergsee',\n",
       " 'späte rache',\n",
       " 'schüsse dunkel',\n",
       " 'verschwundene seglerin',\n",
       " 'dreckiger deal',\n",
       " 'poltergeist',\n",
       " 'brennende schwert',\n",
       " 'spur raben',\n",
       " 'stimmen',\n",
       " 'pistenteufel',\n",
       " 'leere grab',\n",
       " 'bann voodoo',\n",
       " 'geheimakte ufo',\n",
       " 'verdeckte fouls',\n",
       " 'karten bösen',\n",
       " 'meuterei hoher see',\n",
       " 'musik teufels',\n",
       " 'feuerturm',\n",
       " 'nacht angst',\n",
       " 'wolfsgesicht',\n",
       " 'vampir internet',\n",
       " 'tödliche spur',\n",
       " 'feuerteufel',\n",
       " 'labyrinth götter',\n",
       " 'todesflug',\n",
       " 'geisterschiff',\n",
       " 'schwarze monster',\n",
       " 'botschaft geisterhand',\n",
       " 'rote rächer',\n",
       " 'insektenstachel',\n",
       " 'tal schreckens',\n",
       " 'rufmord',\n",
       " 'toteninsel',\n",
       " 'hexenhandy',\n",
       " 'doppelte täuschung',\n",
       " 'erbe meisterdiebs',\n",
       " 'gift per email',\n",
       " 'nebelberg',\n",
       " 'mann kopf',\n",
       " 'schatz mönche',\n",
       " 'sieben tore',\n",
       " 'gefährliches quiz',\n",
       " 'panik park',\n",
       " 'höhle grauens',\n",
       " 'schlucht dämonen',\n",
       " 'auge drachen',\n",
       " 'villa toten',\n",
       " 'tödlichem kurs',\n",
       " 'codename cobra',\n",
       " 'finstere rivale',\n",
       " 'düstere vermächtnis',\n",
       " 'geheime schlüssel',\n",
       " 'schwarze skorpion',\n",
       " 'spur',\n",
       " 'geisterzug',\n",
       " 'fußballfieber',\n",
       " 'geistercanyon',\n",
       " 'feuermond',\n",
       " 'schrecken moor',\n",
       " 'schwarze madonna',\n",
       " 'schatten hollywood',\n",
       " 'sms grab',\n",
       " 'fluch drachen',\n",
       " 'haus schreckens',\n",
       " 'spuk netz',\n",
       " 'fels dämonen',\n",
       " 'tote mönch',\n",
       " 'fluch piraten',\n",
       " 'versunkene dorf',\n",
       " 'pfad angst',\n",
       " 'geheime treppe',\n",
       " 'geheimnis diva',\n",
       " 'stadt vampire',\n",
       " 'fußballfalle',\n",
       " 'tödliches eis',\n",
       " 'poker hölle',\n",
       " 'zwillinge finsternis',\n",
       " 'rache samurai',\n",
       " 'biss bestie',\n",
       " 'grusel campbell castle',\n",
       " 'feurige flut',\n",
       " 'namenlose gegner',\n",
       " 'geisterbucht',\n",
       " 'schwarze sonne',\n",
       " 'skateboardfieber',\n",
       " 'fußballphantom',\n",
       " 'botschaft unterwelt',\n",
       " 'meister todes',\n",
       " 'netz drachen',\n",
       " 'zeichen schlangen',\n",
       " 'feuergeist',\n",
       " 'nacht tiger',\n",
       " 'geheimnisvolle botschaften',\n",
       " 'blutenden bilder',\n",
       " 'schreiende nebel',\n",
       " 'verschollene pilot',\n",
       " 'fußballteufel',\n",
       " 'schatten giganten',\n",
       " 'brennende stadt',\n",
       " 'blaue biest',\n",
       " 'gps  gangster',\n",
       " 'spur spielers',\n",
       " 'straße grauens',\n",
       " 'phantom meer',\n",
       " 'eisenmann',\n",
       " 'dämon rache',\n",
       " 'tuch toten',\n",
       " 'schattenwelt',\n",
       " 'gestohlene sieg',\n",
       " 'geist goldgräbers',\n",
       " 'gefiederte schrecken',\n",
       " 'rache untoten',\n",
       " 'flüsternden puppen',\n",
       " 'kabinett zauberers',\n",
       " 'haus henkers',\n",
       " 'letzte song',\n",
       " 'hexengarten',\n",
       " 'mann augen',\n",
       " 'insel vergessens',\n",
       " 'silberne amulett',\n",
       " 'signale jenseits',\n",
       " 'unsichtbare passagier',\n",
       " 'kammer rätsel',\n",
       " 'verbrechen',\n",
       " 'bann drachen',\n",
       " 'schrecken tiefe',\n",
       " 'zeitreisende',\n",
       " 'reich ungeheuer',\n",
       " 'geheimnis bauchredners',\n",
       " 'auge sturms',\n",
       " 'legende gaukler',\n",
       " 'grüne kobold',\n",
       " 'feuriges auge',\n",
       " 'höhenangst',\n",
       " 'weiße grab',\n",
       " 'tauchgang ungewisse',\n",
       " 'dunkle wächter',\n",
       " 'rätselhafte erbe',\n",
       " 'mottenmann']"
      ]
     },
     "execution_count": 86,
     "metadata": {},
     "output_type": "execute_result"
    }
   ],
   "source": [
    "# split titles into substrings using space as delimiter\n",
    "title_split = title.str.split(\" \")\n",
    "\n",
    "# create empty list to store titles without stop words\n",
    "title_no_stop_words = []\n",
    "\n",
    "# iterate through each word in each title and append those that are no stop words\n",
    "for words in title_split:\n",
    "    x = []\n",
    "    for word in words:\n",
    "        if word not in stop_words:\n",
    "            x.append(word)\n",
    "    title_no_stop_words.append(x)\n",
    "\n",
    "title_no_stop_words = [\" \".join(title_no_stop_words[i]) for i in range(len(title_no_stop_words))]\n",
    "title_no_stop_words"
   ]
  },
  {
   "cell_type": "markdown",
   "metadata": {},
   "source": [
    "# Content"
   ]
  },
  {
   "cell_type": "markdown",
   "metadata": {},
   "source": [
    "## Standardising"
   ]
  },
  {
   "cell_type": "code",
   "execution_count": 88,
   "metadata": {},
   "outputs": [
    {
     "data": {
      "text/plain": [
       "0      Der neueste Auftrag an die drei Detektive hört...\n",
       "1      Welches Geheimnis verbirgt sich in einem vergi...\n",
       "2      \"Bei mir spukt es!\" Mit diesem verzweifelten A...\n",
       "3      In einem kleinen Wanderzirkus wittern die drei...\n",
       "4      Alfred Hitchcock und die drei Detektive (Firme...\n",
       "                             ...                        \n",
       "201    So hatten sich die drei Detektive ihre Auszeit...\n",
       "202    Ein Kindermädchen, das nachts in Gestalt eines...\n",
       "203    Eigentlich sollte Bob in dem einsam gelegenen ...\n",
       "204    Ein merkwürdiger Anruf erreicht Die Drei Frage...\n",
       "205    In Rocky Beach taucht eine schaurige Gestalt a...\n",
       "Name: content, Length: 206, dtype: object"
      ]
     },
     "execution_count": 88,
     "metadata": {},
     "output_type": "execute_result"
    }
   ],
   "source": [
    "# list of acronyms to be replaced\n",
    "replace_dict = {\"\" : \"\"}\n",
    "\n",
    "## make content lower case\n",
    "title = content[\"content\"].str.lower()\n",
    "\n",
    "# replace values within titles\n",
    "\n",
    "# function to loop through the column and replace substrings\n",
    "def replace_values(text, dic):\n",
    "    for x, y in dic.items():\n",
    "        text = text.str.replace(x, y, regex=True)\n",
    "    return text\n",
    "\n",
    "# list of values to be replaced, including punctuation\n",
    "replace_dict = {\"[!\\\"#$%&()*+,./:;<=>?@[\\]^_`{|}~“”-]\": \"\"}\n",
    "\n",
    "\n",
    "# apply function\n",
    "title = replace_values(title, replace_dict)\n",
    "\n",
    "# strip white space at the end\n",
    "title = title.str.strip()\n",
    "\n",
    "title"
   ]
  }
 ],
 "metadata": {
  "kernelspec": {
   "display_name": "py3_dreif",
   "language": "python",
   "name": "py3_dreif"
  },
  "language_info": {
   "codemirror_mode": {
    "name": "ipython",
    "version": 3
   },
   "file_extension": ".py",
   "mimetype": "text/x-python",
   "name": "python",
   "nbconvert_exporter": "python",
   "pygments_lexer": "ipython3",
   "version": "3.7.5"
  },
  "toc": {
   "base_numbering": 1,
   "nav_menu": {},
   "number_sections": true,
   "sideBar": true,
   "skip_h1_title": false,
   "title_cell": "Table of Contents",
   "title_sidebar": "Contents",
   "toc_cell": false,
   "toc_position": {
    "height": "calc(100% - 180px)",
    "left": "10px",
    "top": "150px",
    "width": "231.133px"
   },
   "toc_section_display": true,
   "toc_window_display": true
  }
 },
 "nbformat": 4,
 "nbformat_minor": 2
}
